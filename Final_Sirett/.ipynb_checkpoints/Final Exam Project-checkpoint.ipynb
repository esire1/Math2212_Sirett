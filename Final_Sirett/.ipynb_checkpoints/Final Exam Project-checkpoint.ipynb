{
 "cells": [
  {
   "cell_type": "code",
   "execution_count": 360,
   "metadata": {},
   "outputs": [],
   "source": [
    "import  pandas  as pd\n",
    "import  numpy  as np\n",
    "import  matplotlib.pyplot  as plt"
   ]
  },
  {
   "cell_type": "markdown",
   "metadata": {},
   "source": [
    "# Task 1"
   ]
  },
  {
   "cell_type": "code",
   "execution_count": 361,
   "metadata": {
    "scrolled": true
   },
   "outputs": [
    {
     "data": {
      "text/html": [
       "<div>\n",
       "<style scoped>\n",
       "    .dataframe tbody tr th:only-of-type {\n",
       "        vertical-align: middle;\n",
       "    }\n",
       "\n",
       "    .dataframe tbody tr th {\n",
       "        vertical-align: top;\n",
       "    }\n",
       "\n",
       "    .dataframe thead th {\n",
       "        text-align: right;\n",
       "    }\n",
       "</style>\n",
       "<table border=\"1\" class=\"dataframe\">\n",
       "  <thead>\n",
       "    <tr style=\"text-align: right;\">\n",
       "      <th></th>\n",
       "      <th>census_year</th>\n",
       "      <th>state_fips_code</th>\n",
       "      <th>total_family_income</th>\n",
       "      <th>age</th>\n",
       "      <th>sex</th>\n",
       "      <th>race_general</th>\n",
       "      <th>marital_status</th>\n",
       "      <th>total_personal_income</th>\n",
       "    </tr>\n",
       "  </thead>\n",
       "  <tbody>\n",
       "    <tr>\n",
       "      <th>0</th>\n",
       "      <td>2000</td>\n",
       "      <td>Florida</td>\n",
       "      <td>14550.0</td>\n",
       "      <td>44</td>\n",
       "      <td>Male</td>\n",
       "      <td>Two major races</td>\n",
       "      <td>Married/spouse present</td>\n",
       "      <td>0.0</td>\n",
       "    </tr>\n",
       "    <tr>\n",
       "      <th>1</th>\n",
       "      <td>2000</td>\n",
       "      <td>Florida</td>\n",
       "      <td>22800.0</td>\n",
       "      <td>20</td>\n",
       "      <td>Female</td>\n",
       "      <td>White</td>\n",
       "      <td>Never married/single</td>\n",
       "      <td>13000.0</td>\n",
       "    </tr>\n",
       "    <tr>\n",
       "      <th>2</th>\n",
       "      <td>2000</td>\n",
       "      <td>Florida</td>\n",
       "      <td>0.0</td>\n",
       "      <td>20</td>\n",
       "      <td>Male</td>\n",
       "      <td>Black</td>\n",
       "      <td>Never married/single</td>\n",
       "      <td>20000.0</td>\n",
       "    </tr>\n",
       "    <tr>\n",
       "      <th>3</th>\n",
       "      <td>2000</td>\n",
       "      <td>Florida</td>\n",
       "      <td>23000.0</td>\n",
       "      <td>6</td>\n",
       "      <td>Female</td>\n",
       "      <td>White</td>\n",
       "      <td>Never married/single</td>\n",
       "      <td>NaN</td>\n",
       "    </tr>\n",
       "    <tr>\n",
       "      <th>4</th>\n",
       "      <td>2000</td>\n",
       "      <td>Florida</td>\n",
       "      <td>48000.0</td>\n",
       "      <td>55</td>\n",
       "      <td>Male</td>\n",
       "      <td>White</td>\n",
       "      <td>Married/spouse present</td>\n",
       "      <td>36000.0</td>\n",
       "    </tr>\n",
       "    <tr>\n",
       "      <th>5</th>\n",
       "      <td>2000</td>\n",
       "      <td>Florida</td>\n",
       "      <td>74000.0</td>\n",
       "      <td>43</td>\n",
       "      <td>Female</td>\n",
       "      <td>White</td>\n",
       "      <td>Married/spouse present</td>\n",
       "      <td>27000.0</td>\n",
       "    </tr>\n",
       "    <tr>\n",
       "      <th>6</th>\n",
       "      <td>2000</td>\n",
       "      <td>Florida</td>\n",
       "      <td>23000.0</td>\n",
       "      <td>60</td>\n",
       "      <td>Female</td>\n",
       "      <td>White</td>\n",
       "      <td>Married/spouse present</td>\n",
       "      <td>11800.0</td>\n",
       "    </tr>\n",
       "    <tr>\n",
       "      <th>7</th>\n",
       "      <td>2000</td>\n",
       "      <td>Florida</td>\n",
       "      <td>74000.0</td>\n",
       "      <td>47</td>\n",
       "      <td>Female</td>\n",
       "      <td>White</td>\n",
       "      <td>Married/spouse present</td>\n",
       "      <td>48000.0</td>\n",
       "    </tr>\n",
       "    <tr>\n",
       "      <th>8</th>\n",
       "      <td>2000</td>\n",
       "      <td>Florida</td>\n",
       "      <td>60000.0</td>\n",
       "      <td>54</td>\n",
       "      <td>Female</td>\n",
       "      <td>Black</td>\n",
       "      <td>Married/spouse present</td>\n",
       "      <td>40000.0</td>\n",
       "    </tr>\n",
       "    <tr>\n",
       "      <th>9</th>\n",
       "      <td>2000</td>\n",
       "      <td>Florida</td>\n",
       "      <td>14600.0</td>\n",
       "      <td>58</td>\n",
       "      <td>Female</td>\n",
       "      <td>White</td>\n",
       "      <td>Widowed</td>\n",
       "      <td>14600.0</td>\n",
       "    </tr>\n",
       "    <tr>\n",
       "      <th>10</th>\n",
       "      <td>2000</td>\n",
       "      <td>Florida</td>\n",
       "      <td>0.0</td>\n",
       "      <td>33</td>\n",
       "      <td>Female</td>\n",
       "      <td>White</td>\n",
       "      <td>Never married/single</td>\n",
       "      <td>23000.0</td>\n",
       "    </tr>\n",
       "    <tr>\n",
       "      <th>11</th>\n",
       "      <td>2000</td>\n",
       "      <td>Florida</td>\n",
       "      <td>37000.0</td>\n",
       "      <td>51</td>\n",
       "      <td>Female</td>\n",
       "      <td>White</td>\n",
       "      <td>Divorced</td>\n",
       "      <td>37000.0</td>\n",
       "    </tr>\n",
       "    <tr>\n",
       "      <th>12</th>\n",
       "      <td>2000</td>\n",
       "      <td>Florida</td>\n",
       "      <td>32000.0</td>\n",
       "      <td>62</td>\n",
       "      <td>Female</td>\n",
       "      <td>White</td>\n",
       "      <td>Divorced</td>\n",
       "      <td>32000.0</td>\n",
       "    </tr>\n",
       "    <tr>\n",
       "      <th>13</th>\n",
       "      <td>2000</td>\n",
       "      <td>Florida</td>\n",
       "      <td>113000.0</td>\n",
       "      <td>8</td>\n",
       "      <td>Male</td>\n",
       "      <td>White</td>\n",
       "      <td>Never married/single</td>\n",
       "      <td>NaN</td>\n",
       "    </tr>\n",
       "    <tr>\n",
       "      <th>14</th>\n",
       "      <td>2000</td>\n",
       "      <td>Florida</td>\n",
       "      <td>76900.0</td>\n",
       "      <td>25</td>\n",
       "      <td>Male</td>\n",
       "      <td>White</td>\n",
       "      <td>Never married/single</td>\n",
       "      <td>6000.0</td>\n",
       "    </tr>\n",
       "    <tr>\n",
       "      <th>15</th>\n",
       "      <td>2000</td>\n",
       "      <td>Florida</td>\n",
       "      <td>100100.0</td>\n",
       "      <td>44</td>\n",
       "      <td>Female</td>\n",
       "      <td>White</td>\n",
       "      <td>Married/spouse present</td>\n",
       "      <td>16100.0</td>\n",
       "    </tr>\n",
       "    <tr>\n",
       "      <th>16</th>\n",
       "      <td>2000</td>\n",
       "      <td>Florida</td>\n",
       "      <td>48000.0</td>\n",
       "      <td>28</td>\n",
       "      <td>Female</td>\n",
       "      <td>White</td>\n",
       "      <td>Married/spouse present</td>\n",
       "      <td>12000.0</td>\n",
       "    </tr>\n",
       "    <tr>\n",
       "      <th>17</th>\n",
       "      <td>2000</td>\n",
       "      <td>Florida</td>\n",
       "      <td>48000.0</td>\n",
       "      <td>1</td>\n",
       "      <td>Male</td>\n",
       "      <td>White</td>\n",
       "      <td>Never married/single</td>\n",
       "      <td>NaN</td>\n",
       "    </tr>\n",
       "    <tr>\n",
       "      <th>18</th>\n",
       "      <td>2000</td>\n",
       "      <td>Florida</td>\n",
       "      <td>57200.0</td>\n",
       "      <td>31</td>\n",
       "      <td>Male</td>\n",
       "      <td>White</td>\n",
       "      <td>Married/spouse present</td>\n",
       "      <td>20000.0</td>\n",
       "    </tr>\n",
       "    <tr>\n",
       "      <th>19</th>\n",
       "      <td>2000</td>\n",
       "      <td>Florida</td>\n",
       "      <td>43950.0</td>\n",
       "      <td>69</td>\n",
       "      <td>Female</td>\n",
       "      <td>White</td>\n",
       "      <td>Married/spouse present</td>\n",
       "      <td>4800.0</td>\n",
       "    </tr>\n",
       "    <tr>\n",
       "      <th>20</th>\n",
       "      <td>2000</td>\n",
       "      <td>Florida</td>\n",
       "      <td>49000.0</td>\n",
       "      <td>31</td>\n",
       "      <td>Male</td>\n",
       "      <td>White</td>\n",
       "      <td>Married/spouse present</td>\n",
       "      <td>28000.0</td>\n",
       "    </tr>\n",
       "    <tr>\n",
       "      <th>21</th>\n",
       "      <td>2000</td>\n",
       "      <td>Florida</td>\n",
       "      <td>31600.0</td>\n",
       "      <td>80</td>\n",
       "      <td>Female</td>\n",
       "      <td>White</td>\n",
       "      <td>Widowed</td>\n",
       "      <td>31600.0</td>\n",
       "    </tr>\n",
       "    <tr>\n",
       "      <th>22</th>\n",
       "      <td>2000</td>\n",
       "      <td>Florida</td>\n",
       "      <td>50090.0</td>\n",
       "      <td>2</td>\n",
       "      <td>Male</td>\n",
       "      <td>White</td>\n",
       "      <td>Never married/single</td>\n",
       "      <td>NaN</td>\n",
       "    </tr>\n",
       "    <tr>\n",
       "      <th>23</th>\n",
       "      <td>2000</td>\n",
       "      <td>Florida</td>\n",
       "      <td>64800.0</td>\n",
       "      <td>47</td>\n",
       "      <td>Male</td>\n",
       "      <td>White</td>\n",
       "      <td>Never married/single</td>\n",
       "      <td>49300.0</td>\n",
       "    </tr>\n",
       "    <tr>\n",
       "      <th>24</th>\n",
       "      <td>2000</td>\n",
       "      <td>Florida</td>\n",
       "      <td>90000.0</td>\n",
       "      <td>12</td>\n",
       "      <td>Male</td>\n",
       "      <td>White</td>\n",
       "      <td>Never married/single</td>\n",
       "      <td>NaN</td>\n",
       "    </tr>\n",
       "    <tr>\n",
       "      <th>25</th>\n",
       "      <td>2000</td>\n",
       "      <td>Florida</td>\n",
       "      <td>38320.0</td>\n",
       "      <td>47</td>\n",
       "      <td>Male</td>\n",
       "      <td>White</td>\n",
       "      <td>Married/spouse present</td>\n",
       "      <td>34320.0</td>\n",
       "    </tr>\n",
       "    <tr>\n",
       "      <th>26</th>\n",
       "      <td>2000</td>\n",
       "      <td>Florida</td>\n",
       "      <td>103700.0</td>\n",
       "      <td>8</td>\n",
       "      <td>Female</td>\n",
       "      <td>White</td>\n",
       "      <td>Never married/single</td>\n",
       "      <td>NaN</td>\n",
       "    </tr>\n",
       "    <tr>\n",
       "      <th>27</th>\n",
       "      <td>2000</td>\n",
       "      <td>Florida</td>\n",
       "      <td>0.0</td>\n",
       "      <td>67</td>\n",
       "      <td>Male</td>\n",
       "      <td>Black</td>\n",
       "      <td>Widowed</td>\n",
       "      <td>8400.0</td>\n",
       "    </tr>\n",
       "    <tr>\n",
       "      <th>28</th>\n",
       "      <td>2000</td>\n",
       "      <td>Florida</td>\n",
       "      <td>70700.0</td>\n",
       "      <td>17</td>\n",
       "      <td>Female</td>\n",
       "      <td>White</td>\n",
       "      <td>Never married/single</td>\n",
       "      <td>3700.0</td>\n",
       "    </tr>\n",
       "    <tr>\n",
       "      <th>29</th>\n",
       "      <td>2000</td>\n",
       "      <td>Florida</td>\n",
       "      <td>64800.0</td>\n",
       "      <td>69</td>\n",
       "      <td>Female</td>\n",
       "      <td>White</td>\n",
       "      <td>Divorced</td>\n",
       "      <td>4800.0</td>\n",
       "    </tr>\n",
       "    <tr>\n",
       "      <th>...</th>\n",
       "      <td>...</td>\n",
       "      <td>...</td>\n",
       "      <td>...</td>\n",
       "      <td>...</td>\n",
       "      <td>...</td>\n",
       "      <td>...</td>\n",
       "      <td>...</td>\n",
       "      <td>...</td>\n",
       "    </tr>\n",
       "    <tr>\n",
       "      <th>470</th>\n",
       "      <td>2000</td>\n",
       "      <td>Pennsylvania</td>\n",
       "      <td>27150.0</td>\n",
       "      <td>1</td>\n",
       "      <td>Male</td>\n",
       "      <td>White</td>\n",
       "      <td>Never married/single</td>\n",
       "      <td>NaN</td>\n",
       "    </tr>\n",
       "    <tr>\n",
       "      <th>471</th>\n",
       "      <td>2000</td>\n",
       "      <td>Pennsylvania</td>\n",
       "      <td>40300.0</td>\n",
       "      <td>29</td>\n",
       "      <td>Female</td>\n",
       "      <td>White</td>\n",
       "      <td>Married/spouse present</td>\n",
       "      <td>2800.0</td>\n",
       "    </tr>\n",
       "    <tr>\n",
       "      <th>472</th>\n",
       "      <td>2000</td>\n",
       "      <td>Pennsylvania</td>\n",
       "      <td>18600.0</td>\n",
       "      <td>61</td>\n",
       "      <td>Female</td>\n",
       "      <td>White</td>\n",
       "      <td>Never married/single</td>\n",
       "      <td>6700.0</td>\n",
       "    </tr>\n",
       "    <tr>\n",
       "      <th>473</th>\n",
       "      <td>2000</td>\n",
       "      <td>Pennsylvania</td>\n",
       "      <td>NaN</td>\n",
       "      <td>36</td>\n",
       "      <td>Male</td>\n",
       "      <td>Black</td>\n",
       "      <td>Married/spouse absent</td>\n",
       "      <td>6500.0</td>\n",
       "    </tr>\n",
       "    <tr>\n",
       "      <th>474</th>\n",
       "      <td>2000</td>\n",
       "      <td>Pennsylvania</td>\n",
       "      <td>0.0</td>\n",
       "      <td>25</td>\n",
       "      <td>Female</td>\n",
       "      <td>White</td>\n",
       "      <td>Never married/single</td>\n",
       "      <td>16000.0</td>\n",
       "    </tr>\n",
       "    <tr>\n",
       "      <th>475</th>\n",
       "      <td>2000</td>\n",
       "      <td>Pennsylvania</td>\n",
       "      <td>24000.0</td>\n",
       "      <td>41</td>\n",
       "      <td>Male</td>\n",
       "      <td>White</td>\n",
       "      <td>Married/spouse present</td>\n",
       "      <td>24000.0</td>\n",
       "    </tr>\n",
       "    <tr>\n",
       "      <th>476</th>\n",
       "      <td>2000</td>\n",
       "      <td>Pennsylvania</td>\n",
       "      <td>24000.0</td>\n",
       "      <td>9</td>\n",
       "      <td>Female</td>\n",
       "      <td>White</td>\n",
       "      <td>Never married/single</td>\n",
       "      <td>NaN</td>\n",
       "    </tr>\n",
       "    <tr>\n",
       "      <th>477</th>\n",
       "      <td>2000</td>\n",
       "      <td>Pennsylvania</td>\n",
       "      <td>17900.0</td>\n",
       "      <td>10</td>\n",
       "      <td>Female</td>\n",
       "      <td>Black</td>\n",
       "      <td>Never married/single</td>\n",
       "      <td>NaN</td>\n",
       "    </tr>\n",
       "    <tr>\n",
       "      <th>478</th>\n",
       "      <td>2000</td>\n",
       "      <td>Pennsylvania</td>\n",
       "      <td>32350.0</td>\n",
       "      <td>13</td>\n",
       "      <td>Male</td>\n",
       "      <td>White</td>\n",
       "      <td>Never married/single</td>\n",
       "      <td>NaN</td>\n",
       "    </tr>\n",
       "    <tr>\n",
       "      <th>479</th>\n",
       "      <td>2000</td>\n",
       "      <td>Pennsylvania</td>\n",
       "      <td>42300.0</td>\n",
       "      <td>3</td>\n",
       "      <td>Male</td>\n",
       "      <td>White</td>\n",
       "      <td>Never married/single</td>\n",
       "      <td>NaN</td>\n",
       "    </tr>\n",
       "    <tr>\n",
       "      <th>480</th>\n",
       "      <td>2000</td>\n",
       "      <td>Pennsylvania</td>\n",
       "      <td>17800.0</td>\n",
       "      <td>15</td>\n",
       "      <td>Male</td>\n",
       "      <td>Other</td>\n",
       "      <td>Never married/single</td>\n",
       "      <td>0.0</td>\n",
       "    </tr>\n",
       "    <tr>\n",
       "      <th>481</th>\n",
       "      <td>2000</td>\n",
       "      <td>Pennsylvania</td>\n",
       "      <td>33000.0</td>\n",
       "      <td>32</td>\n",
       "      <td>Female</td>\n",
       "      <td>Black</td>\n",
       "      <td>Never married/single</td>\n",
       "      <td>27000.0</td>\n",
       "    </tr>\n",
       "    <tr>\n",
       "      <th>482</th>\n",
       "      <td>2000</td>\n",
       "      <td>Pennsylvania</td>\n",
       "      <td>NaN</td>\n",
       "      <td>68</td>\n",
       "      <td>Male</td>\n",
       "      <td>White</td>\n",
       "      <td>Widowed</td>\n",
       "      <td>9100.0</td>\n",
       "    </tr>\n",
       "    <tr>\n",
       "      <th>483</th>\n",
       "      <td>2000</td>\n",
       "      <td>Pennsylvania</td>\n",
       "      <td>44000.0</td>\n",
       "      <td>32</td>\n",
       "      <td>Female</td>\n",
       "      <td>White</td>\n",
       "      <td>Married/spouse present</td>\n",
       "      <td>21000.0</td>\n",
       "    </tr>\n",
       "    <tr>\n",
       "      <th>484</th>\n",
       "      <td>2000</td>\n",
       "      <td>Pennsylvania</td>\n",
       "      <td>24700.0</td>\n",
       "      <td>32</td>\n",
       "      <td>Female</td>\n",
       "      <td>White</td>\n",
       "      <td>Never married/single</td>\n",
       "      <td>9500.0</td>\n",
       "    </tr>\n",
       "    <tr>\n",
       "      <th>485</th>\n",
       "      <td>2000</td>\n",
       "      <td>Pennsylvania</td>\n",
       "      <td>0.0</td>\n",
       "      <td>24</td>\n",
       "      <td>Male</td>\n",
       "      <td>White</td>\n",
       "      <td>Never married/single</td>\n",
       "      <td>2200.0</td>\n",
       "    </tr>\n",
       "    <tr>\n",
       "      <th>486</th>\n",
       "      <td>2000</td>\n",
       "      <td>Pennsylvania</td>\n",
       "      <td>69000.0</td>\n",
       "      <td>18</td>\n",
       "      <td>Male</td>\n",
       "      <td>White</td>\n",
       "      <td>Never married/single</td>\n",
       "      <td>15000.0</td>\n",
       "    </tr>\n",
       "    <tr>\n",
       "      <th>487</th>\n",
       "      <td>2000</td>\n",
       "      <td>Pennsylvania</td>\n",
       "      <td>60300.0</td>\n",
       "      <td>41</td>\n",
       "      <td>Female</td>\n",
       "      <td>White</td>\n",
       "      <td>Married/spouse present</td>\n",
       "      <td>9100.0</td>\n",
       "    </tr>\n",
       "    <tr>\n",
       "      <th>488</th>\n",
       "      <td>2000</td>\n",
       "      <td>Pennsylvania</td>\n",
       "      <td>150000.0</td>\n",
       "      <td>6</td>\n",
       "      <td>Female</td>\n",
       "      <td>White</td>\n",
       "      <td>Never married/single</td>\n",
       "      <td>NaN</td>\n",
       "    </tr>\n",
       "    <tr>\n",
       "      <th>489</th>\n",
       "      <td>2000</td>\n",
       "      <td>Pennsylvania</td>\n",
       "      <td>171000.0</td>\n",
       "      <td>38</td>\n",
       "      <td>Male</td>\n",
       "      <td>White</td>\n",
       "      <td>Married/spouse present</td>\n",
       "      <td>103000.0</td>\n",
       "    </tr>\n",
       "    <tr>\n",
       "      <th>490</th>\n",
       "      <td>2000</td>\n",
       "      <td>Pennsylvania</td>\n",
       "      <td>103000.0</td>\n",
       "      <td>43</td>\n",
       "      <td>Male</td>\n",
       "      <td>White</td>\n",
       "      <td>Married/spouse present</td>\n",
       "      <td>68000.0</td>\n",
       "    </tr>\n",
       "    <tr>\n",
       "      <th>491</th>\n",
       "      <td>2000</td>\n",
       "      <td>Pennsylvania</td>\n",
       "      <td>51700.0</td>\n",
       "      <td>76</td>\n",
       "      <td>Male</td>\n",
       "      <td>White</td>\n",
       "      <td>Married/spouse present</td>\n",
       "      <td>14500.0</td>\n",
       "    </tr>\n",
       "    <tr>\n",
       "      <th>492</th>\n",
       "      <td>2000</td>\n",
       "      <td>Pennsylvania</td>\n",
       "      <td>119800.0</td>\n",
       "      <td>24</td>\n",
       "      <td>Male</td>\n",
       "      <td>White</td>\n",
       "      <td>Never married/single</td>\n",
       "      <td>22000.0</td>\n",
       "    </tr>\n",
       "    <tr>\n",
       "      <th>493</th>\n",
       "      <td>2000</td>\n",
       "      <td>Virginia</td>\n",
       "      <td>18000.0</td>\n",
       "      <td>36</td>\n",
       "      <td>Male</td>\n",
       "      <td>White</td>\n",
       "      <td>Married/spouse present</td>\n",
       "      <td>18000.0</td>\n",
       "    </tr>\n",
       "    <tr>\n",
       "      <th>494</th>\n",
       "      <td>2000</td>\n",
       "      <td>Virginia</td>\n",
       "      <td>45100.0</td>\n",
       "      <td>5</td>\n",
       "      <td>Male</td>\n",
       "      <td>White</td>\n",
       "      <td>Never married/single</td>\n",
       "      <td>NaN</td>\n",
       "    </tr>\n",
       "    <tr>\n",
       "      <th>495</th>\n",
       "      <td>2000</td>\n",
       "      <td>Virginia</td>\n",
       "      <td>8500.0</td>\n",
       "      <td>68</td>\n",
       "      <td>Female</td>\n",
       "      <td>White</td>\n",
       "      <td>Divorced</td>\n",
       "      <td>8500.0</td>\n",
       "    </tr>\n",
       "    <tr>\n",
       "      <th>496</th>\n",
       "      <td>2000</td>\n",
       "      <td>Virginia</td>\n",
       "      <td>55400.0</td>\n",
       "      <td>12</td>\n",
       "      <td>Male</td>\n",
       "      <td>White</td>\n",
       "      <td>Never married/single</td>\n",
       "      <td>NaN</td>\n",
       "    </tr>\n",
       "    <tr>\n",
       "      <th>497</th>\n",
       "      <td>2000</td>\n",
       "      <td>Virginia</td>\n",
       "      <td>15000.0</td>\n",
       "      <td>60</td>\n",
       "      <td>Male</td>\n",
       "      <td>Black</td>\n",
       "      <td>Widowed</td>\n",
       "      <td>15000.0</td>\n",
       "    </tr>\n",
       "    <tr>\n",
       "      <th>498</th>\n",
       "      <td>2000</td>\n",
       "      <td>Virginia</td>\n",
       "      <td>NaN</td>\n",
       "      <td>60</td>\n",
       "      <td>Male</td>\n",
       "      <td>Black</td>\n",
       "      <td>Married/spouse absent</td>\n",
       "      <td>48600.0</td>\n",
       "    </tr>\n",
       "    <tr>\n",
       "      <th>499</th>\n",
       "      <td>2000</td>\n",
       "      <td>Virginia</td>\n",
       "      <td>39370.0</td>\n",
       "      <td>47</td>\n",
       "      <td>Male</td>\n",
       "      <td>White</td>\n",
       "      <td>Married/spouse present</td>\n",
       "      <td>19800.0</td>\n",
       "    </tr>\n",
       "  </tbody>\n",
       "</table>\n",
       "<p>500 rows × 8 columns</p>\n",
       "</div>"
      ],
      "text/plain": [
       "     census_year state_fips_code  total_family_income  age     sex  \\\n",
       "0           2000         Florida              14550.0   44    Male   \n",
       "1           2000         Florida              22800.0   20  Female   \n",
       "2           2000         Florida                  0.0   20    Male   \n",
       "3           2000         Florida              23000.0    6  Female   \n",
       "4           2000         Florida              48000.0   55    Male   \n",
       "5           2000         Florida              74000.0   43  Female   \n",
       "6           2000         Florida              23000.0   60  Female   \n",
       "7           2000         Florida              74000.0   47  Female   \n",
       "8           2000         Florida              60000.0   54  Female   \n",
       "9           2000         Florida              14600.0   58  Female   \n",
       "10          2000         Florida                  0.0   33  Female   \n",
       "11          2000         Florida              37000.0   51  Female   \n",
       "12          2000         Florida              32000.0   62  Female   \n",
       "13          2000         Florida             113000.0    8    Male   \n",
       "14          2000         Florida              76900.0   25    Male   \n",
       "15          2000         Florida             100100.0   44  Female   \n",
       "16          2000         Florida              48000.0   28  Female   \n",
       "17          2000         Florida              48000.0    1    Male   \n",
       "18          2000         Florida              57200.0   31    Male   \n",
       "19          2000         Florida              43950.0   69  Female   \n",
       "20          2000         Florida              49000.0   31    Male   \n",
       "21          2000         Florida              31600.0   80  Female   \n",
       "22          2000         Florida              50090.0    2    Male   \n",
       "23          2000         Florida              64800.0   47    Male   \n",
       "24          2000         Florida              90000.0   12    Male   \n",
       "25          2000         Florida              38320.0   47    Male   \n",
       "26          2000         Florida             103700.0    8  Female   \n",
       "27          2000         Florida                  0.0   67    Male   \n",
       "28          2000         Florida              70700.0   17  Female   \n",
       "29          2000         Florida              64800.0   69  Female   \n",
       "..           ...             ...                  ...  ...     ...   \n",
       "470         2000    Pennsylvania              27150.0    1    Male   \n",
       "471         2000    Pennsylvania              40300.0   29  Female   \n",
       "472         2000    Pennsylvania              18600.0   61  Female   \n",
       "473         2000    Pennsylvania                  NaN   36    Male   \n",
       "474         2000    Pennsylvania                  0.0   25  Female   \n",
       "475         2000    Pennsylvania              24000.0   41    Male   \n",
       "476         2000    Pennsylvania              24000.0    9  Female   \n",
       "477         2000    Pennsylvania              17900.0   10  Female   \n",
       "478         2000    Pennsylvania              32350.0   13    Male   \n",
       "479         2000    Pennsylvania              42300.0    3    Male   \n",
       "480         2000    Pennsylvania              17800.0   15    Male   \n",
       "481         2000    Pennsylvania              33000.0   32  Female   \n",
       "482         2000    Pennsylvania                  NaN   68    Male   \n",
       "483         2000    Pennsylvania              44000.0   32  Female   \n",
       "484         2000    Pennsylvania              24700.0   32  Female   \n",
       "485         2000    Pennsylvania                  0.0   24    Male   \n",
       "486         2000    Pennsylvania              69000.0   18    Male   \n",
       "487         2000    Pennsylvania              60300.0   41  Female   \n",
       "488         2000    Pennsylvania             150000.0    6  Female   \n",
       "489         2000    Pennsylvania             171000.0   38    Male   \n",
       "490         2000    Pennsylvania             103000.0   43    Male   \n",
       "491         2000    Pennsylvania              51700.0   76    Male   \n",
       "492         2000    Pennsylvania             119800.0   24    Male   \n",
       "493         2000        Virginia              18000.0   36    Male   \n",
       "494         2000        Virginia              45100.0    5    Male   \n",
       "495         2000        Virginia               8500.0   68  Female   \n",
       "496         2000        Virginia              55400.0   12    Male   \n",
       "497         2000        Virginia              15000.0   60    Male   \n",
       "498         2000        Virginia                  NaN   60    Male   \n",
       "499         2000        Virginia              39370.0   47    Male   \n",
       "\n",
       "        race_general          marital_status  total_personal_income  \n",
       "0    Two major races  Married/spouse present                    0.0  \n",
       "1              White    Never married/single                13000.0  \n",
       "2              Black    Never married/single                20000.0  \n",
       "3              White    Never married/single                    NaN  \n",
       "4              White  Married/spouse present                36000.0  \n",
       "5              White  Married/spouse present                27000.0  \n",
       "6              White  Married/spouse present                11800.0  \n",
       "7              White  Married/spouse present                48000.0  \n",
       "8              Black  Married/spouse present                40000.0  \n",
       "9              White                 Widowed                14600.0  \n",
       "10             White    Never married/single                23000.0  \n",
       "11             White                Divorced                37000.0  \n",
       "12             White                Divorced                32000.0  \n",
       "13             White    Never married/single                    NaN  \n",
       "14             White    Never married/single                 6000.0  \n",
       "15             White  Married/spouse present                16100.0  \n",
       "16             White  Married/spouse present                12000.0  \n",
       "17             White    Never married/single                    NaN  \n",
       "18             White  Married/spouse present                20000.0  \n",
       "19             White  Married/spouse present                 4800.0  \n",
       "20             White  Married/spouse present                28000.0  \n",
       "21             White                 Widowed                31600.0  \n",
       "22             White    Never married/single                    NaN  \n",
       "23             White    Never married/single                49300.0  \n",
       "24             White    Never married/single                    NaN  \n",
       "25             White  Married/spouse present                34320.0  \n",
       "26             White    Never married/single                    NaN  \n",
       "27             Black                 Widowed                 8400.0  \n",
       "28             White    Never married/single                 3700.0  \n",
       "29             White                Divorced                 4800.0  \n",
       "..               ...                     ...                    ...  \n",
       "470            White    Never married/single                    NaN  \n",
       "471            White  Married/spouse present                 2800.0  \n",
       "472            White    Never married/single                 6700.0  \n",
       "473            Black   Married/spouse absent                 6500.0  \n",
       "474            White    Never married/single                16000.0  \n",
       "475            White  Married/spouse present                24000.0  \n",
       "476            White    Never married/single                    NaN  \n",
       "477            Black    Never married/single                    NaN  \n",
       "478            White    Never married/single                    NaN  \n",
       "479            White    Never married/single                    NaN  \n",
       "480            Other    Never married/single                    0.0  \n",
       "481            Black    Never married/single                27000.0  \n",
       "482            White                 Widowed                 9100.0  \n",
       "483            White  Married/spouse present                21000.0  \n",
       "484            White    Never married/single                 9500.0  \n",
       "485            White    Never married/single                 2200.0  \n",
       "486            White    Never married/single                15000.0  \n",
       "487            White  Married/spouse present                 9100.0  \n",
       "488            White    Never married/single                    NaN  \n",
       "489            White  Married/spouse present               103000.0  \n",
       "490            White  Married/spouse present                68000.0  \n",
       "491            White  Married/spouse present                14500.0  \n",
       "492            White    Never married/single                22000.0  \n",
       "493            White  Married/spouse present                18000.0  \n",
       "494            White    Never married/single                    NaN  \n",
       "495            White                Divorced                 8500.0  \n",
       "496            White    Never married/single                    NaN  \n",
       "497            Black                 Widowed                15000.0  \n",
       "498            Black   Married/spouse absent                48600.0  \n",
       "499            White  Married/spouse present                19800.0  \n",
       "\n",
       "[500 rows x 8 columns]"
      ]
     },
     "execution_count": 361,
     "metadata": {},
     "output_type": "execute_result"
    }
   ],
   "source": [
    "cen = pd.read_csv('census (1).csv')\n",
    "cen"
   ]
  },
  {
   "cell_type": "markdown",
   "metadata": {},
   "source": [
    "### Initial Observations\n",
    "\n",
    "The columns of the data set are census year, state, total family income, age, sex, race (general), marital status, and total personal income. Of these, census year, state, sex, and race marital status are categorical while total family income, age, and total personal income are numerical. In total, there are 500 different entries, which is a relatively small data set. All data entries are from the year 2000. \n",
    "\n",
    "Some issues that might arise include the consistency of data. For example, it appears that not all states are represented. The ones that are represented do not appear in the same quantity, which will skew the data. The sex distribution appears to be fairly equal, which is good for analysis purposes. Another issues might arise because the prominent races that are represented are black and white, which leaves out a large percentage of the popultion to be considered. In terms of age, the spread looks like a good variety of inputs, however, certain ages will skew the data for income because younger people don't generally work and older people are generally retired. "
   ]
  },
  {
   "cell_type": "code",
   "execution_count": 362,
   "metadata": {
    "scrolled": true
   },
   "outputs": [
    {
     "data": {
      "text/plain": [
       "array([[<matplotlib.axes._subplots.AxesSubplot object at 0x12cb8a8d0>,\n",
       "        <matplotlib.axes._subplots.AxesSubplot object at 0x12d1acc10>],\n",
       "       [<matplotlib.axes._subplots.AxesSubplot object at 0x12d31c990>,\n",
       "        <matplotlib.axes._subplots.AxesSubplot object at 0x12d2d8710>]],\n",
       "      dtype=object)"
      ]
     },
     "execution_count": 362,
     "metadata": {},
     "output_type": "execute_result"
    },
    {
     "data": {
      "image/png": "[encoded data removed]",
      "text/plain": [
       "<Figure size 432x288 with 4 Axes>"
      ]
     },
     "metadata": {
      "needs_background": "light"
     },
     "output_type": "display_data"
    }
   ],
   "source": [
    "cen.hist(bins = 20)"
   ]
  },
  {
   "cell_type": "markdown",
   "metadata": {},
   "source": [
    "The numerical data of total family income and personal income appear to have some outliers. This may impact analysis and may need to be addressed. The decreased amount of participants with age has a logical reasoning for being that way, although even the younger participants vary in number."
   ]
  },
  {
   "cell_type": "code",
   "execution_count": 363,
   "metadata": {},
   "outputs": [
    {
     "data": {
      "text/html": [
       "<div>\n",
       "<style scoped>\n",
       "    .dataframe tbody tr th:only-of-type {\n",
       "        vertical-align: middle;\n",
       "    }\n",
       "\n",
       "    .dataframe tbody tr th {\n",
       "        vertical-align: top;\n",
       "    }\n",
       "\n",
       "    .dataframe thead th {\n",
       "        text-align: right;\n",
       "    }\n",
       "</style>\n",
       "<table border=\"1\" class=\"dataframe\">\n",
       "  <thead>\n",
       "    <tr style=\"text-align: right;\">\n",
       "      <th></th>\n",
       "      <th>census_year</th>\n",
       "      <th>total_family_income</th>\n",
       "      <th>age</th>\n",
       "      <th>total_personal_income</th>\n",
       "    </tr>\n",
       "  </thead>\n",
       "  <tbody>\n",
       "    <tr>\n",
       "      <th>count</th>\n",
       "      <td>500.0</td>\n",
       "      <td>485.000000</td>\n",
       "      <td>500.000000</td>\n",
       "      <td>392.000000</td>\n",
       "    </tr>\n",
       "    <tr>\n",
       "      <th>mean</th>\n",
       "      <td>2000.0</td>\n",
       "      <td>57410.981443</td>\n",
       "      <td>35.298000</td>\n",
       "      <td>29081.724490</td>\n",
       "    </tr>\n",
       "    <tr>\n",
       "      <th>std</th>\n",
       "      <td>0.0</td>\n",
       "      <td>70732.055954</td>\n",
       "      <td>21.812124</td>\n",
       "      <td>46089.291918</td>\n",
       "    </tr>\n",
       "    <tr>\n",
       "      <th>min</th>\n",
       "      <td>2000.0</td>\n",
       "      <td>0.000000</td>\n",
       "      <td>0.000000</td>\n",
       "      <td>-4400.000000</td>\n",
       "    </tr>\n",
       "    <tr>\n",
       "      <th>25%</th>\n",
       "      <td>2000.0</td>\n",
       "      <td>21500.000000</td>\n",
       "      <td>17.000000</td>\n",
       "      <td>5900.000000</td>\n",
       "    </tr>\n",
       "    <tr>\n",
       "      <th>50%</th>\n",
       "      <td>2000.0</td>\n",
       "      <td>43000.000000</td>\n",
       "      <td>35.000000</td>\n",
       "      <td>17750.000000</td>\n",
       "    </tr>\n",
       "    <tr>\n",
       "      <th>75%</th>\n",
       "      <td>2000.0</td>\n",
       "      <td>70700.000000</td>\n",
       "      <td>51.000000</td>\n",
       "      <td>37000.000000</td>\n",
       "    </tr>\n",
       "    <tr>\n",
       "      <th>max</th>\n",
       "      <td>2000.0</td>\n",
       "      <td>892050.000000</td>\n",
       "      <td>93.000000</td>\n",
       "      <td>456000.000000</td>\n",
       "    </tr>\n",
       "  </tbody>\n",
       "</table>\n",
       "</div>"
      ],
      "text/plain": [
       "       census_year  total_family_income         age  total_personal_income\n",
       "count        500.0           485.000000  500.000000             392.000000\n",
       "mean        2000.0         57410.981443   35.298000           29081.724490\n",
       "std            0.0         70732.055954   21.812124           46089.291918\n",
       "min         2000.0             0.000000    0.000000           -4400.000000\n",
       "25%         2000.0         21500.000000   17.000000            5900.000000\n",
       "50%         2000.0         43000.000000   35.000000           17750.000000\n",
       "75%         2000.0         70700.000000   51.000000           37000.000000\n",
       "max         2000.0        892050.000000   93.000000          456000.000000"
      ]
     },
     "execution_count": 363,
     "metadata": {},
     "output_type": "execute_result"
    }
   ],
   "source": [
    "cen.describe()"
   ]
  },
  {
   "cell_type": "code",
   "execution_count": 364,
   "metadata": {
    "scrolled": true
   },
   "outputs": [
    {
     "data": {
      "text/plain": [
       "<matplotlib.axes._subplots.AxesSubplot at 0x12d507b50>"
      ]
     },
     "execution_count": 364,
     "metadata": {},
     "output_type": "execute_result"
    },
    {
     "data": {
      "image/png": "[encoded data removed]",
      "text/plain": [
       "<Figure size 432x288 with 1 Axes>"
      ]
     },
     "metadata": {
      "needs_background": "light"
     },
     "output_type": "display_data"
    }
   ],
   "source": [
    "cen.boxplot()"
   ]
  },
  {
   "cell_type": "markdown",
   "metadata": {},
   "source": [
    "As noted previously, both income variables have a high percentage of outliers. While dropping outliers will not always get rid of all of them, it will help to create a better picture of the data at hand."
   ]
  },
  {
   "cell_type": "markdown",
   "metadata": {},
   "source": [
    "# Task 2"
   ]
  },
  {
   "cell_type": "markdown",
   "metadata": {},
   "source": [
    "### Part (a)\n",
    "\n",
    "Does California have a higher median family income than Texas?"
   ]
  },
  {
   "cell_type": "code",
   "execution_count": 365,
   "metadata": {
    "scrolled": true
   },
   "outputs": [
    {
     "data": {
      "text/plain": [
       "<matplotlib.axes._subplots.AxesSubplot at 0x12d668ad0>"
      ]
     },
     "execution_count": 365,
     "metadata": {},
     "output_type": "execute_result"
    },
    {
     "data": {
      "image/png": "[encoded data removed]",
      "text/plain": [
       "<Figure size 432x288 with 1 Axes>"
      ]
     },
     "metadata": {
      "needs_background": "light"
     },
     "output_type": "display_data"
    }
   ],
   "source": [
    "cen_a = cen[(cen['state_fips_code']=='California')|(cen['state_fips_code']=='Texas')]\n",
    "\n",
    "cen_avg_family_income_state = cen_a [['state_fips_code','total_family_income']].groupby('state_fips_code').median()\n",
    "\n",
    "cen_avg_family_income_state.plot(kind = 'bar')"
   ]
  },
  {
   "cell_type": "markdown",
   "metadata": {},
   "source": [
    "Upon first observations of the graph, it appears that California has a higher median family income than Texas. Further analysis of the dataframe will be done to assess fairness, outliers, and overall accuracy of the data. "
   ]
  },
  {
   "cell_type": "code",
   "execution_count": 366,
   "metadata": {},
   "outputs": [],
   "source": [
    "cen_a = cen_a.dropna()"
   ]
  },
  {
   "cell_type": "code",
   "execution_count": 367,
   "metadata": {},
   "outputs": [
    {
     "data": {
      "text/plain": [
       "array([[<matplotlib.axes._subplots.AxesSubplot object at 0x12d671750>,\n",
       "        <matplotlib.axes._subplots.AxesSubplot object at 0x12d8b5790>],\n",
       "       [<matplotlib.axes._subplots.AxesSubplot object at 0x12d7bc950>,\n",
       "        <matplotlib.axes._subplots.AxesSubplot object at 0x12d8e2b10>]],\n",
       "      dtype=object)"
      ]
     },
     "execution_count": 367,
     "metadata": {},
     "output_type": "execute_result"
    },
    {
     "data": {
      "image/png": "[encoded data removed]",
      "text/plain": [
       "<Figure size 432x288 with 4 Axes>"
      ]
     },
     "metadata": {
      "needs_background": "light"
     },
     "output_type": "display_data"
    }
   ],
   "source": [
    "cen_a.hist()"
   ]
  },
  {
   "cell_type": "markdown",
   "metadata": {},
   "source": [
    "The curve for total personal income is obscure, which might be impacted by the data points collected for age, which do not fairly represent a population. This is because the age has a great peak at around 40 years and dips around 30 years and 70 years, which is abnormal."
   ]
  },
  {
   "cell_type": "code",
   "execution_count": 368,
   "metadata": {
    "scrolled": true
   },
   "outputs": [
    {
     "data": {
      "text/plain": [
       "<matplotlib.axes._subplots.AxesSubplot at 0x12da6a150>"
      ]
     },
     "execution_count": 368,
     "metadata": {},
     "output_type": "execute_result"
    },
    {
     "data": {
      "image/png": "[encoded data removed]",
      "text/plain": [
       "<Figure size 432x288 with 1 Axes>"
      ]
     },
     "metadata": {
      "needs_background": "light"
     },
     "output_type": "display_data"
    }
   ],
   "source": [
    "cen_a['total_family_income'].hist(bins = 20)"
   ]
  },
  {
   "cell_type": "code",
   "execution_count": 369,
   "metadata": {},
   "outputs": [
    {
     "data": {
      "text/plain": [
       "<matplotlib.axes._subplots.AxesSubplot at 0x12dbc0c50>"
      ]
     },
     "execution_count": 369,
     "metadata": {},
     "output_type": "execute_result"
    },
    {
     "data": {
      "image/png": "[encoded data removed]",
      "text/plain": [
       "<Figure size 432x288 with 1 Axes>"
      ]
     },
     "metadata": {
      "needs_background": "light"
     },
     "output_type": "display_data"
    }
   ],
   "source": [
    "cen_a.boxplot(column = \"total_family_income\")"
   ]
  },
  {
   "cell_type": "code",
   "execution_count": 370,
   "metadata": {
    "scrolled": true
   },
   "outputs": [
    {
     "data": {
      "text/plain": [
       "count        75.000000\n",
       "mean      72740.933333\n",
       "std       75268.559751\n",
       "min           0.000000\n",
       "25%       32000.000000\n",
       "50%       52000.000000\n",
       "75%       83850.000000\n",
       "max      378200.000000\n",
       "Name: total_family_income, dtype: float64"
      ]
     },
     "execution_count": 370,
     "metadata": {},
     "output_type": "execute_result"
    }
   ],
   "source": [
    "cen_a['total_family_income'].describe()"
   ]
  },
  {
   "cell_type": "markdown",
   "metadata": {},
   "source": [
    "Total family income, the variable put into question in the problem, doesn't appear to have many outliers. This is good, however, the dataframe can still be made into a more accurate representation of the situation at hand through removing more outliers. "
   ]
  },
  {
   "cell_type": "code",
   "execution_count": 371,
   "metadata": {},
   "outputs": [
    {
     "data": {
      "text/plain": [
       "census_year               2000.0\n",
       "total_family_income      52000.0\n",
       "age                         45.0\n",
       "total_personal_income    17500.0\n",
       "dtype: float64"
      ]
     },
     "execution_count": 371,
     "metadata": {},
     "output_type": "execute_result"
    }
   ],
   "source": [
    "cen_a.median()"
   ]
  },
  {
   "cell_type": "code",
   "execution_count": 372,
   "metadata": {},
   "outputs": [
    {
     "name": "stdout",
     "output_type": "stream",
     "text": [
      "census_year              0.000000\n",
      "total_family_income      2.469128\n",
      "age                      0.216653\n",
      "total_personal_income    3.210702\n",
      "dtype: float64\n"
     ]
    }
   ],
   "source": [
    "print cen_a.skew()"
   ]
  },
  {
   "cell_type": "code",
   "execution_count": 373,
   "metadata": {},
   "outputs": [
    {
     "name": "stdout",
     "output_type": "stream",
     "text": [
      "census_year              0.000000e+00\n",
      "total_family_income      5.665356e+09\n",
      "age                      2.801755e+02\n",
      "total_personal_income    2.762375e+09\n",
      "dtype: float64\n"
     ]
    }
   ],
   "source": [
    "print cen_a.var()"
   ]
  },
  {
   "cell_type": "markdown",
   "metadata": {},
   "source": [
    "For California and Texas, it is evident in the histogram and box plot that there are outliers for the values of total family income and personal income. While these outliers are valid data points, they skew the analysis at hand. These outliers have resulted in a high standard deviation. Futher work will now be done to remove the outliers. While age has a small skew, it has a high variance and removing the outliers will help to make the analysis more accureate. Only total family income outliers and age outliers will be addressed as personal income outliers will correspond with total family income outliers. The IQR method will both be utilized to increase accuracy of conclusions. \n",
    "\n",
    "Another note, there are 75 values for total family income between California and Texas. While the original sample size of 500 is still relatively small, this sample size is even smaller, which will impact the accuracy of the conclusions. "
   ]
  },
  {
   "cell_type": "code",
   "execution_count": 374,
   "metadata": {},
   "outputs": [
    {
     "data": {
      "text/plain": [
       "232     45400.0\n",
       "233     50030.0\n",
       "234     44000.0\n",
       "235     32000.0\n",
       "236     32000.0\n",
       "237      4600.0\n",
       "238     56000.0\n",
       "239    348000.0\n",
       "240     27000.0\n",
       "243    150500.0\n",
       "244    237000.0\n",
       "246      9300.0\n",
       "248     40050.0\n",
       "249     19200.0\n",
       "250     37500.0\n",
       "252    141900.0\n",
       "253     45800.0\n",
       "255     38000.0\n",
       "258     51000.0\n",
       "259     55000.0\n",
       "260     59300.0\n",
       "261     58000.0\n",
       "263     13000.0\n",
       "265     63600.0\n",
       "266         0.0\n",
       "267     11300.0\n",
       "Name: total_family_income, dtype: float64"
      ]
     },
     "execution_count": 374,
     "metadata": {},
     "output_type": "execute_result"
    }
   ],
   "source": [
    "texas = cen_a[(cen_a['state_fips_code']=='Texas')]\n",
    "texas_family = texas['total_family_income']\n",
    "texas_family"
   ]
  },
  {
   "cell_type": "code",
   "execution_count": 375,
   "metadata": {
    "scrolled": false
   },
   "outputs": [
    {
     "data": {
      "text/plain": [
       "90      52000.0\n",
       "91     156000.0\n",
       "92      59000.0\n",
       "93      37500.0\n",
       "96      79000.0\n",
       "97     134000.0\n",
       "98      77000.0\n",
       "99     130000.0\n",
       "100     10000.0\n",
       "101     12000.0\n",
       "102    101800.0\n",
       "104     43900.0\n",
       "105    113710.0\n",
       "106     82300.0\n",
       "108     80300.0\n",
       "109     36100.0\n",
       "110     60980.0\n",
       "111     58760.0\n",
       "112     35000.0\n",
       "113      7400.0\n",
       "114    141000.0\n",
       "115     10200.0\n",
       "117     85400.0\n",
       "118     77700.0\n",
       "119     13500.0\n",
       "120     24800.0\n",
       "121     87100.0\n",
       "122     47300.0\n",
       "123     34850.0\n",
       "124     62000.0\n",
       "125     90000.0\n",
       "126     18000.0\n",
       "128     57190.0\n",
       "130      9700.0\n",
       "131    353100.0\n",
       "133     48000.0\n",
       "134     65000.0\n",
       "135    193000.0\n",
       "136     60000.0\n",
       "137    162600.0\n",
       "138     41500.0\n",
       "139     14900.0\n",
       "140    103000.0\n",
       "141     64800.0\n",
       "142     44000.0\n",
       "146    102000.0\n",
       "148         0.0\n",
       "149     30500.0\n",
       "151    378200.0\n",
       "Name: total_family_income, dtype: float64"
      ]
     },
     "execution_count": 375,
     "metadata": {},
     "output_type": "execute_result"
    }
   ],
   "source": [
    "california = cen_a[(cen_a['state_fips_code']=='California')]\n",
    "california_family = california['total_family_income']\n",
    "california_family"
   ]
  },
  {
   "cell_type": "code",
   "execution_count": 376,
   "metadata": {},
   "outputs": [
    {
     "data": {
      "text/plain": [
       "array([[<matplotlib.axes._subplots.AxesSubplot object at 0x12dca6b90>,\n",
       "        <matplotlib.axes._subplots.AxesSubplot object at 0x12db502d0>],\n",
       "       [<matplotlib.axes._subplots.AxesSubplot object at 0x12dd42450>,\n",
       "        <matplotlib.axes._subplots.AxesSubplot object at 0x12dd78610>]],\n",
       "      dtype=object)"
      ]
     },
     "execution_count": 376,
     "metadata": {},
     "output_type": "execute_result"
    },
    {
     "data": {
      "image/png": "[encoded data removed]",
      "text/plain": [
       "<Figure size 432x288 with 4 Axes>"
      ]
     },
     "metadata": {
      "needs_background": "light"
     },
     "output_type": "display_data"
    }
   ],
   "source": [
    "texas.hist()"
   ]
  },
  {
   "cell_type": "code",
   "execution_count": 377,
   "metadata": {
    "scrolled": true
   },
   "outputs": [
    {
     "data": {
      "text/plain": [
       "<matplotlib.axes._subplots.AxesSubplot at 0x12deea750>"
      ]
     },
     "execution_count": 377,
     "metadata": {},
     "output_type": "execute_result"
    },
    {
     "data": {
      "image/png": "[encoded data removed]",
      "text/plain": [
       "<Figure size 432x288 with 1 Axes>"
      ]
     },
     "metadata": {
      "needs_background": "light"
     },
     "output_type": "display_data"
    }
   ],
   "source": [
    "texas_family.hist(bins = 20)"
   ]
  },
  {
   "cell_type": "markdown",
   "metadata": {},
   "source": [
    "The distribution for Texas's total family incomes is abnormal and does not fit an exponential curve well. While removing outliers will help with this, it is possible that the unequal representation for age has impacted the data points for total family income. As seen above, there's a massive peak around age 40 that will severly skew the rest of the variables."
   ]
  },
  {
   "cell_type": "code",
   "execution_count": 378,
   "metadata": {},
   "outputs": [
    {
     "data": {
      "text/plain": [
       "array([[<matplotlib.axes._subplots.AxesSubplot object at 0x12de54f90>,\n",
       "        <matplotlib.axes._subplots.AxesSubplot object at 0x12e0f6dd0>],\n",
       "       [<matplotlib.axes._subplots.AxesSubplot object at 0x12dfd9f90>,\n",
       "        <matplotlib.axes._subplots.AxesSubplot object at 0x12e131190>]],\n",
       "      dtype=object)"
      ]
     },
     "execution_count": 378,
     "metadata": {},
     "output_type": "execute_result"
    },
    {
     "data": {
      "image/png": "[encoded data removed]",
      "text/plain": [
       "<Figure size 432x288 with 4 Axes>"
      ]
     },
     "metadata": {
      "needs_background": "light"
     },
     "output_type": "display_data"
    }
   ],
   "source": [
    "california.hist()"
   ]
  },
  {
   "cell_type": "code",
   "execution_count": 379,
   "metadata": {},
   "outputs": [
    {
     "data": {
      "text/plain": [
       "<matplotlib.axes._subplots.AxesSubplot at 0x12e045050>"
      ]
     },
     "execution_count": 379,
     "metadata": {},
     "output_type": "execute_result"
    },
    {
     "data": {
      "image/png": "[encoded data removed]",
      "text/plain": [
       "<Figure size 432x288 with 1 Axes>"
      ]
     },
     "metadata": {
      "needs_background": "light"
     },
     "output_type": "display_data"
    }
   ],
   "source": [
    "california_family.hist(bins = 20)"
   ]
  },
  {
   "cell_type": "markdown",
   "metadata": {},
   "source": [
    "The distribution for California's total family incomes is a bit more normal. This could be explained by the representation of age groups. While there is still a dip around age 30 and peak around age 80, it is not as severe as the Texas dataframe. Additionally, if both Texas and California had equally skewed age represenations, this would not be as impactful as having skewed ages that are totally different."
   ]
  },
  {
   "cell_type": "markdown",
   "metadata": {},
   "source": [
    "#### Removing outliers in total family income for Texas via the IQR method"
   ]
  },
  {
   "cell_type": "code",
   "execution_count": 380,
   "metadata": {
    "scrolled": false
   },
   "outputs": [
    {
     "name": "stdout",
     "output_type": "stream",
     "text": [
      "4\n",
      "1\n",
      "825.0\n",
      "88575.0\n"
     ]
    },
    {
     "data": {
      "text/html": [
       "<div>\n",
       "<style scoped>\n",
       "    .dataframe tbody tr th:only-of-type {\n",
       "        vertical-align: middle;\n",
       "    }\n",
       "\n",
       "    .dataframe tbody tr th {\n",
       "        vertical-align: top;\n",
       "    }\n",
       "\n",
       "    .dataframe thead th {\n",
       "        text-align: right;\n",
       "    }\n",
       "</style>\n",
       "<table border=\"1\" class=\"dataframe\">\n",
       "  <thead>\n",
       "    <tr style=\"text-align: right;\">\n",
       "      <th></th>\n",
       "      <th>census_year</th>\n",
       "      <th>state_fips_code</th>\n",
       "      <th>total_family_income</th>\n",
       "      <th>age</th>\n",
       "      <th>sex</th>\n",
       "      <th>race_general</th>\n",
       "      <th>marital_status</th>\n",
       "      <th>total_personal_income</th>\n",
       "    </tr>\n",
       "  </thead>\n",
       "  <tbody>\n",
       "    <tr>\n",
       "      <th>232</th>\n",
       "      <td>2000</td>\n",
       "      <td>Texas</td>\n",
       "      <td>45400.0</td>\n",
       "      <td>64</td>\n",
       "      <td>Female</td>\n",
       "      <td>White</td>\n",
       "      <td>Married/spouse present</td>\n",
       "      <td>8000.0</td>\n",
       "    </tr>\n",
       "    <tr>\n",
       "      <th>233</th>\n",
       "      <td>2000</td>\n",
       "      <td>Texas</td>\n",
       "      <td>50030.0</td>\n",
       "      <td>46</td>\n",
       "      <td>Male</td>\n",
       "      <td>White</td>\n",
       "      <td>Married/spouse present</td>\n",
       "      <td>30030.0</td>\n",
       "    </tr>\n",
       "    <tr>\n",
       "      <th>234</th>\n",
       "      <td>2000</td>\n",
       "      <td>Texas</td>\n",
       "      <td>44000.0</td>\n",
       "      <td>35</td>\n",
       "      <td>Male</td>\n",
       "      <td>White</td>\n",
       "      <td>Married/spouse present</td>\n",
       "      <td>16000.0</td>\n",
       "    </tr>\n",
       "    <tr>\n",
       "      <th>235</th>\n",
       "      <td>2000</td>\n",
       "      <td>Texas</td>\n",
       "      <td>32000.0</td>\n",
       "      <td>27</td>\n",
       "      <td>Female</td>\n",
       "      <td>White</td>\n",
       "      <td>Divorced</td>\n",
       "      <td>0.0</td>\n",
       "    </tr>\n",
       "    <tr>\n",
       "      <th>236</th>\n",
       "      <td>2000</td>\n",
       "      <td>Texas</td>\n",
       "      <td>32000.0</td>\n",
       "      <td>45</td>\n",
       "      <td>Female</td>\n",
       "      <td>Black</td>\n",
       "      <td>Married/spouse present</td>\n",
       "      <td>10000.0</td>\n",
       "    </tr>\n",
       "  </tbody>\n",
       "</table>\n",
       "</div>"
      ],
      "text/plain": [
       "     census_year state_fips_code  total_family_income  age     sex  \\\n",
       "232         2000           Texas              45400.0   64  Female   \n",
       "233         2000           Texas              50030.0   46    Male   \n",
       "234         2000           Texas              44000.0   35    Male   \n",
       "235         2000           Texas              32000.0   27  Female   \n",
       "236         2000           Texas              32000.0   45  Female   \n",
       "\n",
       "    race_general          marital_status  total_personal_income  \n",
       "232        White  Married/spouse present                 8000.0  \n",
       "233        White  Married/spouse present                30030.0  \n",
       "234        White  Married/spouse present                16000.0  \n",
       "235        White                Divorced                    0.0  \n",
       "236        Black  Married/spouse present                10000.0  "
      ]
     },
     "execution_count": 380,
     "metadata": {},
     "output_type": "execute_result"
    }
   ],
   "source": [
    "family_income_texas = texas['total_family_income']\n",
    "family_income_texas_median = family_income_texas.median()\n",
    "family_income_texas_iqr = family_income_texas.quantile(0.75) - family_income_texas.quantile(0.25)\n",
    "\n",
    "print len(texas[family_income_texas > family_income_texas_median+1.5*family_income_texas_iqr])\n",
    "print len(texas[family_income_texas < family_income_texas_median-1.5*family_income_texas_iqr])\n",
    "\n",
    "texas_median_outlier_drop = texas.drop(\n",
    "    texas.index[\n",
    "        (family_income_texas> family_income_texas_median+1.5*family_income_texas_iqr) | (family_income_texas<family_income_texas_median-1.5*family_income_texas_iqr)\n",
    "    ]\n",
    ")\n",
    "\n",
    "print family_income_texas_median - 1.5*family_income_texas_iqr\n",
    "print family_income_texas_median + 1.5*family_income_texas_iqr\n",
    "\n",
    "texas_median_outlier_drop.head()"
   ]
  },
  {
   "cell_type": "markdown",
   "metadata": {},
   "source": [
    "#### Removing outliers in age for Texas via the IQR method"
   ]
  },
  {
   "cell_type": "code",
   "execution_count": 381,
   "metadata": {
    "scrolled": true
   },
   "outputs": [
    {
     "name": "stdout",
     "output_type": "stream",
     "text": [
      "1\n",
      "3\n",
      "20.25\n",
      "66.75\n"
     ]
    },
    {
     "data": {
      "text/html": [
       "<div>\n",
       "<style scoped>\n",
       "    .dataframe tbody tr th:only-of-type {\n",
       "        vertical-align: middle;\n",
       "    }\n",
       "\n",
       "    .dataframe tbody tr th {\n",
       "        vertical-align: top;\n",
       "    }\n",
       "\n",
       "    .dataframe thead th {\n",
       "        text-align: right;\n",
       "    }\n",
       "</style>\n",
       "<table border=\"1\" class=\"dataframe\">\n",
       "  <thead>\n",
       "    <tr style=\"text-align: right;\">\n",
       "      <th></th>\n",
       "      <th>census_year</th>\n",
       "      <th>state_fips_code</th>\n",
       "      <th>total_family_income</th>\n",
       "      <th>age</th>\n",
       "      <th>sex</th>\n",
       "      <th>race_general</th>\n",
       "      <th>marital_status</th>\n",
       "      <th>total_personal_income</th>\n",
       "    </tr>\n",
       "  </thead>\n",
       "  <tbody>\n",
       "    <tr>\n",
       "      <th>232</th>\n",
       "      <td>2000</td>\n",
       "      <td>Texas</td>\n",
       "      <td>45400.0</td>\n",
       "      <td>64</td>\n",
       "      <td>Female</td>\n",
       "      <td>White</td>\n",
       "      <td>Married/spouse present</td>\n",
       "      <td>8000.0</td>\n",
       "    </tr>\n",
       "    <tr>\n",
       "      <th>233</th>\n",
       "      <td>2000</td>\n",
       "      <td>Texas</td>\n",
       "      <td>50030.0</td>\n",
       "      <td>46</td>\n",
       "      <td>Male</td>\n",
       "      <td>White</td>\n",
       "      <td>Married/spouse present</td>\n",
       "      <td>30030.0</td>\n",
       "    </tr>\n",
       "    <tr>\n",
       "      <th>234</th>\n",
       "      <td>2000</td>\n",
       "      <td>Texas</td>\n",
       "      <td>44000.0</td>\n",
       "      <td>35</td>\n",
       "      <td>Male</td>\n",
       "      <td>White</td>\n",
       "      <td>Married/spouse present</td>\n",
       "      <td>16000.0</td>\n",
       "    </tr>\n",
       "    <tr>\n",
       "      <th>235</th>\n",
       "      <td>2000</td>\n",
       "      <td>Texas</td>\n",
       "      <td>32000.0</td>\n",
       "      <td>27</td>\n",
       "      <td>Female</td>\n",
       "      <td>White</td>\n",
       "      <td>Divorced</td>\n",
       "      <td>0.0</td>\n",
       "    </tr>\n",
       "    <tr>\n",
       "      <th>236</th>\n",
       "      <td>2000</td>\n",
       "      <td>Texas</td>\n",
       "      <td>32000.0</td>\n",
       "      <td>45</td>\n",
       "      <td>Female</td>\n",
       "      <td>Black</td>\n",
       "      <td>Married/spouse present</td>\n",
       "      <td>10000.0</td>\n",
       "    </tr>\n",
       "  </tbody>\n",
       "</table>\n",
       "</div>"
      ],
      "text/plain": [
       "     census_year state_fips_code  total_family_income  age     sex  \\\n",
       "232         2000           Texas              45400.0   64  Female   \n",
       "233         2000           Texas              50030.0   46    Male   \n",
       "234         2000           Texas              44000.0   35    Male   \n",
       "235         2000           Texas              32000.0   27  Female   \n",
       "236         2000           Texas              32000.0   45  Female   \n",
       "\n",
       "    race_general          marital_status  total_personal_income  \n",
       "232        White  Married/spouse present                 8000.0  \n",
       "233        White  Married/spouse present                30030.0  \n",
       "234        White  Married/spouse present                16000.0  \n",
       "235        White                Divorced                    0.0  \n",
       "236        Black  Married/spouse present                10000.0  "
      ]
     },
     "execution_count": 381,
     "metadata": {},
     "output_type": "execute_result"
    }
   ],
   "source": [
    "age_texas = texas['age']\n",
    "age_texas_median = age_texas.median()\n",
    "age_texas_iqr = age_texas.quantile(0.75) - age_texas.quantile(0.25)\n",
    "\n",
    "print len(texas[age_texas > age_texas_median+1.5*age_texas_iqr])\n",
    "print len(texas[age_texas < age_texas_median-1.5*age_texas_iqr])\n",
    "\n",
    "texas_median_outlier_drop_final = texas.drop(\n",
    "    texas.index[\n",
    "        (age_texas> age_texas_median+1.5*age_texas_iqr) | (age_texas<age_texas_median-1.5*age_texas_iqr)\n",
    "    ]\n",
    ")\n",
    "\n",
    "print age_texas_median - 1.5*age_texas_iqr\n",
    "print age_texas_median + 1.5*age_texas_iqr\n",
    "\n",
    "texas_median_outlier_drop_final.head()"
   ]
  },
  {
   "cell_type": "markdown",
   "metadata": {},
   "source": [
    "#### Removing outliers for total family income in California via the IQR method"
   ]
  },
  {
   "cell_type": "code",
   "execution_count": 382,
   "metadata": {
    "scrolled": false
   },
   "outputs": [
    {
     "name": "stdout",
     "output_type": "stream",
     "text": [
      "5\n",
      "0\n",
      "-22500.0\n",
      "142500.0\n"
     ]
    },
    {
     "data": {
      "text/html": [
       "<div>\n",
       "<style scoped>\n",
       "    .dataframe tbody tr th:only-of-type {\n",
       "        vertical-align: middle;\n",
       "    }\n",
       "\n",
       "    .dataframe tbody tr th {\n",
       "        vertical-align: top;\n",
       "    }\n",
       "\n",
       "    .dataframe thead th {\n",
       "        text-align: right;\n",
       "    }\n",
       "</style>\n",
       "<table border=\"1\" class=\"dataframe\">\n",
       "  <thead>\n",
       "    <tr style=\"text-align: right;\">\n",
       "      <th></th>\n",
       "      <th>census_year</th>\n",
       "      <th>state_fips_code</th>\n",
       "      <th>total_family_income</th>\n",
       "      <th>age</th>\n",
       "      <th>sex</th>\n",
       "      <th>race_general</th>\n",
       "      <th>marital_status</th>\n",
       "      <th>total_personal_income</th>\n",
       "    </tr>\n",
       "  </thead>\n",
       "  <tbody>\n",
       "    <tr>\n",
       "      <th>90</th>\n",
       "      <td>2000</td>\n",
       "      <td>California</td>\n",
       "      <td>52000.0</td>\n",
       "      <td>40</td>\n",
       "      <td>Female</td>\n",
       "      <td>White</td>\n",
       "      <td>Married/spouse present</td>\n",
       "      <td>27000.0</td>\n",
       "    </tr>\n",
       "    <tr>\n",
       "      <th>92</th>\n",
       "      <td>2000</td>\n",
       "      <td>California</td>\n",
       "      <td>59000.0</td>\n",
       "      <td>80</td>\n",
       "      <td>Male</td>\n",
       "      <td>White</td>\n",
       "      <td>Married/spouse present</td>\n",
       "      <td>52100.0</td>\n",
       "    </tr>\n",
       "    <tr>\n",
       "      <th>93</th>\n",
       "      <td>2000</td>\n",
       "      <td>California</td>\n",
       "      <td>37500.0</td>\n",
       "      <td>46</td>\n",
       "      <td>Female</td>\n",
       "      <td>White</td>\n",
       "      <td>Married/spouse present</td>\n",
       "      <td>17500.0</td>\n",
       "    </tr>\n",
       "    <tr>\n",
       "      <th>96</th>\n",
       "      <td>2000</td>\n",
       "      <td>California</td>\n",
       "      <td>79000.0</td>\n",
       "      <td>26</td>\n",
       "      <td>Female</td>\n",
       "      <td>White</td>\n",
       "      <td>Never married/single</td>\n",
       "      <td>25000.0</td>\n",
       "    </tr>\n",
       "    <tr>\n",
       "      <th>97</th>\n",
       "      <td>2000</td>\n",
       "      <td>California</td>\n",
       "      <td>134000.0</td>\n",
       "      <td>58</td>\n",
       "      <td>Male</td>\n",
       "      <td>White</td>\n",
       "      <td>Married/spouse present</td>\n",
       "      <td>134000.0</td>\n",
       "    </tr>\n",
       "  </tbody>\n",
       "</table>\n",
       "</div>"
      ],
      "text/plain": [
       "    census_year state_fips_code  total_family_income  age     sex  \\\n",
       "90         2000      California              52000.0   40  Female   \n",
       "92         2000      California              59000.0   80    Male   \n",
       "93         2000      California              37500.0   46  Female   \n",
       "96         2000      California              79000.0   26  Female   \n",
       "97         2000      California             134000.0   58    Male   \n",
       "\n",
       "   race_general          marital_status  total_personal_income  \n",
       "90        White  Married/spouse present                27000.0  \n",
       "92        White  Married/spouse present                52100.0  \n",
       "93        White  Married/spouse present                17500.0  \n",
       "96        White    Never married/single                25000.0  \n",
       "97        White  Married/spouse present               134000.0  "
      ]
     },
     "execution_count": 382,
     "metadata": {},
     "output_type": "execute_result"
    }
   ],
   "source": [
    "family_income_california = california['total_family_income']\n",
    "family_income_california_median = family_income_california.median()\n",
    "family_income_california_iqr = family_income_california.quantile(0.75) - family_income_california.quantile(0.25)\n",
    "\n",
    "print len(california[family_income_california > family_income_california_median+1.5*family_income_california_iqr])\n",
    "print len(california[family_income_california < family_income_california_median-1.5*family_income_california_iqr])\n",
    "\n",
    "california_median_outlier_drop = california.drop(\n",
    "    california.index[\n",
    "        (family_income_california > family_income_california_median+1.5*family_income_california_iqr) | (family_income_california<family_income_california_median-1.5*family_income_california_iqr)\n",
    "    ]\n",
    ")\n",
    "\n",
    "print family_income_california_median - 1.5*family_income_california_iqr\n",
    "print family_income_california_median + 1.5*family_income_california_iqr\n",
    "\n",
    "california_median_outlier_drop.head()"
   ]
  },
  {
   "cell_type": "markdown",
   "metadata": {},
   "source": [
    "#### Removing outliers in age for California via the IQR method"
   ]
  },
  {
   "cell_type": "code",
   "execution_count": 383,
   "metadata": {},
   "outputs": [
    {
     "name": "stdout",
     "output_type": "stream",
     "text": [
      "0\n",
      "0\n",
      "0.0\n",
      "90.0\n"
     ]
    },
    {
     "data": {
      "text/html": [
       "<div>\n",
       "<style scoped>\n",
       "    .dataframe tbody tr th:only-of-type {\n",
       "        vertical-align: middle;\n",
       "    }\n",
       "\n",
       "    .dataframe tbody tr th {\n",
       "        vertical-align: top;\n",
       "    }\n",
       "\n",
       "    .dataframe thead th {\n",
       "        text-align: right;\n",
       "    }\n",
       "</style>\n",
       "<table border=\"1\" class=\"dataframe\">\n",
       "  <thead>\n",
       "    <tr style=\"text-align: right;\">\n",
       "      <th></th>\n",
       "      <th>census_year</th>\n",
       "      <th>state_fips_code</th>\n",
       "      <th>total_family_income</th>\n",
       "      <th>age</th>\n",
       "      <th>sex</th>\n",
       "      <th>race_general</th>\n",
       "      <th>marital_status</th>\n",
       "      <th>total_personal_income</th>\n",
       "    </tr>\n",
       "  </thead>\n",
       "  <tbody>\n",
       "    <tr>\n",
       "      <th>90</th>\n",
       "      <td>2000</td>\n",
       "      <td>California</td>\n",
       "      <td>52000.0</td>\n",
       "      <td>40</td>\n",
       "      <td>Female</td>\n",
       "      <td>White</td>\n",
       "      <td>Married/spouse present</td>\n",
       "      <td>27000.0</td>\n",
       "    </tr>\n",
       "    <tr>\n",
       "      <th>91</th>\n",
       "      <td>2000</td>\n",
       "      <td>California</td>\n",
       "      <td>156000.0</td>\n",
       "      <td>65</td>\n",
       "      <td>Female</td>\n",
       "      <td>White</td>\n",
       "      <td>Married/spouse present</td>\n",
       "      <td>10000.0</td>\n",
       "    </tr>\n",
       "    <tr>\n",
       "      <th>92</th>\n",
       "      <td>2000</td>\n",
       "      <td>California</td>\n",
       "      <td>59000.0</td>\n",
       "      <td>80</td>\n",
       "      <td>Male</td>\n",
       "      <td>White</td>\n",
       "      <td>Married/spouse present</td>\n",
       "      <td>52100.0</td>\n",
       "    </tr>\n",
       "    <tr>\n",
       "      <th>93</th>\n",
       "      <td>2000</td>\n",
       "      <td>California</td>\n",
       "      <td>37500.0</td>\n",
       "      <td>46</td>\n",
       "      <td>Female</td>\n",
       "      <td>White</td>\n",
       "      <td>Married/spouse present</td>\n",
       "      <td>17500.0</td>\n",
       "    </tr>\n",
       "    <tr>\n",
       "      <th>96</th>\n",
       "      <td>2000</td>\n",
       "      <td>California</td>\n",
       "      <td>79000.0</td>\n",
       "      <td>26</td>\n",
       "      <td>Female</td>\n",
       "      <td>White</td>\n",
       "      <td>Never married/single</td>\n",
       "      <td>25000.0</td>\n",
       "    </tr>\n",
       "  </tbody>\n",
       "</table>\n",
       "</div>"
      ],
      "text/plain": [
       "    census_year state_fips_code  total_family_income  age     sex  \\\n",
       "90         2000      California              52000.0   40  Female   \n",
       "91         2000      California             156000.0   65  Female   \n",
       "92         2000      California              59000.0   80    Male   \n",
       "93         2000      California              37500.0   46  Female   \n",
       "96         2000      California              79000.0   26  Female   \n",
       "\n",
       "   race_general          marital_status  total_personal_income  \n",
       "90        White  Married/spouse present                27000.0  \n",
       "91        White  Married/spouse present                10000.0  \n",
       "92        White  Married/spouse present                52100.0  \n",
       "93        White  Married/spouse present                17500.0  \n",
       "96        White    Never married/single                25000.0  "
      ]
     },
     "execution_count": 383,
     "metadata": {},
     "output_type": "execute_result"
    }
   ],
   "source": [
    "age_california = california['age']\n",
    "age_california_median = age_california.median()\n",
    "age_california_iqr = age_california.quantile(0.75) - age_california.quantile(0.25)\n",
    "\n",
    "print len(california[age_california > age_california_median+1.5*age_california_iqr])\n",
    "print len(california[age_california < age_california_median-1.5*age_california_iqr])\n",
    "\n",
    "california_median_outlier_drop_final = california.drop(\n",
    "    california.index[\n",
    "        (age_california> age_california_median+1.5*age_california_iqr) | (age_california<age_california_median-1.5*age_california_iqr)\n",
    "    ]\n",
    ")\n",
    "\n",
    "print age_california_median - 1.5*age_california_iqr\n",
    "print age_california_median + 1.5*age_california_iqr\n",
    "\n",
    "california_median_outlier_drop_final.head()"
   ]
  },
  {
   "cell_type": "code",
   "execution_count": 384,
   "metadata": {},
   "outputs": [
    {
     "data": {
      "text/plain": [
       "array([[<matplotlib.axes._subplots.AxesSubplot object at 0x12e305910>,\n",
       "        <matplotlib.axes._subplots.AxesSubplot object at 0x12e3a3090>],\n",
       "       [<matplotlib.axes._subplots.AxesSubplot object at 0x12e4a4dd0>,\n",
       "        <matplotlib.axes._subplots.AxesSubplot object at 0x12e4dbdd0>]],\n",
       "      dtype=object)"
      ]
     },
     "execution_count": 384,
     "metadata": {},
     "output_type": "execute_result"
    },
    {
     "data": {
      "image/png": "[encoded data removed]",
      "text/plain": [
       "<Figure size 432x288 with 4 Axes>"
      ]
     },
     "metadata": {
      "needs_background": "light"
     },
     "output_type": "display_data"
    }
   ],
   "source": [
    "texas_median_outlier_drop_final.hist()"
   ]
  },
  {
   "cell_type": "code",
   "execution_count": 385,
   "metadata": {},
   "outputs": [
    {
     "data": {
      "text/plain": [
       "<matplotlib.axes._subplots.AxesSubplot at 0x12e573190>"
      ]
     },
     "execution_count": 385,
     "metadata": {},
     "output_type": "execute_result"
    },
    {
     "data": {
      "image/png": "[encoded data removed]",
      "text/plain": [
       "<Figure size 432x288 with 1 Axes>"
      ]
     },
     "metadata": {
      "needs_background": "light"
     },
     "output_type": "display_data"
    }
   ],
   "source": [
    "texas_median_outlier_drop_final.boxplot()"
   ]
  },
  {
   "cell_type": "code",
   "execution_count": 386,
   "metadata": {
    "scrolled": false
   },
   "outputs": [
    {
     "data": {
      "text/plain": [
       "array([[<matplotlib.axes._subplots.AxesSubplot object at 0x12e7e4450>,\n",
       "        <matplotlib.axes._subplots.AxesSubplot object at 0x12e7641d0>],\n",
       "       [<matplotlib.axes._subplots.AxesSubplot object at 0x12e79b350>,\n",
       "        <matplotlib.axes._subplots.AxesSubplot object at 0x12e8b1510>]],\n",
       "      dtype=object)"
      ]
     },
     "execution_count": 386,
     "metadata": {},
     "output_type": "execute_result"
    },
    {
     "data": {
      "image/png": "[encoded data removed]",
      "text/plain": [
       "<Figure size 432x288 with 4 Axes>"
      ]
     },
     "metadata": {
      "needs_background": "light"
     },
     "output_type": "display_data"
    }
   ],
   "source": [
    "california_median_outlier_drop_final.hist()"
   ]
  },
  {
   "cell_type": "code",
   "execution_count": 387,
   "metadata": {},
   "outputs": [
    {
     "data": {
      "text/plain": [
       "<matplotlib.axes._subplots.AxesSubplot at 0x12e969050>"
      ]
     },
     "execution_count": 387,
     "metadata": {},
     "output_type": "execute_result"
    },
    {
     "data": {
      "image/png": "[encoded data removed]",
      "text/plain": [
       "<Figure size 432x288 with 1 Axes>"
      ]
     },
     "metadata": {
      "needs_background": "light"
     },
     "output_type": "display_data"
    }
   ],
   "source": [
    "california_median_outlier_drop_final.boxplot()"
   ]
  },
  {
   "cell_type": "markdown",
   "metadata": {},
   "source": [
    "It appears that removing outliers has substantially improved the normalness of the curves for total family income. This will help improve the accuracy of the analysis."
   ]
  },
  {
   "cell_type": "code",
   "execution_count": 388,
   "metadata": {},
   "outputs": [
    {
     "data": {
      "text/plain": [
       "<matplotlib.axes._subplots.AxesSubplot at 0x12ec42b90>"
      ]
     },
     "execution_count": 388,
     "metadata": {},
     "output_type": "execute_result"
    },
    {
     "data": {
      "image/png": "[encoded data removed]",
      "text/plain": [
       "<Figure size 432x288 with 1 Axes>"
      ]
     },
     "metadata": {
      "needs_background": "light"
     },
     "output_type": "display_data"
    },
    {
     "data": {
      "image/png": "[encoded data removed]",
      "text/plain": [
       "<Figure size 432x288 with 1 Axes>"
      ]
     },
     "metadata": {
      "needs_background": "light"
     },
     "output_type": "display_data"
    }
   ],
   "source": [
    "texas_median_drop_family_income_state = texas_median_outlier_drop_final [['state_fips_code','total_family_income']].groupby('state_fips_code').median()\n",
    "texas_median_drop_family_income_state.plot(kind = 'bar')\n",
    "\n",
    "california_median_drop_family_income_state = california_median_outlier_drop_final [['state_fips_code','total_family_income']].groupby('state_fips_code').median()\n",
    "california_median_drop_family_income_state.plot(kind = 'bar')"
   ]
  },
  {
   "cell_type": "markdown",
   "metadata": {},
   "source": [
    "After removing outliers, it remains evident that California has a substantially higher median family income than Texas, having around a 10000 dollar difference. "
   ]
  },
  {
   "cell_type": "markdown",
   "metadata": {},
   "source": [
    "### Part (b)\n",
    "\n",
    "Is the proportion of families that earn less than 15,000 dollars greater than than the proportion of familes that make above 100,000 dollars?"
   ]
  },
  {
   "cell_type": "code",
   "execution_count": 389,
   "metadata": {},
   "outputs": [
    {
     "data": {
      "text/html": [
       "<div>\n",
       "<style scoped>\n",
       "    .dataframe tbody tr th:only-of-type {\n",
       "        vertical-align: middle;\n",
       "    }\n",
       "\n",
       "    .dataframe tbody tr th {\n",
       "        vertical-align: top;\n",
       "    }\n",
       "\n",
       "    .dataframe thead th {\n",
       "        text-align: right;\n",
       "    }\n",
       "</style>\n",
       "<table border=\"1\" class=\"dataframe\">\n",
       "  <thead>\n",
       "    <tr style=\"text-align: right;\">\n",
       "      <th></th>\n",
       "      <th>census_year</th>\n",
       "      <th>total_family_income</th>\n",
       "      <th>age</th>\n",
       "      <th>total_personal_income</th>\n",
       "    </tr>\n",
       "  </thead>\n",
       "  <tbody>\n",
       "    <tr>\n",
       "      <th>count</th>\n",
       "      <td>91.0</td>\n",
       "      <td>91.000000</td>\n",
       "      <td>91.000000</td>\n",
       "      <td>70.000000</td>\n",
       "    </tr>\n",
       "    <tr>\n",
       "      <th>mean</th>\n",
       "      <td>2000.0</td>\n",
       "      <td>7668.131868</td>\n",
       "      <td>36.978022</td>\n",
       "      <td>9026.914286</td>\n",
       "    </tr>\n",
       "    <tr>\n",
       "      <th>std</th>\n",
       "      <td>0.0</td>\n",
       "      <td>5322.843207</td>\n",
       "      <td>25.739713</td>\n",
       "      <td>9832.561367</td>\n",
       "    </tr>\n",
       "    <tr>\n",
       "      <th>min</th>\n",
       "      <td>2000.0</td>\n",
       "      <td>0.000000</td>\n",
       "      <td>0.000000</td>\n",
       "      <td>0.000000</td>\n",
       "    </tr>\n",
       "    <tr>\n",
       "      <th>25%</th>\n",
       "      <td>2000.0</td>\n",
       "      <td>2100.000000</td>\n",
       "      <td>16.000000</td>\n",
       "      <td>1650.000000</td>\n",
       "    </tr>\n",
       "    <tr>\n",
       "      <th>50%</th>\n",
       "      <td>2000.0</td>\n",
       "      <td>9300.000000</td>\n",
       "      <td>32.000000</td>\n",
       "      <td>7210.000000</td>\n",
       "    </tr>\n",
       "    <tr>\n",
       "      <th>75%</th>\n",
       "      <td>2000.0</td>\n",
       "      <td>12500.000000</td>\n",
       "      <td>59.000000</td>\n",
       "      <td>12600.000000</td>\n",
       "    </tr>\n",
       "    <tr>\n",
       "      <th>max</th>\n",
       "      <td>2000.0</td>\n",
       "      <td>15000.000000</td>\n",
       "      <td>93.000000</td>\n",
       "      <td>51000.000000</td>\n",
       "    </tr>\n",
       "  </tbody>\n",
       "</table>\n",
       "</div>"
      ],
      "text/plain": [
       "       census_year  total_family_income        age  total_personal_income\n",
       "count         91.0            91.000000  91.000000              70.000000\n",
       "mean        2000.0          7668.131868  36.978022            9026.914286\n",
       "std            0.0          5322.843207  25.739713            9832.561367\n",
       "min         2000.0             0.000000   0.000000               0.000000\n",
       "25%         2000.0          2100.000000  16.000000            1650.000000\n",
       "50%         2000.0          9300.000000  32.000000            7210.000000\n",
       "75%         2000.0         12500.000000  59.000000           12600.000000\n",
       "max         2000.0         15000.000000  93.000000           51000.000000"
      ]
     },
     "execution_count": 389,
     "metadata": {},
     "output_type": "execute_result"
    }
   ],
   "source": [
    "cen_less_than = cen[cen['total_family_income']<=15000]\n",
    "cen_less_than.describe()"
   ]
  },
  {
   "cell_type": "code",
   "execution_count": 390,
   "metadata": {},
   "outputs": [],
   "source": [
    "cen_less_than = cen_less_than.dropna()"
   ]
  },
  {
   "cell_type": "code",
   "execution_count": 391,
   "metadata": {
    "scrolled": true
   },
   "outputs": [
    {
     "data": {
      "text/plain": [
       "array([[<matplotlib.axes._subplots.AxesSubplot object at 0x12eb5b910>,\n",
       "        <matplotlib.axes._subplots.AxesSubplot object at 0x12eb4f810>],\n",
       "       [<matplotlib.axes._subplots.AxesSubplot object at 0x12eca8c50>,\n",
       "        <matplotlib.axes._subplots.AxesSubplot object at 0x12eddbf90>]],\n",
       "      dtype=object)"
      ]
     },
     "execution_count": 391,
     "metadata": {},
     "output_type": "execute_result"
    },
    {
     "data": {
      "image/png": "[encoded data removed]",
      "text/plain": [
       "<Figure size 432x288 with 4 Axes>"
      ]
     },
     "metadata": {
      "needs_background": "light"
     },
     "output_type": "display_data"
    }
   ],
   "source": [
    "cen_less_than.hist()"
   ]
  },
  {
   "cell_type": "code",
   "execution_count": 392,
   "metadata": {},
   "outputs": [
    {
     "data": {
      "text/plain": [
       "<matplotlib.axes._subplots.AxesSubplot at 0x12ee29b50>"
      ]
     },
     "execution_count": 392,
     "metadata": {},
     "output_type": "execute_result"
    },
    {
     "data": {
      "image/png": "[encoded data removed]",
      "text/plain": [
       "<Figure size 432x288 with 1 Axes>"
      ]
     },
     "metadata": {
      "needs_background": "light"
     },
     "output_type": "display_data"
    }
   ],
   "source": [
    "cen_less_than.boxplot()"
   ]
  },
  {
   "cell_type": "code",
   "execution_count": 393,
   "metadata": {},
   "outputs": [
    {
     "data": {
      "text/plain": [
       "census_year              0.000000\n",
       "total_family_income     -0.240641\n",
       "age                      0.278321\n",
       "total_personal_income    2.038707\n",
       "dtype: float64"
      ]
     },
     "execution_count": 393,
     "metadata": {},
     "output_type": "execute_result"
    }
   ],
   "source": [
    "cen_less_than.skew()"
   ]
  },
  {
   "cell_type": "markdown",
   "metadata": {},
   "source": [
    "The distribution for age appears to be very erratic, although, the boxplot reveals that there are not substantial outliers. There do, however, appear to be outliers for total personal income and total family income. Due to how each variables are skewed, there will be a mean outlier drop done on personal income and family income. "
   ]
  },
  {
   "cell_type": "code",
   "execution_count": 394,
   "metadata": {
    "scrolled": true
   },
   "outputs": [
    {
     "name": "stdout",
     "output_type": "stream",
     "text": [
      "-19700.067722\n",
      "34416.6391506\n"
     ]
    },
    {
     "data": {
      "text/html": [
       "<div>\n",
       "<style scoped>\n",
       "    .dataframe tbody tr th:only-of-type {\n",
       "        vertical-align: middle;\n",
       "    }\n",
       "\n",
       "    .dataframe tbody tr th {\n",
       "        vertical-align: top;\n",
       "    }\n",
       "\n",
       "    .dataframe thead th {\n",
       "        text-align: right;\n",
       "    }\n",
       "</style>\n",
       "<table border=\"1\" class=\"dataframe\">\n",
       "  <thead>\n",
       "    <tr style=\"text-align: right;\">\n",
       "      <th></th>\n",
       "      <th>census_year</th>\n",
       "      <th>state_fips_code</th>\n",
       "      <th>total_family_income</th>\n",
       "      <th>age</th>\n",
       "      <th>sex</th>\n",
       "      <th>race_general</th>\n",
       "      <th>marital_status</th>\n",
       "      <th>total_personal_income</th>\n",
       "    </tr>\n",
       "  </thead>\n",
       "  <tbody>\n",
       "    <tr>\n",
       "      <th>0</th>\n",
       "      <td>2000</td>\n",
       "      <td>Florida</td>\n",
       "      <td>14550.0</td>\n",
       "      <td>44</td>\n",
       "      <td>Male</td>\n",
       "      <td>Two major races</td>\n",
       "      <td>Married/spouse present</td>\n",
       "      <td>0.0</td>\n",
       "    </tr>\n",
       "    <tr>\n",
       "      <th>2</th>\n",
       "      <td>2000</td>\n",
       "      <td>Florida</td>\n",
       "      <td>0.0</td>\n",
       "      <td>20</td>\n",
       "      <td>Male</td>\n",
       "      <td>Black</td>\n",
       "      <td>Never married/single</td>\n",
       "      <td>20000.0</td>\n",
       "    </tr>\n",
       "    <tr>\n",
       "      <th>9</th>\n",
       "      <td>2000</td>\n",
       "      <td>Florida</td>\n",
       "      <td>14600.0</td>\n",
       "      <td>58</td>\n",
       "      <td>Female</td>\n",
       "      <td>White</td>\n",
       "      <td>Widowed</td>\n",
       "      <td>14600.0</td>\n",
       "    </tr>\n",
       "    <tr>\n",
       "      <th>10</th>\n",
       "      <td>2000</td>\n",
       "      <td>Florida</td>\n",
       "      <td>0.0</td>\n",
       "      <td>33</td>\n",
       "      <td>Female</td>\n",
       "      <td>White</td>\n",
       "      <td>Never married/single</td>\n",
       "      <td>23000.0</td>\n",
       "    </tr>\n",
       "    <tr>\n",
       "      <th>27</th>\n",
       "      <td>2000</td>\n",
       "      <td>Florida</td>\n",
       "      <td>0.0</td>\n",
       "      <td>67</td>\n",
       "      <td>Male</td>\n",
       "      <td>Black</td>\n",
       "      <td>Widowed</td>\n",
       "      <td>8400.0</td>\n",
       "    </tr>\n",
       "  </tbody>\n",
       "</table>\n",
       "</div>"
      ],
      "text/plain": [
       "    census_year state_fips_code  total_family_income  age     sex  \\\n",
       "0          2000         Florida              14550.0   44    Male   \n",
       "2          2000         Florida                  0.0   20    Male   \n",
       "9          2000         Florida              14600.0   58  Female   \n",
       "10         2000         Florida                  0.0   33  Female   \n",
       "27         2000         Florida                  0.0   67    Male   \n",
       "\n",
       "       race_general          marital_status  total_personal_income  \n",
       "0   Two major races  Married/spouse present                    0.0  \n",
       "2             Black    Never married/single                20000.0  \n",
       "9             White                 Widowed                14600.0  \n",
       "10            White    Never married/single                23000.0  \n",
       "27            Black                 Widowed                 8400.0  "
      ]
     },
     "execution_count": 394,
     "metadata": {},
     "output_type": "execute_result"
    }
   ],
   "source": [
    "family_income = cen_less_than['total_family_income']\n",
    "family_income_mean = family_income.mean()\n",
    "family_income_mean = family_income.mean()\n",
    "family_income_std = family_income.std()\n",
    "\n",
    "cen_less_than_mean_outlier_drop = cen_less_than.drop(\n",
    "    cen_less_than.index[\n",
    "        (family_income> family_income_mean+5*family_income_std) | (family_income<family_income_mean-5*family_income_std)\n",
    "    ]\n",
    ")\n",
    "\n",
    "print family_income_mean - 5*family_income_std\n",
    "print family_income_mean + 5*family_income_std\n",
    "\n",
    "cen_less_than_mean_outlier_drop.head()"
   ]
  },
  {
   "cell_type": "code",
   "execution_count": 395,
   "metadata": {},
   "outputs": [
    {
     "name": "stdout",
     "output_type": "stream",
     "text": [
      "-15554.4891318\n",
      "33608.3177032\n"
     ]
    },
    {
     "data": {
      "text/html": [
       "<div>\n",
       "<style scoped>\n",
       "    .dataframe tbody tr th:only-of-type {\n",
       "        vertical-align: middle;\n",
       "    }\n",
       "\n",
       "    .dataframe tbody tr th {\n",
       "        vertical-align: top;\n",
       "    }\n",
       "\n",
       "    .dataframe thead th {\n",
       "        text-align: right;\n",
       "    }\n",
       "</style>\n",
       "<table border=\"1\" class=\"dataframe\">\n",
       "  <thead>\n",
       "    <tr style=\"text-align: right;\">\n",
       "      <th></th>\n",
       "      <th>census_year</th>\n",
       "      <th>state_fips_code</th>\n",
       "      <th>total_family_income</th>\n",
       "      <th>age</th>\n",
       "      <th>sex</th>\n",
       "      <th>race_general</th>\n",
       "      <th>marital_status</th>\n",
       "      <th>total_personal_income</th>\n",
       "    </tr>\n",
       "  </thead>\n",
       "  <tbody>\n",
       "    <tr>\n",
       "      <th>0</th>\n",
       "      <td>2000</td>\n",
       "      <td>Florida</td>\n",
       "      <td>14550.0</td>\n",
       "      <td>44</td>\n",
       "      <td>Male</td>\n",
       "      <td>Two major races</td>\n",
       "      <td>Married/spouse present</td>\n",
       "      <td>0.0</td>\n",
       "    </tr>\n",
       "    <tr>\n",
       "      <th>2</th>\n",
       "      <td>2000</td>\n",
       "      <td>Florida</td>\n",
       "      <td>0.0</td>\n",
       "      <td>20</td>\n",
       "      <td>Male</td>\n",
       "      <td>Black</td>\n",
       "      <td>Never married/single</td>\n",
       "      <td>20000.0</td>\n",
       "    </tr>\n",
       "    <tr>\n",
       "      <th>9</th>\n",
       "      <td>2000</td>\n",
       "      <td>Florida</td>\n",
       "      <td>14600.0</td>\n",
       "      <td>58</td>\n",
       "      <td>Female</td>\n",
       "      <td>White</td>\n",
       "      <td>Widowed</td>\n",
       "      <td>14600.0</td>\n",
       "    </tr>\n",
       "    <tr>\n",
       "      <th>10</th>\n",
       "      <td>2000</td>\n",
       "      <td>Florida</td>\n",
       "      <td>0.0</td>\n",
       "      <td>33</td>\n",
       "      <td>Female</td>\n",
       "      <td>White</td>\n",
       "      <td>Never married/single</td>\n",
       "      <td>23000.0</td>\n",
       "    </tr>\n",
       "    <tr>\n",
       "      <th>27</th>\n",
       "      <td>2000</td>\n",
       "      <td>Florida</td>\n",
       "      <td>0.0</td>\n",
       "      <td>67</td>\n",
       "      <td>Male</td>\n",
       "      <td>Black</td>\n",
       "      <td>Widowed</td>\n",
       "      <td>8400.0</td>\n",
       "    </tr>\n",
       "  </tbody>\n",
       "</table>\n",
       "</div>"
      ],
      "text/plain": [
       "    census_year state_fips_code  total_family_income  age     sex  \\\n",
       "0          2000         Florida              14550.0   44    Male   \n",
       "2          2000         Florida                  0.0   20    Male   \n",
       "9          2000         Florida              14600.0   58  Female   \n",
       "10         2000         Florida                  0.0   33  Female   \n",
       "27         2000         Florida                  0.0   67    Male   \n",
       "\n",
       "       race_general          marital_status  total_personal_income  \n",
       "0   Two major races  Married/spouse present                    0.0  \n",
       "2             Black    Never married/single                20000.0  \n",
       "9             White                 Widowed                14600.0  \n",
       "10            White    Never married/single                23000.0  \n",
       "27            Black                 Widowed                 8400.0  "
      ]
     },
     "execution_count": 395,
     "metadata": {},
     "output_type": "execute_result"
    }
   ],
   "source": [
    "personal_income = cen_less_than_mean_outlier_drop['total_personal_income']\n",
    "personal_income_mean = personal_income.mean()\n",
    "personal_income_std = personal_income.std()\n",
    "\n",
    "cen_less_than_mean_outlier_drop_final = cen_less_than_mean_outlier_drop.drop(\n",
    "    cen_less_than_mean_outlier_drop.index[\n",
    "        (personal_income > personal_income_mean+2.5*personal_income_std) | \n",
    "        (personal_income < personal_income_mean-2.5*personal_income_std)\n",
    "    ]\n",
    ")\n",
    "\n",
    "print personal_income_mean - 2.5*personal_income_std\n",
    "print personal_income_mean + 2.5*personal_income_std\n",
    "\n",
    "cen_less_than_mean_outlier_drop_final.head()"
   ]
  },
  {
   "cell_type": "code",
   "execution_count": 396,
   "metadata": {
    "scrolled": true
   },
   "outputs": [
    {
     "data": {
      "text/html": [
       "<div>\n",
       "<style scoped>\n",
       "    .dataframe tbody tr th:only-of-type {\n",
       "        vertical-align: middle;\n",
       "    }\n",
       "\n",
       "    .dataframe tbody tr th {\n",
       "        vertical-align: top;\n",
       "    }\n",
       "\n",
       "    .dataframe thead th {\n",
       "        text-align: right;\n",
       "    }\n",
       "</style>\n",
       "<table border=\"1\" class=\"dataframe\">\n",
       "  <thead>\n",
       "    <tr style=\"text-align: right;\">\n",
       "      <th></th>\n",
       "      <th>census_year</th>\n",
       "      <th>total_family_income</th>\n",
       "      <th>age</th>\n",
       "      <th>total_personal_income</th>\n",
       "    </tr>\n",
       "  </thead>\n",
       "  <tbody>\n",
       "    <tr>\n",
       "      <th>count</th>\n",
       "      <td>63.0</td>\n",
       "      <td>63.000000</td>\n",
       "      <td>63.000000</td>\n",
       "      <td>50.00000</td>\n",
       "    </tr>\n",
       "    <tr>\n",
       "      <th>mean</th>\n",
       "      <td>2000.0</td>\n",
       "      <td>177975.142857</td>\n",
       "      <td>38.984127</td>\n",
       "      <td>89994.00000</td>\n",
       "    </tr>\n",
       "    <tr>\n",
       "      <th>std</th>\n",
       "      <td>0.0</td>\n",
       "      <td>133496.606108</td>\n",
       "      <td>20.320411</td>\n",
       "      <td>101835.82069</td>\n",
       "    </tr>\n",
       "    <tr>\n",
       "      <th>min</th>\n",
       "      <td>2000.0</td>\n",
       "      <td>100000.000000</td>\n",
       "      <td>4.000000</td>\n",
       "      <td>0.00000</td>\n",
       "    </tr>\n",
       "    <tr>\n",
       "      <th>25%</th>\n",
       "      <td>2000.0</td>\n",
       "      <td>113000.000000</td>\n",
       "      <td>21.000000</td>\n",
       "      <td>22000.00000</td>\n",
       "    </tr>\n",
       "    <tr>\n",
       "      <th>50%</th>\n",
       "      <td>2000.0</td>\n",
       "      <td>130000.000000</td>\n",
       "      <td>43.000000</td>\n",
       "      <td>59500.00000</td>\n",
       "    </tr>\n",
       "    <tr>\n",
       "      <th>75%</th>\n",
       "      <td>2000.0</td>\n",
       "      <td>168200.000000</td>\n",
       "      <td>54.500000</td>\n",
       "      <td>114000.00000</td>\n",
       "    </tr>\n",
       "    <tr>\n",
       "      <th>max</th>\n",
       "      <td>2000.0</td>\n",
       "      <td>892050.000000</td>\n",
       "      <td>74.000000</td>\n",
       "      <td>456000.00000</td>\n",
       "    </tr>\n",
       "  </tbody>\n",
       "</table>\n",
       "</div>"
      ],
      "text/plain": [
       "       census_year  total_family_income        age  total_personal_income\n",
       "count         63.0            63.000000  63.000000               50.00000\n",
       "mean        2000.0        177975.142857  38.984127            89994.00000\n",
       "std            0.0        133496.606108  20.320411           101835.82069\n",
       "min         2000.0        100000.000000   4.000000                0.00000\n",
       "25%         2000.0        113000.000000  21.000000            22000.00000\n",
       "50%         2000.0        130000.000000  43.000000            59500.00000\n",
       "75%         2000.0        168200.000000  54.500000           114000.00000\n",
       "max         2000.0        892050.000000  74.000000           456000.00000"
      ]
     },
     "execution_count": 396,
     "metadata": {},
     "output_type": "execute_result"
    }
   ],
   "source": [
    "cen_greater_than = cen[cen['total_family_income']>=100000]\n",
    "cen_greater_than.describe()"
   ]
  },
  {
   "cell_type": "code",
   "execution_count": 397,
   "metadata": {},
   "outputs": [],
   "source": [
    "cen_greater_than = cen_greater_than.dropna()"
   ]
  },
  {
   "cell_type": "code",
   "execution_count": 398,
   "metadata": {},
   "outputs": [
    {
     "data": {
      "text/plain": [
       "array([[<matplotlib.axes._subplots.AxesSubplot object at 0x12f0ca050>,\n",
       "        <matplotlib.axes._subplots.AxesSubplot object at 0x12f051b90>],\n",
       "       [<matplotlib.axes._subplots.AxesSubplot object at 0x12f167950>,\n",
       "        <matplotlib.axes._subplots.AxesSubplot object at 0x12f19ca50>]],\n",
       "      dtype=object)"
      ]
     },
     "execution_count": 398,
     "metadata": {},
     "output_type": "execute_result"
    },
    {
     "data": {
      "image/png": "[encoded data removed]",
      "text/plain": [
       "<Figure size 432x288 with 4 Axes>"
      ]
     },
     "metadata": {
      "needs_background": "light"
     },
     "output_type": "display_data"
    }
   ],
   "source": [
    "cen_greater_than.hist()"
   ]
  },
  {
   "cell_type": "markdown",
   "metadata": {},
   "source": [
    "The majority of the people surveyed in this dataframe are middle aged. This corresponds to logical reasoning that people would be in the peak of the career and be making a higher income. However, there are still participants who have a low personal income and high family income, which could also logically occur. Overall, "
   ]
  },
  {
   "cell_type": "code",
   "execution_count": 399,
   "metadata": {},
   "outputs": [
    {
     "data": {
      "text/plain": [
       "<matplotlib.axes._subplots.AxesSubplot at 0x12f2fecd0>"
      ]
     },
     "execution_count": 399,
     "metadata": {},
     "output_type": "execute_result"
    },
    {
     "data": {
      "image/png": "[encoded data removed]",
      "text/plain": [
       "<Figure size 432x288 with 1 Axes>"
      ]
     },
     "metadata": {
      "needs_background": "light"
     },
     "output_type": "display_data"
    }
   ],
   "source": [
    "cen_greater_than.boxplot()"
   ]
  },
  {
   "cell_type": "code",
   "execution_count": 400,
   "metadata": {
    "scrolled": true
   },
   "outputs": [
    {
     "data": {
      "text/html": [
       "<div>\n",
       "<style scoped>\n",
       "    .dataframe tbody tr th:only-of-type {\n",
       "        vertical-align: middle;\n",
       "    }\n",
       "\n",
       "    .dataframe tbody tr th {\n",
       "        vertical-align: top;\n",
       "    }\n",
       "\n",
       "    .dataframe thead th {\n",
       "        text-align: right;\n",
       "    }\n",
       "</style>\n",
       "<table border=\"1\" class=\"dataframe\">\n",
       "  <thead>\n",
       "    <tr style=\"text-align: right;\">\n",
       "      <th></th>\n",
       "      <th>census_year</th>\n",
       "      <th>total_family_income</th>\n",
       "      <th>age</th>\n",
       "      <th>total_personal_income</th>\n",
       "    </tr>\n",
       "  </thead>\n",
       "  <tbody>\n",
       "    <tr>\n",
       "      <th>count</th>\n",
       "      <td>50.0</td>\n",
       "      <td>50.000000</td>\n",
       "      <td>50.000000</td>\n",
       "      <td>50.00000</td>\n",
       "    </tr>\n",
       "    <tr>\n",
       "      <th>mean</th>\n",
       "      <td>2000.0</td>\n",
       "      <td>173475.680000</td>\n",
       "      <td>46.920000</td>\n",
       "      <td>89994.00000</td>\n",
       "    </tr>\n",
       "    <tr>\n",
       "      <th>std</th>\n",
       "      <td>0.0</td>\n",
       "      <td>130923.481398</td>\n",
       "      <td>14.464369</td>\n",
       "      <td>101835.82069</td>\n",
       "    </tr>\n",
       "    <tr>\n",
       "      <th>min</th>\n",
       "      <td>2000.0</td>\n",
       "      <td>100000.000000</td>\n",
       "      <td>16.000000</td>\n",
       "      <td>0.00000</td>\n",
       "    </tr>\n",
       "    <tr>\n",
       "      <th>25%</th>\n",
       "      <td>2000.0</td>\n",
       "      <td>113125.000000</td>\n",
       "      <td>37.250000</td>\n",
       "      <td>22000.00000</td>\n",
       "    </tr>\n",
       "    <tr>\n",
       "      <th>50%</th>\n",
       "      <td>2000.0</td>\n",
       "      <td>130000.000000</td>\n",
       "      <td>45.500000</td>\n",
       "      <td>59500.00000</td>\n",
       "    </tr>\n",
       "    <tr>\n",
       "      <th>75%</th>\n",
       "      <td>2000.0</td>\n",
       "      <td>164400.000000</td>\n",
       "      <td>59.500000</td>\n",
       "      <td>114000.00000</td>\n",
       "    </tr>\n",
       "    <tr>\n",
       "      <th>max</th>\n",
       "      <td>2000.0</td>\n",
       "      <td>892050.000000</td>\n",
       "      <td>74.000000</td>\n",
       "      <td>456000.00000</td>\n",
       "    </tr>\n",
       "  </tbody>\n",
       "</table>\n",
       "</div>"
      ],
      "text/plain": [
       "       census_year  total_family_income        age  total_personal_income\n",
       "count         50.0            50.000000  50.000000               50.00000\n",
       "mean        2000.0        173475.680000  46.920000            89994.00000\n",
       "std            0.0        130923.481398  14.464369           101835.82069\n",
       "min         2000.0        100000.000000  16.000000                0.00000\n",
       "25%         2000.0        113125.000000  37.250000            22000.00000\n",
       "50%         2000.0        130000.000000  45.500000            59500.00000\n",
       "75%         2000.0        164400.000000  59.500000           114000.00000\n",
       "max         2000.0        892050.000000  74.000000           456000.00000"
      ]
     },
     "execution_count": 400,
     "metadata": {},
     "output_type": "execute_result"
    }
   ],
   "source": [
    "cen_greater_than.describe()"
   ]
  },
  {
   "cell_type": "markdown",
   "metadata": {},
   "source": [
    "The sample size is 50, a mere 10% of what the original dataframe contained. This will have to be kept in mind when considering the validity of the conclusion because a smaller sample size means a less accurate conclusion, generally. It appears total family income and personal income have the greatest outliers, which will be removed the same way as the previous data set for consistency and accuracy of analysis. "
   ]
  },
  {
   "cell_type": "code",
   "execution_count": 401,
   "metadata": {
    "scrolled": true
   },
   "outputs": [
    {
     "name": "stdout",
     "output_type": "stream",
     "text": [
      "-481141.726988\n",
      "828093.086988\n"
     ]
    },
    {
     "data": {
      "text/html": [
       "<div>\n",
       "<style scoped>\n",
       "    .dataframe tbody tr th:only-of-type {\n",
       "        vertical-align: middle;\n",
       "    }\n",
       "\n",
       "    .dataframe tbody tr th {\n",
       "        vertical-align: top;\n",
       "    }\n",
       "\n",
       "    .dataframe thead th {\n",
       "        text-align: right;\n",
       "    }\n",
       "</style>\n",
       "<table border=\"1\" class=\"dataframe\">\n",
       "  <thead>\n",
       "    <tr style=\"text-align: right;\">\n",
       "      <th></th>\n",
       "      <th>census_year</th>\n",
       "      <th>state_fips_code</th>\n",
       "      <th>total_family_income</th>\n",
       "      <th>age</th>\n",
       "      <th>sex</th>\n",
       "      <th>race_general</th>\n",
       "      <th>marital_status</th>\n",
       "      <th>total_personal_income</th>\n",
       "    </tr>\n",
       "  </thead>\n",
       "  <tbody>\n",
       "    <tr>\n",
       "      <th>15</th>\n",
       "      <td>2000</td>\n",
       "      <td>Florida</td>\n",
       "      <td>100100.0</td>\n",
       "      <td>44</td>\n",
       "      <td>Female</td>\n",
       "      <td>White</td>\n",
       "      <td>Married/spouse present</td>\n",
       "      <td>16100.0</td>\n",
       "    </tr>\n",
       "    <tr>\n",
       "      <th>31</th>\n",
       "      <td>2000</td>\n",
       "      <td>Florida</td>\n",
       "      <td>118100.0</td>\n",
       "      <td>18</td>\n",
       "      <td>Female</td>\n",
       "      <td>White</td>\n",
       "      <td>Never married/single</td>\n",
       "      <td>7500.0</td>\n",
       "    </tr>\n",
       "    <tr>\n",
       "      <th>41</th>\n",
       "      <td>2000</td>\n",
       "      <td>New York</td>\n",
       "      <td>165000.0</td>\n",
       "      <td>63</td>\n",
       "      <td>Male</td>\n",
       "      <td>White</td>\n",
       "      <td>Married/spouse present</td>\n",
       "      <td>123000.0</td>\n",
       "    </tr>\n",
       "    <tr>\n",
       "      <th>46</th>\n",
       "      <td>2000</td>\n",
       "      <td>New York</td>\n",
       "      <td>130000.0</td>\n",
       "      <td>54</td>\n",
       "      <td>Female</td>\n",
       "      <td>White</td>\n",
       "      <td>Married/spouse present</td>\n",
       "      <td>64000.0</td>\n",
       "    </tr>\n",
       "    <tr>\n",
       "      <th>58</th>\n",
       "      <td>2000</td>\n",
       "      <td>New York</td>\n",
       "      <td>168200.0</td>\n",
       "      <td>34</td>\n",
       "      <td>Male</td>\n",
       "      <td>White</td>\n",
       "      <td>Married/spouse present</td>\n",
       "      <td>121600.0</td>\n",
       "    </tr>\n",
       "  </tbody>\n",
       "</table>\n",
       "</div>"
      ],
      "text/plain": [
       "    census_year state_fips_code  total_family_income  age     sex  \\\n",
       "15         2000         Florida             100100.0   44  Female   \n",
       "31         2000         Florida             118100.0   18  Female   \n",
       "41         2000        New York             165000.0   63    Male   \n",
       "46         2000        New York             130000.0   54  Female   \n",
       "58         2000        New York             168200.0   34    Male   \n",
       "\n",
       "   race_general          marital_status  total_personal_income  \n",
       "15        White  Married/spouse present                16100.0  \n",
       "31        White    Never married/single                 7500.0  \n",
       "41        White  Married/spouse present               123000.0  \n",
       "46        White  Married/spouse present                64000.0  \n",
       "58        White  Married/spouse present               121600.0  "
      ]
     },
     "execution_count": 401,
     "metadata": {},
     "output_type": "execute_result"
    }
   ],
   "source": [
    "family_income = cen_greater_than['total_family_income']\n",
    "family_income_mean = family_income.mean()\n",
    "family_income_mean = family_income.mean()\n",
    "family_income_std = family_income.std()\n",
    "\n",
    "cen_greater_than_mean_outlier_drop = cen_greater_than.drop(\n",
    "    cen_greater_than.index[\n",
    "        (family_income> family_income_mean+5*family_income_std) | (family_income<family_income_mean-5*family_income_std)\n",
    "    ]\n",
    ")\n",
    "\n",
    "print family_income_mean - 5*family_income_std\n",
    "print family_income_mean + 5*family_income_std\n",
    "\n",
    "cen_greater_than_mean_outlier_drop.head()"
   ]
  },
  {
   "cell_type": "code",
   "execution_count": 402,
   "metadata": {
    "scrolled": true
   },
   "outputs": [
    {
     "data": {
      "text/html": [
       "<div>\n",
       "<style scoped>\n",
       "    .dataframe tbody tr th:only-of-type {\n",
       "        vertical-align: middle;\n",
       "    }\n",
       "\n",
       "    .dataframe tbody tr th {\n",
       "        vertical-align: top;\n",
       "    }\n",
       "\n",
       "    .dataframe thead th {\n",
       "        text-align: right;\n",
       "    }\n",
       "</style>\n",
       "<table border=\"1\" class=\"dataframe\">\n",
       "  <thead>\n",
       "    <tr style=\"text-align: right;\">\n",
       "      <th></th>\n",
       "      <th>census_year</th>\n",
       "      <th>total_family_income</th>\n",
       "      <th>age</th>\n",
       "      <th>total_personal_income</th>\n",
       "    </tr>\n",
       "  </thead>\n",
       "  <tbody>\n",
       "    <tr>\n",
       "      <th>count</th>\n",
       "      <td>49.0</td>\n",
       "      <td>49.000000</td>\n",
       "      <td>49.000000</td>\n",
       "      <td>49.000000</td>\n",
       "    </tr>\n",
       "    <tr>\n",
       "      <th>mean</th>\n",
       "      <td>2000.0</td>\n",
       "      <td>158810.897959</td>\n",
       "      <td>46.938776</td>\n",
       "      <td>82728.571429</td>\n",
       "    </tr>\n",
       "    <tr>\n",
       "      <th>std</th>\n",
       "      <td>0.0</td>\n",
       "      <td>80754.276452</td>\n",
       "      <td>14.613647</td>\n",
       "      <td>88838.497684</td>\n",
       "    </tr>\n",
       "    <tr>\n",
       "      <th>min</th>\n",
       "      <td>2000.0</td>\n",
       "      <td>100000.000000</td>\n",
       "      <td>16.000000</td>\n",
       "      <td>0.000000</td>\n",
       "    </tr>\n",
       "    <tr>\n",
       "      <th>25%</th>\n",
       "      <td>2000.0</td>\n",
       "      <td>113000.000000</td>\n",
       "      <td>37.000000</td>\n",
       "      <td>22000.000000</td>\n",
       "    </tr>\n",
       "    <tr>\n",
       "      <th>50%</th>\n",
       "      <td>2000.0</td>\n",
       "      <td>130000.000000</td>\n",
       "      <td>45.000000</td>\n",
       "      <td>59000.000000</td>\n",
       "    </tr>\n",
       "    <tr>\n",
       "      <th>75%</th>\n",
       "      <td>2000.0</td>\n",
       "      <td>162600.000000</td>\n",
       "      <td>60.000000</td>\n",
       "      <td>111000.000000</td>\n",
       "    </tr>\n",
       "    <tr>\n",
       "      <th>max</th>\n",
       "      <td>2000.0</td>\n",
       "      <td>458000.000000</td>\n",
       "      <td>74.000000</td>\n",
       "      <td>456000.000000</td>\n",
       "    </tr>\n",
       "  </tbody>\n",
       "</table>\n",
       "</div>"
      ],
      "text/plain": [
       "       census_year  total_family_income        age  total_personal_income\n",
       "count         49.0            49.000000  49.000000              49.000000\n",
       "mean        2000.0        158810.897959  46.938776           82728.571429\n",
       "std            0.0         80754.276452  14.613647           88838.497684\n",
       "min         2000.0        100000.000000  16.000000               0.000000\n",
       "25%         2000.0        113000.000000  37.000000           22000.000000\n",
       "50%         2000.0        130000.000000  45.000000           59000.000000\n",
       "75%         2000.0        162600.000000  60.000000          111000.000000\n",
       "max         2000.0        458000.000000  74.000000          456000.000000"
      ]
     },
     "execution_count": 402,
     "metadata": {},
     "output_type": "execute_result"
    }
   ],
   "source": [
    "cen_greater_than_mean_outlier_drop.describe()"
   ]
  },
  {
   "cell_type": "markdown",
   "metadata": {},
   "source": [
    "One outlier has been removed from the first step of the removal"
   ]
  },
  {
   "cell_type": "code",
   "execution_count": 403,
   "metadata": {
    "scrolled": false
   },
   "outputs": [
    {
     "name": "stdout",
     "output_type": "stream",
     "text": [
      "-361463.916994\n",
      "526921.059851\n"
     ]
    },
    {
     "data": {
      "text/html": [
       "<div>\n",
       "<style scoped>\n",
       "    .dataframe tbody tr th:only-of-type {\n",
       "        vertical-align: middle;\n",
       "    }\n",
       "\n",
       "    .dataframe tbody tr th {\n",
       "        vertical-align: top;\n",
       "    }\n",
       "\n",
       "    .dataframe thead th {\n",
       "        text-align: right;\n",
       "    }\n",
       "</style>\n",
       "<table border=\"1\" class=\"dataframe\">\n",
       "  <thead>\n",
       "    <tr style=\"text-align: right;\">\n",
       "      <th></th>\n",
       "      <th>census_year</th>\n",
       "      <th>state_fips_code</th>\n",
       "      <th>total_family_income</th>\n",
       "      <th>age</th>\n",
       "      <th>sex</th>\n",
       "      <th>race_general</th>\n",
       "      <th>marital_status</th>\n",
       "      <th>total_personal_income</th>\n",
       "    </tr>\n",
       "  </thead>\n",
       "  <tbody>\n",
       "    <tr>\n",
       "      <th>15</th>\n",
       "      <td>2000</td>\n",
       "      <td>Florida</td>\n",
       "      <td>100100.0</td>\n",
       "      <td>44</td>\n",
       "      <td>Female</td>\n",
       "      <td>White</td>\n",
       "      <td>Married/spouse present</td>\n",
       "      <td>16100.0</td>\n",
       "    </tr>\n",
       "    <tr>\n",
       "      <th>31</th>\n",
       "      <td>2000</td>\n",
       "      <td>Florida</td>\n",
       "      <td>118100.0</td>\n",
       "      <td>18</td>\n",
       "      <td>Female</td>\n",
       "      <td>White</td>\n",
       "      <td>Never married/single</td>\n",
       "      <td>7500.0</td>\n",
       "    </tr>\n",
       "    <tr>\n",
       "      <th>41</th>\n",
       "      <td>2000</td>\n",
       "      <td>New York</td>\n",
       "      <td>165000.0</td>\n",
       "      <td>63</td>\n",
       "      <td>Male</td>\n",
       "      <td>White</td>\n",
       "      <td>Married/spouse present</td>\n",
       "      <td>123000.0</td>\n",
       "    </tr>\n",
       "    <tr>\n",
       "      <th>46</th>\n",
       "      <td>2000</td>\n",
       "      <td>New York</td>\n",
       "      <td>130000.0</td>\n",
       "      <td>54</td>\n",
       "      <td>Female</td>\n",
       "      <td>White</td>\n",
       "      <td>Married/spouse present</td>\n",
       "      <td>64000.0</td>\n",
       "    </tr>\n",
       "    <tr>\n",
       "      <th>58</th>\n",
       "      <td>2000</td>\n",
       "      <td>New York</td>\n",
       "      <td>168200.0</td>\n",
       "      <td>34</td>\n",
       "      <td>Male</td>\n",
       "      <td>White</td>\n",
       "      <td>Married/spouse present</td>\n",
       "      <td>121600.0</td>\n",
       "    </tr>\n",
       "  </tbody>\n",
       "</table>\n",
       "</div>"
      ],
      "text/plain": [
       "    census_year state_fips_code  total_family_income  age     sex  \\\n",
       "15         2000         Florida             100100.0   44  Female   \n",
       "31         2000         Florida             118100.0   18  Female   \n",
       "41         2000        New York             165000.0   63    Male   \n",
       "46         2000        New York             130000.0   54  Female   \n",
       "58         2000        New York             168200.0   34    Male   \n",
       "\n",
       "   race_general          marital_status  total_personal_income  \n",
       "15        White  Married/spouse present                16100.0  \n",
       "31        White    Never married/single                 7500.0  \n",
       "41        White  Married/spouse present               123000.0  \n",
       "46        White  Married/spouse present                64000.0  \n",
       "58        White  Married/spouse present               121600.0  "
      ]
     },
     "execution_count": 403,
     "metadata": {},
     "output_type": "execute_result"
    }
   ],
   "source": [
    "personal_greater_than = cen_greater_than_mean_outlier_drop['total_personal_income']\n",
    "personal_greater_than_mean = personal_greater_than.mean()\n",
    "personal_greater_than_std = personal_greater_than.std()\n",
    "\n",
    "cen_greater_than_mean_outlier_drop_final = cen_greater_than_mean_outlier_drop.drop(\n",
    "    cen_greater_than_mean_outlier_drop.index[\n",
    "        (personal_greater_than> personal_greater_than_mean+5*personal_greater_than_std) | (personal_greater_than<personal_greater_than_mean-5*personal_greater_than_std)\n",
    "    ]\n",
    ")\n",
    "\n",
    "print personal_greater_than_mean - 5*personal_greater_than_std\n",
    "print personal_greater_than_mean + 5*personal_greater_than_std\n",
    "\n",
    "cen_greater_than_mean_outlier_drop_final.head()"
   ]
  },
  {
   "cell_type": "code",
   "execution_count": 404,
   "metadata": {
    "scrolled": true
   },
   "outputs": [
    {
     "data": {
      "text/html": [
       "<div>\n",
       "<style scoped>\n",
       "    .dataframe tbody tr th:only-of-type {\n",
       "        vertical-align: middle;\n",
       "    }\n",
       "\n",
       "    .dataframe tbody tr th {\n",
       "        vertical-align: top;\n",
       "    }\n",
       "\n",
       "    .dataframe thead th {\n",
       "        text-align: right;\n",
       "    }\n",
       "</style>\n",
       "<table border=\"1\" class=\"dataframe\">\n",
       "  <thead>\n",
       "    <tr style=\"text-align: right;\">\n",
       "      <th></th>\n",
       "      <th>census_year</th>\n",
       "      <th>total_family_income</th>\n",
       "      <th>age</th>\n",
       "      <th>total_personal_income</th>\n",
       "    </tr>\n",
       "  </thead>\n",
       "  <tbody>\n",
       "    <tr>\n",
       "      <th>count</th>\n",
       "      <td>49.0</td>\n",
       "      <td>49.000000</td>\n",
       "      <td>49.000000</td>\n",
       "      <td>49.000000</td>\n",
       "    </tr>\n",
       "    <tr>\n",
       "      <th>mean</th>\n",
       "      <td>2000.0</td>\n",
       "      <td>158810.897959</td>\n",
       "      <td>46.938776</td>\n",
       "      <td>82728.571429</td>\n",
       "    </tr>\n",
       "    <tr>\n",
       "      <th>std</th>\n",
       "      <td>0.0</td>\n",
       "      <td>80754.276452</td>\n",
       "      <td>14.613647</td>\n",
       "      <td>88838.497684</td>\n",
       "    </tr>\n",
       "    <tr>\n",
       "      <th>min</th>\n",
       "      <td>2000.0</td>\n",
       "      <td>100000.000000</td>\n",
       "      <td>16.000000</td>\n",
       "      <td>0.000000</td>\n",
       "    </tr>\n",
       "    <tr>\n",
       "      <th>25%</th>\n",
       "      <td>2000.0</td>\n",
       "      <td>113000.000000</td>\n",
       "      <td>37.000000</td>\n",
       "      <td>22000.000000</td>\n",
       "    </tr>\n",
       "    <tr>\n",
       "      <th>50%</th>\n",
       "      <td>2000.0</td>\n",
       "      <td>130000.000000</td>\n",
       "      <td>45.000000</td>\n",
       "      <td>59000.000000</td>\n",
       "    </tr>\n",
       "    <tr>\n",
       "      <th>75%</th>\n",
       "      <td>2000.0</td>\n",
       "      <td>162600.000000</td>\n",
       "      <td>60.000000</td>\n",
       "      <td>111000.000000</td>\n",
       "    </tr>\n",
       "    <tr>\n",
       "      <th>max</th>\n",
       "      <td>2000.0</td>\n",
       "      <td>458000.000000</td>\n",
       "      <td>74.000000</td>\n",
       "      <td>456000.000000</td>\n",
       "    </tr>\n",
       "  </tbody>\n",
       "</table>\n",
       "</div>"
      ],
      "text/plain": [
       "       census_year  total_family_income        age  total_personal_income\n",
       "count         49.0            49.000000  49.000000              49.000000\n",
       "mean        2000.0        158810.897959  46.938776           82728.571429\n",
       "std            0.0         80754.276452  14.613647           88838.497684\n",
       "min         2000.0        100000.000000  16.000000               0.000000\n",
       "25%         2000.0        113000.000000  37.000000           22000.000000\n",
       "50%         2000.0        130000.000000  45.000000           59000.000000\n",
       "75%         2000.0        162600.000000  60.000000          111000.000000\n",
       "max         2000.0        458000.000000  74.000000          456000.000000"
      ]
     },
     "execution_count": 404,
     "metadata": {},
     "output_type": "execute_result"
    }
   ],
   "source": [
    "cen_greater_than_mean_outlier_drop_final.describe()"
   ]
  },
  {
   "cell_type": "code",
   "execution_count": 405,
   "metadata": {
    "scrolled": true
   },
   "outputs": [
    {
     "data": {
      "text/html": [
       "<div>\n",
       "<style scoped>\n",
       "    .dataframe tbody tr th:only-of-type {\n",
       "        vertical-align: middle;\n",
       "    }\n",
       "\n",
       "    .dataframe tbody tr th {\n",
       "        vertical-align: top;\n",
       "    }\n",
       "\n",
       "    .dataframe thead th {\n",
       "        text-align: right;\n",
       "    }\n",
       "</style>\n",
       "<table border=\"1\" class=\"dataframe\">\n",
       "  <thead>\n",
       "    <tr style=\"text-align: right;\">\n",
       "      <th></th>\n",
       "      <th>census_year</th>\n",
       "      <th>total_family_income</th>\n",
       "      <th>age</th>\n",
       "      <th>total_personal_income</th>\n",
       "    </tr>\n",
       "  </thead>\n",
       "  <tbody>\n",
       "    <tr>\n",
       "      <th>count</th>\n",
       "      <td>68.0</td>\n",
       "      <td>68.000000</td>\n",
       "      <td>68.000000</td>\n",
       "      <td>68.000000</td>\n",
       "    </tr>\n",
       "    <tr>\n",
       "      <th>mean</th>\n",
       "      <td>2000.0</td>\n",
       "      <td>7574.705882</td>\n",
       "      <td>46.088235</td>\n",
       "      <td>7895.352941</td>\n",
       "    </tr>\n",
       "    <tr>\n",
       "      <th>std</th>\n",
       "      <td>0.0</td>\n",
       "      <td>5338.221368</td>\n",
       "      <td>22.429149</td>\n",
       "      <td>7329.090664</td>\n",
       "    </tr>\n",
       "    <tr>\n",
       "      <th>min</th>\n",
       "      <td>2000.0</td>\n",
       "      <td>0.000000</td>\n",
       "      <td>15.000000</td>\n",
       "      <td>0.000000</td>\n",
       "    </tr>\n",
       "    <tr>\n",
       "      <th>25%</th>\n",
       "      <td>2000.0</td>\n",
       "      <td>1050.000000</td>\n",
       "      <td>23.750000</td>\n",
       "      <td>1550.000000</td>\n",
       "    </tr>\n",
       "    <tr>\n",
       "      <th>50%</th>\n",
       "      <td>2000.0</td>\n",
       "      <td>9350.000000</td>\n",
       "      <td>45.000000</td>\n",
       "      <td>6010.000000</td>\n",
       "    </tr>\n",
       "    <tr>\n",
       "      <th>75%</th>\n",
       "      <td>2000.0</td>\n",
       "      <td>12075.000000</td>\n",
       "      <td>65.500000</td>\n",
       "      <td>12525.000000</td>\n",
       "    </tr>\n",
       "    <tr>\n",
       "      <th>max</th>\n",
       "      <td>2000.0</td>\n",
       "      <td>15000.000000</td>\n",
       "      <td>93.000000</td>\n",
       "      <td>32000.000000</td>\n",
       "    </tr>\n",
       "  </tbody>\n",
       "</table>\n",
       "</div>"
      ],
      "text/plain": [
       "       census_year  total_family_income        age  total_personal_income\n",
       "count         68.0            68.000000  68.000000              68.000000\n",
       "mean        2000.0          7574.705882  46.088235            7895.352941\n",
       "std            0.0          5338.221368  22.429149            7329.090664\n",
       "min         2000.0             0.000000  15.000000               0.000000\n",
       "25%         2000.0          1050.000000  23.750000            1550.000000\n",
       "50%         2000.0          9350.000000  45.000000            6010.000000\n",
       "75%         2000.0         12075.000000  65.500000           12525.000000\n",
       "max         2000.0         15000.000000  93.000000           32000.000000"
      ]
     },
     "execution_count": 405,
     "metadata": {},
     "output_type": "execute_result"
    }
   ],
   "source": [
    "cen_less_than_mean_outlier_drop_final.describe()"
   ]
  },
  {
   "cell_type": "markdown",
   "metadata": {},
   "source": [
    "After removing outliers, it still appears as if there are more people who make less than 15000 dollars versus people who make more than 100000."
   ]
  },
  {
   "cell_type": "markdown",
   "metadata": {},
   "source": [
    "### Part (c)\n",
    "\n",
    "Are Florida residents olders on average than New York residents?"
   ]
  },
  {
   "cell_type": "code",
   "execution_count": 406,
   "metadata": {
    "scrolled": false
   },
   "outputs": [
    {
     "data": {
      "text/plain": [
       "<matplotlib.axes._subplots.AxesSubplot at 0x12f426b90>"
      ]
     },
     "execution_count": 406,
     "metadata": {},
     "output_type": "execute_result"
    },
    {
     "data": {
      "image/png": "[encoded data removed]",
      "text/plain": [
       "<Figure size 432x288 with 1 Axes>"
      ]
     },
     "metadata": {
      "needs_background": "light"
     },
     "output_type": "display_data"
    }
   ],
   "source": [
    "cen_c = cen[(cen['state_fips_code']=='Florida')|(cen['state_fips_code']=='New York')]\n",
    "\n",
    "cen_c_plot = cen_c [['state_fips_code','age']].groupby('state_fips_code').mean()\n",
    "\n",
    "cen_c_plot.plot(kind = 'bar')"
   ]
  },
  {
   "cell_type": "markdown",
   "metadata": {},
   "source": [
    "Upon initial observation, Florida has a higher average age than New York residents. This could be skewed by the fact that Florida is often a place people retire in, which would affect the average age."
   ]
  },
  {
   "cell_type": "code",
   "execution_count": 407,
   "metadata": {},
   "outputs": [
    {
     "data": {
      "text/plain": [
       "39    82\n",
       "40    46\n",
       "41    63\n",
       "42    83\n",
       "43    35\n",
       "44     1\n",
       "45     2\n",
       "46    54\n",
       "47    36\n",
       "48    28\n",
       "49     7\n",
       "50    21\n",
       "51     1\n",
       "52    17\n",
       "53    29\n",
       "54    14\n",
       "55    33\n",
       "56    16\n",
       "57    40\n",
       "58    34\n",
       "59     6\n",
       "60    49\n",
       "61    17\n",
       "62    37\n",
       "63     2\n",
       "64    40\n",
       "65    10\n",
       "66    61\n",
       "67    24\n",
       "68    23\n",
       "69    16\n",
       "70    36\n",
       "71     7\n",
       "72    32\n",
       "73    19\n",
       "74    81\n",
       "75    47\n",
       "76    72\n",
       "77     2\n",
       "78    46\n",
       "79    27\n",
       "80     2\n",
       "81    10\n",
       "Name: age, dtype: int64"
      ]
     },
     "execution_count": 407,
     "metadata": {},
     "output_type": "execute_result"
    }
   ],
   "source": [
    "cen_c_ny = cen_c[(cen_c['state_fips_code']=='New York')]\n",
    "cen_c_ny_age = cen_c_ny['age']\n",
    "cen_c_ny_age"
   ]
  },
  {
   "cell_type": "code",
   "execution_count": 408,
   "metadata": {},
   "outputs": [
    {
     "data": {
      "text/plain": [
       "0     44\n",
       "1     20\n",
       "2     20\n",
       "3      6\n",
       "4     55\n",
       "5     43\n",
       "6     60\n",
       "7     47\n",
       "8     54\n",
       "9     58\n",
       "10    33\n",
       "11    51\n",
       "12    62\n",
       "13     8\n",
       "14    25\n",
       "15    44\n",
       "16    28\n",
       "17     1\n",
       "18    31\n",
       "19    69\n",
       "20    31\n",
       "21    80\n",
       "22     2\n",
       "23    47\n",
       "24    12\n",
       "25    47\n",
       "26     8\n",
       "27    67\n",
       "28    17\n",
       "29    69\n",
       "30    55\n",
       "31    18\n",
       "32    66\n",
       "33    58\n",
       "34    21\n",
       "35    52\n",
       "36    18\n",
       "37     2\n",
       "38    26\n",
       "Name: age, dtype: int64"
      ]
     },
     "execution_count": 408,
     "metadata": {},
     "output_type": "execute_result"
    }
   ],
   "source": [
    "cen_c_fl = cen_c[(cen_c['state_fips_code']=='Florida')]\n",
    "cen_c_fl_age = cen_c_fl['age']\n",
    "cen_c_fl_age"
   ]
  },
  {
   "cell_type": "code",
   "execution_count": 409,
   "metadata": {},
   "outputs": [],
   "source": [
    "cen_c = cen_c.dropna()"
   ]
  },
  {
   "cell_type": "code",
   "execution_count": 410,
   "metadata": {},
   "outputs": [
    {
     "data": {
      "text/html": [
       "<div>\n",
       "<style scoped>\n",
       "    .dataframe tbody tr th:only-of-type {\n",
       "        vertical-align: middle;\n",
       "    }\n",
       "\n",
       "    .dataframe tbody tr th {\n",
       "        vertical-align: top;\n",
       "    }\n",
       "\n",
       "    .dataframe thead th {\n",
       "        text-align: right;\n",
       "    }\n",
       "</style>\n",
       "<table border=\"1\" class=\"dataframe\">\n",
       "  <thead>\n",
       "    <tr style=\"text-align: right;\">\n",
       "      <th></th>\n",
       "      <th>census_year</th>\n",
       "      <th>total_family_income</th>\n",
       "      <th>age</th>\n",
       "      <th>total_personal_income</th>\n",
       "    </tr>\n",
       "  </thead>\n",
       "  <tbody>\n",
       "    <tr>\n",
       "      <th>count</th>\n",
       "      <td>60.0</td>\n",
       "      <td>60.000000</td>\n",
       "      <td>60.000000</td>\n",
       "      <td>60.000000</td>\n",
       "    </tr>\n",
       "    <tr>\n",
       "      <th>mean</th>\n",
       "      <td>2000.0</td>\n",
       "      <td>49585.166667</td>\n",
       "      <td>42.966667</td>\n",
       "      <td>24318.166667</td>\n",
       "    </tr>\n",
       "    <tr>\n",
       "      <th>std</th>\n",
       "      <td>0.0</td>\n",
       "      <td>36988.493240</td>\n",
       "      <td>19.060089</td>\n",
       "      <td>26945.495299</td>\n",
       "    </tr>\n",
       "    <tr>\n",
       "      <th>min</th>\n",
       "      <td>2000.0</td>\n",
       "      <td>0.000000</td>\n",
       "      <td>16.000000</td>\n",
       "      <td>0.000000</td>\n",
       "    </tr>\n",
       "    <tr>\n",
       "      <th>25%</th>\n",
       "      <td>2000.0</td>\n",
       "      <td>24500.000000</td>\n",
       "      <td>26.750000</td>\n",
       "      <td>5700.000000</td>\n",
       "    </tr>\n",
       "    <tr>\n",
       "      <th>50%</th>\n",
       "      <td>2000.0</td>\n",
       "      <td>45975.000000</td>\n",
       "      <td>43.500000</td>\n",
       "      <td>16550.000000</td>\n",
       "    </tr>\n",
       "    <tr>\n",
       "      <th>75%</th>\n",
       "      <td>2000.0</td>\n",
       "      <td>62840.000000</td>\n",
       "      <td>55.750000</td>\n",
       "      <td>34490.000000</td>\n",
       "    </tr>\n",
       "    <tr>\n",
       "      <th>max</th>\n",
       "      <td>2000.0</td>\n",
       "      <td>168200.000000</td>\n",
       "      <td>83.000000</td>\n",
       "      <td>123000.000000</td>\n",
       "    </tr>\n",
       "  </tbody>\n",
       "</table>\n",
       "</div>"
      ],
      "text/plain": [
       "       census_year  total_family_income        age  total_personal_income\n",
       "count         60.0            60.000000  60.000000              60.000000\n",
       "mean        2000.0         49585.166667  42.966667           24318.166667\n",
       "std            0.0         36988.493240  19.060089           26945.495299\n",
       "min         2000.0             0.000000  16.000000               0.000000\n",
       "25%         2000.0         24500.000000  26.750000            5700.000000\n",
       "50%         2000.0         45975.000000  43.500000           16550.000000\n",
       "75%         2000.0         62840.000000  55.750000           34490.000000\n",
       "max         2000.0        168200.000000  83.000000          123000.000000"
      ]
     },
     "execution_count": 410,
     "metadata": {},
     "output_type": "execute_result"
    }
   ],
   "source": [
    "cen_c.describe()"
   ]
  },
  {
   "cell_type": "code",
   "execution_count": 411,
   "metadata": {},
   "outputs": [
    {
     "data": {
      "text/plain": [
       "count    39.000000\n",
       "mean     37.307692\n",
       "std      22.281871\n",
       "min       1.000000\n",
       "25%      19.000000\n",
       "50%      43.000000\n",
       "75%      55.000000\n",
       "max      80.000000\n",
       "Name: age, dtype: float64"
      ]
     },
     "execution_count": 411,
     "metadata": {},
     "output_type": "execute_result"
    }
   ],
   "source": [
    "cen_c_fl_age.describe()"
   ]
  },
  {
   "cell_type": "code",
   "execution_count": 412,
   "metadata": {},
   "outputs": [
    {
     "data": {
      "text/plain": [
       "count    43.000000\n",
       "mean     30.418605\n",
       "std      23.182745\n",
       "min       1.000000\n",
       "25%      12.000000\n",
       "50%      28.000000\n",
       "75%      43.000000\n",
       "max      83.000000\n",
       "Name: age, dtype: float64"
      ]
     },
     "execution_count": 412,
     "metadata": {},
     "output_type": "execute_result"
    }
   ],
   "source": [
    "cen_c_ny_age.describe()"
   ]
  },
  {
   "cell_type": "code",
   "execution_count": 413,
   "metadata": {},
   "outputs": [
    {
     "data": {
      "text/plain": [
       "census_year              0.000000\n",
       "total_family_income      1.220308\n",
       "age                      0.372109\n",
       "total_personal_income    2.136616\n",
       "dtype: float64"
      ]
     },
     "execution_count": 413,
     "metadata": {},
     "output_type": "execute_result"
    }
   ],
   "source": [
    "cen_c.skew()"
   ]
  },
  {
   "cell_type": "markdown",
   "metadata": {},
   "source": [
    "Between Florida and New York, there are not a lot of data points, which will limit the accuracy of the conclusion. All data points are from the year 2000. Total family income and total personal income are skewed, which make sense because more people are likely to make a lower salary. "
   ]
  },
  {
   "cell_type": "code",
   "execution_count": 414,
   "metadata": {
    "scrolled": false
   },
   "outputs": [
    {
     "data": {
      "text/plain": [
       "array([[<matplotlib.axes._subplots.AxesSubplot object at 0x12f52b850>,\n",
       "        <matplotlib.axes._subplots.AxesSubplot object at 0x12f66c4d0>],\n",
       "       [<matplotlib.axes._subplots.AxesSubplot object at 0x12f578690>,\n",
       "        <matplotlib.axes._subplots.AxesSubplot object at 0x12f698850>]],\n",
       "      dtype=object)"
      ]
     },
     "execution_count": 414,
     "metadata": {},
     "output_type": "execute_result"
    },
    {
     "data": {
      "image/png": "[encoded data removed]",
      "text/plain": [
       "<Figure size 432x288 with 4 Axes>"
      ]
     },
     "metadata": {
      "needs_background": "light"
     },
     "output_type": "display_data"
    }
   ],
   "source": [
    "cen_c.hist()"
   ]
  },
  {
   "cell_type": "code",
   "execution_count": 415,
   "metadata": {
    "scrolled": true
   },
   "outputs": [
    {
     "data": {
      "text/plain": [
       "<matplotlib.axes._subplots.AxesSubplot at 0x12f415fd0>"
      ]
     },
     "execution_count": 415,
     "metadata": {},
     "output_type": "execute_result"
    },
    {
     "data": {
      "image/png": "[encoded data removed]",
      "text/plain": [
       "<Figure size 432x288 with 1 Axes>"
      ]
     },
     "metadata": {
      "needs_background": "light"
     },
     "output_type": "display_data"
    }
   ],
   "source": [
    "cen_c_fl_age.hist()"
   ]
  },
  {
   "cell_type": "code",
   "execution_count": 416,
   "metadata": {},
   "outputs": [
    {
     "data": {
      "text/plain": [
       "<matplotlib.axes._subplots.AxesSubplot at 0x12f7afc50>"
      ]
     },
     "execution_count": 416,
     "metadata": {},
     "output_type": "execute_result"
    },
    {
     "data": {
      "image/png": "[encoded data removed]",
      "text/plain": [
       "<Figure size 432x288 with 1 Axes>"
      ]
     },
     "metadata": {
      "needs_background": "light"
     },
     "output_type": "display_data"
    }
   ],
   "source": [
    "cen_c_ny_age.hist()"
   ]
  },
  {
   "cell_type": "markdown",
   "metadata": {},
   "source": [
    "It appears as if there is not a very even sampling of age in the dataframe. This could leave out important data points that would contribute to the accuracy of the conclusion. The distributions of total family and personal income seem realistic in where they peak because total family income will have a higer mean and median value in comparison to total personal income. For this reason, only outliers pertaining to age will be addressed via the IQR method."
   ]
  },
  {
   "cell_type": "code",
   "execution_count": 417,
   "metadata": {
    "scrolled": true
   },
   "outputs": [
    {
     "data": {
      "text/plain": [
       "<matplotlib.axes._subplots.AxesSubplot at 0x12fa85810>"
      ]
     },
     "execution_count": 417,
     "metadata": {},
     "output_type": "execute_result"
    },
    {
     "data": {
      "image/png": "[encoded data removed]",
      "text/plain": [
       "<Figure size 432x288 with 1 Axes>"
      ]
     },
     "metadata": {
      "needs_background": "light"
     },
     "output_type": "display_data"
    }
   ],
   "source": [
    "count_race = cen_c.groupby (['race_general']).size()\n",
    "count_race\n",
    "count_race.plot.barh()"
   ]
  },
  {
   "cell_type": "markdown",
   "metadata": {},
   "source": [
    "Being that the majority of the surveyed are white, this will impact the conclusion because of lack of representation. "
   ]
  },
  {
   "cell_type": "markdown",
   "metadata": {},
   "source": [
    "#### Removing outliers of age in Florida via IQR method"
   ]
  },
  {
   "cell_type": "code",
   "execution_count": 418,
   "metadata": {},
   "outputs": [
    {
     "name": "stdout",
     "output_type": "stream",
     "text": [
      "0\n",
      "0\n",
      "-11.0\n",
      "97.0\n"
     ]
    },
    {
     "data": {
      "text/html": [
       "<div>\n",
       "<style scoped>\n",
       "    .dataframe tbody tr th:only-of-type {\n",
       "        vertical-align: middle;\n",
       "    }\n",
       "\n",
       "    .dataframe tbody tr th {\n",
       "        vertical-align: top;\n",
       "    }\n",
       "\n",
       "    .dataframe thead th {\n",
       "        text-align: right;\n",
       "    }\n",
       "</style>\n",
       "<table border=\"1\" class=\"dataframe\">\n",
       "  <thead>\n",
       "    <tr style=\"text-align: right;\">\n",
       "      <th></th>\n",
       "      <th>census_year</th>\n",
       "      <th>state_fips_code</th>\n",
       "      <th>total_family_income</th>\n",
       "      <th>age</th>\n",
       "      <th>sex</th>\n",
       "      <th>race_general</th>\n",
       "      <th>marital_status</th>\n",
       "      <th>total_personal_income</th>\n",
       "    </tr>\n",
       "  </thead>\n",
       "  <tbody>\n",
       "    <tr>\n",
       "      <th>0</th>\n",
       "      <td>2000</td>\n",
       "      <td>Florida</td>\n",
       "      <td>14550.0</td>\n",
       "      <td>44</td>\n",
       "      <td>Male</td>\n",
       "      <td>Two major races</td>\n",
       "      <td>Married/spouse present</td>\n",
       "      <td>0.0</td>\n",
       "    </tr>\n",
       "    <tr>\n",
       "      <th>1</th>\n",
       "      <td>2000</td>\n",
       "      <td>Florida</td>\n",
       "      <td>22800.0</td>\n",
       "      <td>20</td>\n",
       "      <td>Female</td>\n",
       "      <td>White</td>\n",
       "      <td>Never married/single</td>\n",
       "      <td>13000.0</td>\n",
       "    </tr>\n",
       "    <tr>\n",
       "      <th>2</th>\n",
       "      <td>2000</td>\n",
       "      <td>Florida</td>\n",
       "      <td>0.0</td>\n",
       "      <td>20</td>\n",
       "      <td>Male</td>\n",
       "      <td>Black</td>\n",
       "      <td>Never married/single</td>\n",
       "      <td>20000.0</td>\n",
       "    </tr>\n",
       "    <tr>\n",
       "      <th>3</th>\n",
       "      <td>2000</td>\n",
       "      <td>Florida</td>\n",
       "      <td>23000.0</td>\n",
       "      <td>6</td>\n",
       "      <td>Female</td>\n",
       "      <td>White</td>\n",
       "      <td>Never married/single</td>\n",
       "      <td>NaN</td>\n",
       "    </tr>\n",
       "    <tr>\n",
       "      <th>4</th>\n",
       "      <td>2000</td>\n",
       "      <td>Florida</td>\n",
       "      <td>48000.0</td>\n",
       "      <td>55</td>\n",
       "      <td>Male</td>\n",
       "      <td>White</td>\n",
       "      <td>Married/spouse present</td>\n",
       "      <td>36000.0</td>\n",
       "    </tr>\n",
       "  </tbody>\n",
       "</table>\n",
       "</div>"
      ],
      "text/plain": [
       "   census_year state_fips_code  total_family_income  age     sex  \\\n",
       "0         2000         Florida              14550.0   44    Male   \n",
       "1         2000         Florida              22800.0   20  Female   \n",
       "2         2000         Florida                  0.0   20    Male   \n",
       "3         2000         Florida              23000.0    6  Female   \n",
       "4         2000         Florida              48000.0   55    Male   \n",
       "\n",
       "      race_general          marital_status  total_personal_income  \n",
       "0  Two major races  Married/spouse present                    0.0  \n",
       "1            White    Never married/single                13000.0  \n",
       "2            Black    Never married/single                20000.0  \n",
       "3            White    Never married/single                    NaN  \n",
       "4            White  Married/spouse present                36000.0  "
      ]
     },
     "execution_count": 418,
     "metadata": {},
     "output_type": "execute_result"
    }
   ],
   "source": [
    "age_fl = cen_c_fl['age']\n",
    "age_fl_median = age_fl.median()\n",
    "age_fl_iqr = age_fl.quantile(0.75) - age_fl.quantile(0.25)\n",
    "\n",
    "print len(cen_c_fl[age_fl > age_fl_median+1.5*age_fl_iqr])\n",
    "print len(cen_c_fl[age_fl < age_fl_median-1.5*age_fl_iqr])\n",
    "\n",
    "fl_median_outlier_drop = cen_c_fl.drop(\n",
    "    cen_c_fl.index[\n",
    "        (age_fl > age_fl_median+1.5*age_fl_iqr) | (age_fl<age_fl_median-1.5*age_fl_iqr)\n",
    "    ]\n",
    ")\n",
    "\n",
    "print age_fl_median - 1.5*age_fl_iqr\n",
    "print age_fl_median + 1.5*age_fl_iqr\n",
    "\n",
    "fl_median_outlier_drop.head()"
   ]
  },
  {
   "cell_type": "markdown",
   "metadata": {},
   "source": [
    "#### Removing outliers of age in New York via IQR method"
   ]
  },
  {
   "cell_type": "code",
   "execution_count": 419,
   "metadata": {
    "scrolled": true
   },
   "outputs": [
    {
     "name": "stdout",
     "output_type": "stream",
     "text": [
      "3\n",
      "0\n",
      "-18.5\n",
      "74.5\n"
     ]
    },
    {
     "data": {
      "text/html": [
       "<div>\n",
       "<style scoped>\n",
       "    .dataframe tbody tr th:only-of-type {\n",
       "        vertical-align: middle;\n",
       "    }\n",
       "\n",
       "    .dataframe tbody tr th {\n",
       "        vertical-align: top;\n",
       "    }\n",
       "\n",
       "    .dataframe thead th {\n",
       "        text-align: right;\n",
       "    }\n",
       "</style>\n",
       "<table border=\"1\" class=\"dataframe\">\n",
       "  <thead>\n",
       "    <tr style=\"text-align: right;\">\n",
       "      <th></th>\n",
       "      <th>census_year</th>\n",
       "      <th>state_fips_code</th>\n",
       "      <th>total_family_income</th>\n",
       "      <th>age</th>\n",
       "      <th>sex</th>\n",
       "      <th>race_general</th>\n",
       "      <th>marital_status</th>\n",
       "      <th>total_personal_income</th>\n",
       "    </tr>\n",
       "  </thead>\n",
       "  <tbody>\n",
       "    <tr>\n",
       "      <th>40</th>\n",
       "      <td>2000</td>\n",
       "      <td>New York</td>\n",
       "      <td>0.0</td>\n",
       "      <td>46</td>\n",
       "      <td>Female</td>\n",
       "      <td>White</td>\n",
       "      <td>Divorced</td>\n",
       "      <td>17000.0</td>\n",
       "    </tr>\n",
       "    <tr>\n",
       "      <th>41</th>\n",
       "      <td>2000</td>\n",
       "      <td>New York</td>\n",
       "      <td>165000.0</td>\n",
       "      <td>63</td>\n",
       "      <td>Male</td>\n",
       "      <td>White</td>\n",
       "      <td>Married/spouse present</td>\n",
       "      <td>123000.0</td>\n",
       "    </tr>\n",
       "    <tr>\n",
       "      <th>43</th>\n",
       "      <td>2000</td>\n",
       "      <td>New York</td>\n",
       "      <td>48630.0</td>\n",
       "      <td>35</td>\n",
       "      <td>Female</td>\n",
       "      <td>White</td>\n",
       "      <td>Married/spouse present</td>\n",
       "      <td>15830.0</td>\n",
       "    </tr>\n",
       "    <tr>\n",
       "      <th>44</th>\n",
       "      <td>2000</td>\n",
       "      <td>New York</td>\n",
       "      <td>13000.0</td>\n",
       "      <td>1</td>\n",
       "      <td>Male</td>\n",
       "      <td>White</td>\n",
       "      <td>Never married/single</td>\n",
       "      <td>NaN</td>\n",
       "    </tr>\n",
       "    <tr>\n",
       "      <th>45</th>\n",
       "      <td>2000</td>\n",
       "      <td>New York</td>\n",
       "      <td>68020.0</td>\n",
       "      <td>2</td>\n",
       "      <td>Female</td>\n",
       "      <td>Chinese</td>\n",
       "      <td>Never married/single</td>\n",
       "      <td>NaN</td>\n",
       "    </tr>\n",
       "  </tbody>\n",
       "</table>\n",
       "</div>"
      ],
      "text/plain": [
       "    census_year state_fips_code  total_family_income  age     sex  \\\n",
       "40         2000        New York                  0.0   46  Female   \n",
       "41         2000        New York             165000.0   63    Male   \n",
       "43         2000        New York              48630.0   35  Female   \n",
       "44         2000        New York              13000.0    1    Male   \n",
       "45         2000        New York              68020.0    2  Female   \n",
       "\n",
       "   race_general          marital_status  total_personal_income  \n",
       "40        White                Divorced                17000.0  \n",
       "41        White  Married/spouse present               123000.0  \n",
       "43        White  Married/spouse present                15830.0  \n",
       "44        White    Never married/single                    NaN  \n",
       "45      Chinese    Never married/single                    NaN  "
      ]
     },
     "execution_count": 419,
     "metadata": {},
     "output_type": "execute_result"
    }
   ],
   "source": [
    "age_ny = cen_c_ny['age']\n",
    "age_ny_median = age_ny.median()\n",
    "age_ny_iqr = age_ny.quantile(0.75) - age_ny.quantile(0.25)\n",
    "\n",
    "print len(cen_c_ny[age_ny > age_ny_median+1.5*age_ny_iqr])\n",
    "print len(cen_c_ny[age_ny < age_ny_median-1.5*age_ny_iqr])\n",
    "\n",
    "ny_median_outlier_drop = cen_c_ny.drop(\n",
    "    cen_c_ny.index[\n",
    "        (age_ny > age_ny_median+1.5*age_ny_iqr) | (age_ny<age_ny_median-1.5*age_ny_iqr)\n",
    "    ]\n",
    ")\n",
    "\n",
    "print age_ny_median - 1.5*age_ny_iqr\n",
    "print age_ny_median + 1.5*age_ny_iqr\n",
    "\n",
    "ny_median_outlier_drop.head()"
   ]
  },
  {
   "cell_type": "code",
   "execution_count": 420,
   "metadata": {},
   "outputs": [
    {
     "name": "stdout",
     "output_type": "stream",
     "text": [
      "census_year               2000.000000\n",
      "total_family_income      46848.205128\n",
      "age                         37.307692\n",
      "total_personal_income    20436.562500\n",
      "dtype: float64\n",
      "census_year               2000.000000\n",
      "total_family_income      59545.405405\n",
      "age                         26.550000\n",
      "total_personal_income    25991.071429\n",
      "dtype: float64\n"
     ]
    }
   ],
   "source": [
    "print fl_median_outlier_drop.mean()\n",
    "print ny_median_outlier_drop.mean()"
   ]
  },
  {
   "cell_type": "markdown",
   "metadata": {},
   "source": [
    "After removing outliers, it appears as if New York has a higher average age than Florida. Thus, the data analysis was essential to getting a clearer picture to answer the question at hand. "
   ]
  },
  {
   "cell_type": "markdown",
   "metadata": {},
   "source": [
    "### Part (d)\n",
    "\n",
    "Is the standard deviation of age in Florida different than that of New York?"
   ]
  },
  {
   "cell_type": "code",
   "execution_count": 421,
   "metadata": {
    "scrolled": false
   },
   "outputs": [
    {
     "data": {
      "text/plain": [
       "<matplotlib.axes._subplots.AxesSubplot at 0x12fb207d0>"
      ]
     },
     "execution_count": 421,
     "metadata": {},
     "output_type": "execute_result"
    },
    {
     "data": {
      "image/png": "[encoded data removed]",
      "text/plain": [
       "<Figure size 432x288 with 1 Axes>"
      ]
     },
     "metadata": {
      "needs_background": "light"
     },
     "output_type": "display_data"
    }
   ],
   "source": [
    "cen_d = cen[(cen['state_fips_code']=='Florida')|(cen['state_fips_code']=='New York')]\n",
    "\n",
    "cen_d_plot = cen_d [['state_fips_code','age']].groupby('state_fips_code').std()\n",
    "\n",
    "cen_d_plot.plot(kind = 'bar')"
   ]
  },
  {
   "cell_type": "code",
   "execution_count": 422,
   "metadata": {
    "scrolled": true
   },
   "outputs": [
    {
     "name": "stdout",
     "output_type": "stream",
     "text": [
      "22.2818711372\n"
     ]
    }
   ],
   "source": [
    "print cen_c_fl_age.std()"
   ]
  },
  {
   "cell_type": "code",
   "execution_count": 423,
   "metadata": {},
   "outputs": [
    {
     "name": "stdout",
     "output_type": "stream",
     "text": [
      "census_year                  0.000000\n",
      "total_family_income      31786.897240\n",
      "age                         22.281871\n",
      "total_personal_income    15563.922428\n",
      "dtype: float64\n"
     ]
    }
   ],
   "source": [
    "print fl_median_outlier_drop.std()"
   ]
  },
  {
   "cell_type": "code",
   "execution_count": 424,
   "metadata": {
    "scrolled": true
   },
   "outputs": [
    {
     "name": "stdout",
     "output_type": "stream",
     "text": [
      "23.1827445663\n"
     ]
    }
   ],
   "source": [
    "print cen_c_ny_age.std()"
   ]
  },
  {
   "cell_type": "code",
   "execution_count": 425,
   "metadata": {},
   "outputs": [
    {
     "name": "stdout",
     "output_type": "stream",
     "text": [
      "census_year                  0.000000\n",
      "total_family_income      45327.587724\n",
      "age                         18.939783\n",
      "total_personal_income    36101.628704\n",
      "dtype: float64\n"
     ]
    }
   ],
   "source": [
    "print ny_median_outlier_drop.std()"
   ]
  },
  {
   "cell_type": "markdown",
   "metadata": {},
   "source": [
    "Without any manipulation of the data, it appears as if Florida has a slightly higher standard deviation of age than Florida. This is backed up my the previous removal of outliers via the IQR method. Further analysis will assess the accuracy of this."
   ]
  },
  {
   "cell_type": "code",
   "execution_count": 426,
   "metadata": {},
   "outputs": [],
   "source": [
    "cen_d = cen_d.dropna()"
   ]
  },
  {
   "cell_type": "code",
   "execution_count": 427,
   "metadata": {
    "scrolled": true
   },
   "outputs": [
    {
     "data": {
      "text/html": [
       "<div>\n",
       "<style scoped>\n",
       "    .dataframe tbody tr th:only-of-type {\n",
       "        vertical-align: middle;\n",
       "    }\n",
       "\n",
       "    .dataframe tbody tr th {\n",
       "        vertical-align: top;\n",
       "    }\n",
       "\n",
       "    .dataframe thead th {\n",
       "        text-align: right;\n",
       "    }\n",
       "</style>\n",
       "<table border=\"1\" class=\"dataframe\">\n",
       "  <thead>\n",
       "    <tr style=\"text-align: right;\">\n",
       "      <th></th>\n",
       "      <th>census_year</th>\n",
       "      <th>total_family_income</th>\n",
       "      <th>age</th>\n",
       "      <th>total_personal_income</th>\n",
       "    </tr>\n",
       "  </thead>\n",
       "  <tbody>\n",
       "    <tr>\n",
       "      <th>count</th>\n",
       "      <td>60.0</td>\n",
       "      <td>60.000000</td>\n",
       "      <td>60.000000</td>\n",
       "      <td>60.000000</td>\n",
       "    </tr>\n",
       "    <tr>\n",
       "      <th>mean</th>\n",
       "      <td>2000.0</td>\n",
       "      <td>49585.166667</td>\n",
       "      <td>42.966667</td>\n",
       "      <td>24318.166667</td>\n",
       "    </tr>\n",
       "    <tr>\n",
       "      <th>std</th>\n",
       "      <td>0.0</td>\n",
       "      <td>36988.493240</td>\n",
       "      <td>19.060089</td>\n",
       "      <td>26945.495299</td>\n",
       "    </tr>\n",
       "    <tr>\n",
       "      <th>min</th>\n",
       "      <td>2000.0</td>\n",
       "      <td>0.000000</td>\n",
       "      <td>16.000000</td>\n",
       "      <td>0.000000</td>\n",
       "    </tr>\n",
       "    <tr>\n",
       "      <th>25%</th>\n",
       "      <td>2000.0</td>\n",
       "      <td>24500.000000</td>\n",
       "      <td>26.750000</td>\n",
       "      <td>5700.000000</td>\n",
       "    </tr>\n",
       "    <tr>\n",
       "      <th>50%</th>\n",
       "      <td>2000.0</td>\n",
       "      <td>45975.000000</td>\n",
       "      <td>43.500000</td>\n",
       "      <td>16550.000000</td>\n",
       "    </tr>\n",
       "    <tr>\n",
       "      <th>75%</th>\n",
       "      <td>2000.0</td>\n",
       "      <td>62840.000000</td>\n",
       "      <td>55.750000</td>\n",
       "      <td>34490.000000</td>\n",
       "    </tr>\n",
       "    <tr>\n",
       "      <th>max</th>\n",
       "      <td>2000.0</td>\n",
       "      <td>168200.000000</td>\n",
       "      <td>83.000000</td>\n",
       "      <td>123000.000000</td>\n",
       "    </tr>\n",
       "  </tbody>\n",
       "</table>\n",
       "</div>"
      ],
      "text/plain": [
       "       census_year  total_family_income        age  total_personal_income\n",
       "count         60.0            60.000000  60.000000              60.000000\n",
       "mean        2000.0         49585.166667  42.966667           24318.166667\n",
       "std            0.0         36988.493240  19.060089           26945.495299\n",
       "min         2000.0             0.000000  16.000000               0.000000\n",
       "25%         2000.0         24500.000000  26.750000            5700.000000\n",
       "50%         2000.0         45975.000000  43.500000           16550.000000\n",
       "75%         2000.0         62840.000000  55.750000           34490.000000\n",
       "max         2000.0        168200.000000  83.000000          123000.000000"
      ]
     },
     "execution_count": 427,
     "metadata": {},
     "output_type": "execute_result"
    }
   ],
   "source": [
    "cen_d.describe()"
   ]
  },
  {
   "cell_type": "code",
   "execution_count": 428,
   "metadata": {
    "scrolled": true
   },
   "outputs": [
    {
     "data": {
      "text/plain": [
       "<matplotlib.axes._subplots.AxesSubplot at 0x12fc59890>"
      ]
     },
     "execution_count": 428,
     "metadata": {},
     "output_type": "execute_result"
    },
    {
     "data": {
      "image/png": "[encoded data removed]",
      "text/plain": [
       "<Figure size 432x288 with 1 Axes>"
      ]
     },
     "metadata": {
      "needs_background": "light"
     },
     "output_type": "display_data"
    }
   ],
   "source": [
    "cen_c_fl_age.hist()"
   ]
  },
  {
   "cell_type": "code",
   "execution_count": 429,
   "metadata": {},
   "outputs": [
    {
     "data": {
      "text/plain": [
       "<matplotlib.axes._subplots.AxesSubplot at 0x12fcaee90>"
      ]
     },
     "execution_count": 429,
     "metadata": {},
     "output_type": "execute_result"
    },
    {
     "data": {
      "image/png": "[encoded data removed]",
      "text/plain": [
       "<Figure size 432x288 with 1 Axes>"
      ]
     },
     "metadata": {
      "needs_background": "light"
     },
     "output_type": "display_data"
    }
   ],
   "source": [
    "cen_c_ny_age.hist()"
   ]
  },
  {
   "cell_type": "markdown",
   "metadata": {},
   "source": [
    "There appear to be outliers for age and while previous removal of outliers can confirm that Florida has a higher standard deviation in age than New York, the mean method of removing outliers will be done as well to strengthen the conclusion."
   ]
  },
  {
   "cell_type": "code",
   "execution_count": 430,
   "metadata": {},
   "outputs": [
    {
     "name": "stdout",
     "output_type": "stream",
     "text": [
      "-74.1016633785\n",
      "148.717047994\n"
     ]
    },
    {
     "data": {
      "text/html": [
       "<div>\n",
       "<style scoped>\n",
       "    .dataframe tbody tr th:only-of-type {\n",
       "        vertical-align: middle;\n",
       "    }\n",
       "\n",
       "    .dataframe tbody tr th {\n",
       "        vertical-align: top;\n",
       "    }\n",
       "\n",
       "    .dataframe thead th {\n",
       "        text-align: right;\n",
       "    }\n",
       "</style>\n",
       "<table border=\"1\" class=\"dataframe\">\n",
       "  <thead>\n",
       "    <tr style=\"text-align: right;\">\n",
       "      <th></th>\n",
       "      <th>census_year</th>\n",
       "      <th>state_fips_code</th>\n",
       "      <th>total_family_income</th>\n",
       "      <th>age</th>\n",
       "      <th>sex</th>\n",
       "      <th>race_general</th>\n",
       "      <th>marital_status</th>\n",
       "      <th>total_personal_income</th>\n",
       "    </tr>\n",
       "  </thead>\n",
       "  <tbody>\n",
       "    <tr>\n",
       "      <th>0</th>\n",
       "      <td>2000</td>\n",
       "      <td>Florida</td>\n",
       "      <td>14550.0</td>\n",
       "      <td>44</td>\n",
       "      <td>Male</td>\n",
       "      <td>Two major races</td>\n",
       "      <td>Married/spouse present</td>\n",
       "      <td>0.0</td>\n",
       "    </tr>\n",
       "    <tr>\n",
       "      <th>1</th>\n",
       "      <td>2000</td>\n",
       "      <td>Florida</td>\n",
       "      <td>22800.0</td>\n",
       "      <td>20</td>\n",
       "      <td>Female</td>\n",
       "      <td>White</td>\n",
       "      <td>Never married/single</td>\n",
       "      <td>13000.0</td>\n",
       "    </tr>\n",
       "    <tr>\n",
       "      <th>2</th>\n",
       "      <td>2000</td>\n",
       "      <td>Florida</td>\n",
       "      <td>0.0</td>\n",
       "      <td>20</td>\n",
       "      <td>Male</td>\n",
       "      <td>Black</td>\n",
       "      <td>Never married/single</td>\n",
       "      <td>20000.0</td>\n",
       "    </tr>\n",
       "    <tr>\n",
       "      <th>3</th>\n",
       "      <td>2000</td>\n",
       "      <td>Florida</td>\n",
       "      <td>23000.0</td>\n",
       "      <td>6</td>\n",
       "      <td>Female</td>\n",
       "      <td>White</td>\n",
       "      <td>Never married/single</td>\n",
       "      <td>NaN</td>\n",
       "    </tr>\n",
       "    <tr>\n",
       "      <th>4</th>\n",
       "      <td>2000</td>\n",
       "      <td>Florida</td>\n",
       "      <td>48000.0</td>\n",
       "      <td>55</td>\n",
       "      <td>Male</td>\n",
       "      <td>White</td>\n",
       "      <td>Married/spouse present</td>\n",
       "      <td>36000.0</td>\n",
       "    </tr>\n",
       "  </tbody>\n",
       "</table>\n",
       "</div>"
      ],
      "text/plain": [
       "   census_year state_fips_code  total_family_income  age     sex  \\\n",
       "0         2000         Florida              14550.0   44    Male   \n",
       "1         2000         Florida              22800.0   20  Female   \n",
       "2         2000         Florida                  0.0   20    Male   \n",
       "3         2000         Florida              23000.0    6  Female   \n",
       "4         2000         Florida              48000.0   55    Male   \n",
       "\n",
       "      race_general          marital_status  total_personal_income  \n",
       "0  Two major races  Married/spouse present                    0.0  \n",
       "1            White    Never married/single                13000.0  \n",
       "2            Black    Never married/single                20000.0  \n",
       "3            White    Never married/single                    NaN  \n",
       "4            White  Married/spouse present                36000.0  "
      ]
     },
     "execution_count": 430,
     "metadata": {},
     "output_type": "execute_result"
    }
   ],
   "source": [
    "fl_age = cen_c_fl['age']\n",
    "fl_age_mean = fl_age.mean()\n",
    "fl_age_mean = fl_age.mean()\n",
    "fl_age_std = fl_age.std()\n",
    "\n",
    "fl_age_mean_outlier_drop = cen_c_fl.drop(\n",
    "    cen_c_fl.index[\n",
    "        (fl_age> fl_age_mean+5*fl_age_std) | (fl_age<fl_age_mean-5*fl_age_std)\n",
    "    ]\n",
    ")\n",
    "\n",
    "print fl_age_mean - 5*fl_age_std\n",
    "print fl_age_mean + 5*fl_age_std\n",
    "\n",
    "fl_age_mean_outlier_drop.head()"
   ]
  },
  {
   "cell_type": "code",
   "execution_count": 431,
   "metadata": {
    "scrolled": true
   },
   "outputs": [
    {
     "name": "stdout",
     "output_type": "stream",
     "text": [
      "-85.4951181803\n",
      "146.332327483\n"
     ]
    },
    {
     "data": {
      "text/html": [
       "<div>\n",
       "<style scoped>\n",
       "    .dataframe tbody tr th:only-of-type {\n",
       "        vertical-align: middle;\n",
       "    }\n",
       "\n",
       "    .dataframe tbody tr th {\n",
       "        vertical-align: top;\n",
       "    }\n",
       "\n",
       "    .dataframe thead th {\n",
       "        text-align: right;\n",
       "    }\n",
       "</style>\n",
       "<table border=\"1\" class=\"dataframe\">\n",
       "  <thead>\n",
       "    <tr style=\"text-align: right;\">\n",
       "      <th></th>\n",
       "      <th>census_year</th>\n",
       "      <th>state_fips_code</th>\n",
       "      <th>total_family_income</th>\n",
       "      <th>age</th>\n",
       "      <th>sex</th>\n",
       "      <th>race_general</th>\n",
       "      <th>marital_status</th>\n",
       "      <th>total_personal_income</th>\n",
       "    </tr>\n",
       "  </thead>\n",
       "  <tbody>\n",
       "    <tr>\n",
       "      <th>39</th>\n",
       "      <td>2000</td>\n",
       "      <td>New York</td>\n",
       "      <td>8800.0</td>\n",
       "      <td>82</td>\n",
       "      <td>Female</td>\n",
       "      <td>White</td>\n",
       "      <td>Widowed</td>\n",
       "      <td>8800.0</td>\n",
       "    </tr>\n",
       "    <tr>\n",
       "      <th>40</th>\n",
       "      <td>2000</td>\n",
       "      <td>New York</td>\n",
       "      <td>0.0</td>\n",
       "      <td>46</td>\n",
       "      <td>Female</td>\n",
       "      <td>White</td>\n",
       "      <td>Divorced</td>\n",
       "      <td>17000.0</td>\n",
       "    </tr>\n",
       "    <tr>\n",
       "      <th>41</th>\n",
       "      <td>2000</td>\n",
       "      <td>New York</td>\n",
       "      <td>165000.0</td>\n",
       "      <td>63</td>\n",
       "      <td>Male</td>\n",
       "      <td>White</td>\n",
       "      <td>Married/spouse present</td>\n",
       "      <td>123000.0</td>\n",
       "    </tr>\n",
       "    <tr>\n",
       "      <th>42</th>\n",
       "      <td>2000</td>\n",
       "      <td>New York</td>\n",
       "      <td>15570.0</td>\n",
       "      <td>83</td>\n",
       "      <td>Male</td>\n",
       "      <td>White</td>\n",
       "      <td>Widowed</td>\n",
       "      <td>15570.0</td>\n",
       "    </tr>\n",
       "    <tr>\n",
       "      <th>43</th>\n",
       "      <td>2000</td>\n",
       "      <td>New York</td>\n",
       "      <td>48630.0</td>\n",
       "      <td>35</td>\n",
       "      <td>Female</td>\n",
       "      <td>White</td>\n",
       "      <td>Married/spouse present</td>\n",
       "      <td>15830.0</td>\n",
       "    </tr>\n",
       "  </tbody>\n",
       "</table>\n",
       "</div>"
      ],
      "text/plain": [
       "    census_year state_fips_code  total_family_income  age     sex  \\\n",
       "39         2000        New York               8800.0   82  Female   \n",
       "40         2000        New York                  0.0   46  Female   \n",
       "41         2000        New York             165000.0   63    Male   \n",
       "42         2000        New York              15570.0   83    Male   \n",
       "43         2000        New York              48630.0   35  Female   \n",
       "\n",
       "   race_general          marital_status  total_personal_income  \n",
       "39        White                 Widowed                 8800.0  \n",
       "40        White                Divorced                17000.0  \n",
       "41        White  Married/spouse present               123000.0  \n",
       "42        White                 Widowed                15570.0  \n",
       "43        White  Married/spouse present                15830.0  "
      ]
     },
     "execution_count": 431,
     "metadata": {},
     "output_type": "execute_result"
    }
   ],
   "source": [
    "ny_age = cen_c_ny['age']\n",
    "ny_age_mean = ny_age.mean()\n",
    "ny_age_mean = ny_age.mean()\n",
    "ny_age_std = ny_age.std()\n",
    "\n",
    "ny_age_mean_outlier_drop = cen_c_ny.drop(\n",
    "    cen_c_ny.index[\n",
    "        (ny_age> ny_age_mean+5*ny_age_std) | (ny_age<ny_age_mean-5*ny_age_std)\n",
    "    ]\n",
    ")\n",
    "\n",
    "print ny_age_mean - 5*ny_age_std\n",
    "print ny_age_mean + 5*ny_age_std\n",
    "\n",
    "ny_age_mean_outlier_drop.head()"
   ]
  },
  {
   "cell_type": "code",
   "execution_count": 432,
   "metadata": {
    "scrolled": true
   },
   "outputs": [
    {
     "data": {
      "text/plain": [
       "census_year                  0.000000\n",
       "total_family_income      31786.897240\n",
       "age                         22.281871\n",
       "total_personal_income    15563.922428\n",
       "dtype: float64"
      ]
     },
     "execution_count": 432,
     "metadata": {},
     "output_type": "execute_result"
    }
   ],
   "source": [
    "fl_age_mean_outlier_drop.std()"
   ]
  },
  {
   "cell_type": "code",
   "execution_count": 433,
   "metadata": {},
   "outputs": [
    {
     "data": {
      "text/plain": [
       "census_year                  0.000000\n",
       "total_family_income      44792.540627\n",
       "age                         23.182745\n",
       "total_personal_income    34849.883661\n",
       "dtype: float64"
      ]
     },
     "execution_count": 433,
     "metadata": {},
     "output_type": "execute_result"
    }
   ],
   "source": [
    "ny_age_mean_outlier_drop.std()"
   ]
  },
  {
   "cell_type": "markdown",
   "metadata": {},
   "source": [
    "Further analysis has backed up the conclusion that Flordia has a higher standard deviation of age than New York. "
   ]
  },
  {
   "cell_type": "markdown",
   "metadata": {},
   "source": [
    "# Task 3"
   ]
  },
  {
   "cell_type": "markdown",
   "metadata": {},
   "source": [
    "See above for exploratory data analysis of each parts a, b, c and d."
   ]
  },
  {
   "cell_type": "markdown",
   "metadata": {},
   "source": [
    "# Task 4 and 5\n",
    "\n",
    "Bootstrapping"
   ]
  },
  {
   "cell_type": "markdown",
   "metadata": {},
   "source": [
    "## NOTE\n",
    "\n",
    "Hi Professor Cicala, I was unable to interpret the error message I received in these parts, which I know will impact my ability to complete task 6. I've put all of the code down that I believe is right and am just unsure of what to do from here. I hope this is okay, I did not know what else to do. "
   ]
  },
  {
   "cell_type": "markdown",
   "metadata": {},
   "source": [
    "## Part a"
   ]
  },
  {
   "cell_type": "code",
   "execution_count": 436,
   "metadata": {},
   "outputs": [
    {
     "ename": "SyntaxError",
     "evalue": "invalid syntax (<ipython-input-436-e0cd021bb489>, line 7)",
     "output_type": "error",
     "traceback": [
      "\u001b[0;36m  File \u001b[0;32m\"<ipython-input-436-e0cd021bb489>\"\u001b[0;36m, line \u001b[0;32m7\u001b[0m\n\u001b[0;31m    ]\u001b[0m\n\u001b[0m    ^\u001b[0m\n\u001b[0;31mSyntaxError\u001b[0m\u001b[0;31m:\u001b[0m invalid syntax\n"
     ]
    }
   ],
   "source": [
    "def  median_bootstrap_a(california, texas , number_of_resamples):\n",
    "    x = [0]* number_of_resamples\n",
    "    for i in  range(number_of_resamples):\n",
    "        resample = [california[j]\n",
    "                    for j\n",
    "                    in np.random.randint(len(california, texas), size=len(california, texas)\n",
    "                    ]\n",
    "        x[california.median() - texas.median()] = np.mean(resample)\n",
    "        return x"
   ]
  },
  {
   "cell_type": "code",
   "execution_count": 438,
   "metadata": {},
   "outputs": [
    {
     "ename": "TypeError",
     "evalue": "'DataFrame' object is not callable",
     "output_type": "error",
     "traceback": [
      "\u001b[0;31m---------------------------------------------------------------------------\u001b[0m",
      "\u001b[0;31mTypeError\u001b[0m                                 Traceback (most recent call last)",
      "\u001b[0;32m<ipython-input-438-a9112aa82f3f>\u001b[0m in \u001b[0;36m<module>\u001b[0;34m()\u001b[0m\n\u001b[0;32m----> 1\u001b[0;31m \u001b[0mm_a\u001b[0m \u001b[0;34m=\u001b[0m \u001b[0mmean_bootstrap_b\u001b[0m\u001b[0;34m(\u001b[0m\u001b[0mcen_less_than\u001b[0m\u001b[0;34m,\u001b[0m \u001b[0mcen_greater_than\u001b[0m\u001b[0;34m,\u001b[0m \u001b[0;36m100\u001b[0m\u001b[0;34m)\u001b[0m\u001b[0;34m\u001b[0m\u001b[0m\n\u001b[0m\u001b[1;32m      2\u001b[0m \u001b[0mplt\u001b[0m\u001b[0;34m.\u001b[0m\u001b[0mhist\u001b[0m\u001b[0;34m(\u001b[0m\u001b[0mm_a\u001b[0m\u001b[0;34m)\u001b[0m\u001b[0;34m\u001b[0m\u001b[0m\n\u001b[1;32m      3\u001b[0m \u001b[0mplt\u001b[0m\u001b[0;34m.\u001b[0m\u001b[0mshow\u001b[0m\u001b[0;34m(\u001b[0m\u001b[0;34m)\u001b[0m\u001b[0;34m\u001b[0m\u001b[0m\n",
      "\u001b[0;32m<ipython-input-348-a39242eb09b5>\u001b[0m in \u001b[0;36mmean_bootstrap_b\u001b[0;34m(cen_less_than, cen_greater_than, number_of_resamples)\u001b[0m\n\u001b[1;32m      4\u001b[0m         resample = [cen[cen('total_family_income')]\n\u001b[1;32m      5\u001b[0m                     \u001b[0;32mfor\u001b[0m \u001b[0mj\u001b[0m\u001b[0;34m\u001b[0m\u001b[0m\n\u001b[0;32m----> 6\u001b[0;31m                     \u001b[0;32min\u001b[0m \u001b[0mnp\u001b[0m\u001b[0;34m.\u001b[0m\u001b[0mrandom\u001b[0m\u001b[0;34m.\u001b[0m\u001b[0mrandint\u001b[0m\u001b[0;34m(\u001b[0m\u001b[0mlen\u001b[0m\u001b[0;34m(\u001b[0m\u001b[0mcen\u001b[0m\u001b[0;34m(\u001b[0m\u001b[0;34m'total_family_income'\u001b[0m\u001b[0;34m)\u001b[0m\u001b[0;34m)\u001b[0m\u001b[0;34m,\u001b[0m \u001b[0msize\u001b[0m\u001b[0;34m=\u001b[0m\u001b[0mlen\u001b[0m\u001b[0;34m(\u001b[0m\u001b[0mcen\u001b[0m\u001b[0;34m(\u001b[0m\u001b[0;34m'total_family_income'\u001b[0m\u001b[0;34m)\u001b[0m\u001b[0;34m)\u001b[0m\u001b[0;34m)\u001b[0m\u001b[0;34m\u001b[0m\u001b[0m\n\u001b[0m\u001b[1;32m      7\u001b[0m                    ]\n\u001b[1;32m      8\u001b[0m         \u001b[0mx\u001b[0m\u001b[0;34m[\u001b[0m\u001b[0mp15\u001b[0m \u001b[0;34m-\u001b[0m \u001b[0mp100\u001b[0m\u001b[0;34m]\u001b[0m \u001b[0;34m=\u001b[0m \u001b[0mnp\u001b[0m\u001b[0;34m.\u001b[0m\u001b[0mmean\u001b[0m\u001b[0;34m(\u001b[0m\u001b[0mresample\u001b[0m\u001b[0;34m)\u001b[0m\u001b[0;34m\u001b[0m\u001b[0m\n",
      "\u001b[0;31mTypeError\u001b[0m: 'DataFrame' object is not callable"
     ]
    }
   ],
   "source": [
    "m_a = mean_bootstrap_a(california, texas, 100)\n",
    "plt.hist(m_a)\n",
    "plt.show()"
   ]
  },
  {
   "cell_type": "markdown",
   "metadata": {},
   "source": [
    "## Part b"
   ]
  },
  {
   "cell_type": "code",
   "execution_count": 439,
   "metadata": {},
   "outputs": [
    {
     "ename": "SyntaxError",
     "evalue": "invalid syntax (<ipython-input-439-d7edbe6a7118>, line 7)",
     "output_type": "error",
     "traceback": [
      "\u001b[0;36m  File \u001b[0;32m\"<ipython-input-439-d7edbe6a7118>\"\u001b[0;36m, line \u001b[0;32m7\u001b[0m\n\u001b[0;31m    ]\u001b[0m\n\u001b[0m    ^\u001b[0m\n\u001b[0;31mSyntaxError\u001b[0m\u001b[0;31m:\u001b[0m invalid syntax\n"
     ]
    }
   ],
   "source": [
    "def  mean_bootstrap_b(cen_less_than, cen_greater_than , number_of_resamples):\n",
    "    y = [0]* number_of_resamples\n",
    "    for i in  range(number_of_resamples):\n",
    "        resample = [cen[cen('total_family_income')]\n",
    "                    for j\n",
    "                    in np.random.randint(len(cen_less_than, cen_greater_than), size=len(cen_less_than, cen_greater_than)\n",
    "                   ]\n",
    "        x[p15 - p100] = np.mean(resample)\n",
    "        return y"
   ]
  },
  {
   "cell_type": "code",
   "execution_count": 440,
   "metadata": {},
   "outputs": [
    {
     "ename": "TypeError",
     "evalue": "'DataFrame' object is not callable",
     "output_type": "error",
     "traceback": [
      "\u001b[0;31m---------------------------------------------------------------------------\u001b[0m",
      "\u001b[0;31mTypeError\u001b[0m                                 Traceback (most recent call last)",
      "\u001b[0;32m<ipython-input-440-6c488c631eb4>\u001b[0m in \u001b[0;36m<module>\u001b[0;34m()\u001b[0m\n\u001b[0;32m----> 1\u001b[0;31m \u001b[0mm_b\u001b[0m \u001b[0;34m=\u001b[0m \u001b[0mmean_bootstrap_b\u001b[0m\u001b[0;34m(\u001b[0m\u001b[0mcen_less_than\u001b[0m\u001b[0;34m,\u001b[0m \u001b[0mcen_greater_than\u001b[0m\u001b[0;34m,\u001b[0m \u001b[0;36m100\u001b[0m\u001b[0;34m)\u001b[0m\u001b[0;34m\u001b[0m\u001b[0m\n\u001b[0m\u001b[1;32m      2\u001b[0m \u001b[0mplt\u001b[0m\u001b[0;34m.\u001b[0m\u001b[0mhist\u001b[0m\u001b[0;34m(\u001b[0m\u001b[0mm_b\u001b[0m\u001b[0;34m)\u001b[0m\u001b[0;34m\u001b[0m\u001b[0m\n\u001b[1;32m      3\u001b[0m \u001b[0mplt\u001b[0m\u001b[0;34m.\u001b[0m\u001b[0mshow\u001b[0m\u001b[0;34m(\u001b[0m\u001b[0;34m)\u001b[0m\u001b[0;34m\u001b[0m\u001b[0m\n",
      "\u001b[0;32m<ipython-input-348-a39242eb09b5>\u001b[0m in \u001b[0;36mmean_bootstrap_b\u001b[0;34m(cen_less_than, cen_greater_than, number_of_resamples)\u001b[0m\n\u001b[1;32m      4\u001b[0m         resample = [cen[cen('total_family_income')]\n\u001b[1;32m      5\u001b[0m                     \u001b[0;32mfor\u001b[0m \u001b[0mj\u001b[0m\u001b[0;34m\u001b[0m\u001b[0m\n\u001b[0;32m----> 6\u001b[0;31m                     \u001b[0;32min\u001b[0m \u001b[0mnp\u001b[0m\u001b[0;34m.\u001b[0m\u001b[0mrandom\u001b[0m\u001b[0;34m.\u001b[0m\u001b[0mrandint\u001b[0m\u001b[0;34m(\u001b[0m\u001b[0mlen\u001b[0m\u001b[0;34m(\u001b[0m\u001b[0mcen\u001b[0m\u001b[0;34m(\u001b[0m\u001b[0;34m'total_family_income'\u001b[0m\u001b[0;34m)\u001b[0m\u001b[0;34m)\u001b[0m\u001b[0;34m,\u001b[0m \u001b[0msize\u001b[0m\u001b[0;34m=\u001b[0m\u001b[0mlen\u001b[0m\u001b[0;34m(\u001b[0m\u001b[0mcen\u001b[0m\u001b[0;34m(\u001b[0m\u001b[0;34m'total_family_income'\u001b[0m\u001b[0;34m)\u001b[0m\u001b[0;34m)\u001b[0m\u001b[0;34m)\u001b[0m\u001b[0;34m\u001b[0m\u001b[0m\n\u001b[0m\u001b[1;32m      7\u001b[0m                    ]\n\u001b[1;32m      8\u001b[0m         \u001b[0mx\u001b[0m\u001b[0;34m[\u001b[0m\u001b[0mp15\u001b[0m \u001b[0;34m-\u001b[0m \u001b[0mp100\u001b[0m\u001b[0;34m]\u001b[0m \u001b[0;34m=\u001b[0m \u001b[0mnp\u001b[0m\u001b[0;34m.\u001b[0m\u001b[0mmean\u001b[0m\u001b[0;34m(\u001b[0m\u001b[0mresample\u001b[0m\u001b[0;34m)\u001b[0m\u001b[0;34m\u001b[0m\u001b[0m\n",
      "\u001b[0;31mTypeError\u001b[0m: 'DataFrame' object is not callable"
     ]
    }
   ],
   "source": [
    "m_b = mean_bootstrap_b(cen_less_than, cen_greater_than, 100)\n",
    "plt.hist(m_b)\n",
    "plt.show()"
   ]
  },
  {
   "cell_type": "markdown",
   "metadata": {},
   "source": [
    "## Part c"
   ]
  },
  {
   "cell_type": "code",
   "execution_count": 441,
   "metadata": {},
   "outputs": [
    {
     "ename": "SyntaxError",
     "evalue": "invalid syntax (<ipython-input-441-aac3df64f396>, line 7)",
     "output_type": "error",
     "traceback": [
      "\u001b[0;36m  File \u001b[0;32m\"<ipython-input-441-aac3df64f396>\"\u001b[0;36m, line \u001b[0;32m7\u001b[0m\n\u001b[0;31m    ]\u001b[0m\n\u001b[0m    ^\u001b[0m\n\u001b[0;31mSyntaxError\u001b[0m\u001b[0;31m:\u001b[0m invalid syntax\n"
     ]
    }
   ],
   "source": [
    "def  median_bootstrap_c(california, texas , number_of_resamples):\n",
    "    z = [0]* number_of_resamples\n",
    "    for i in  range(number_of_resamples):\n",
    "        resample = [california[j]\n",
    "                    for j\n",
    "                    in np.random.randint(len(california, texas), size=len(california, texas)\n",
    "                    ]\n",
    "        x[california.mean() - texas.mean()] = np.mean(resample)\n",
    "        return z"
   ]
  },
  {
   "cell_type": "code",
   "execution_count": 442,
   "metadata": {},
   "outputs": [
    {
     "ename": "NameError",
     "evalue": "name 'mean_bootstrap_c' is not defined",
     "output_type": "error",
     "traceback": [
      "\u001b[0;31m---------------------------------------------------------------------------\u001b[0m",
      "\u001b[0;31mNameError\u001b[0m                                 Traceback (most recent call last)",
      "\u001b[0;32m<ipython-input-442-683beee417c6>\u001b[0m in \u001b[0;36m<module>\u001b[0;34m()\u001b[0m\n\u001b[0;32m----> 1\u001b[0;31m \u001b[0mm_c\u001b[0m \u001b[0;34m=\u001b[0m \u001b[0mmean_bootstrap_c\u001b[0m\u001b[0;34m(\u001b[0m\u001b[0mcalifornia\u001b[0m\u001b[0;34m,\u001b[0m \u001b[0mtexas\u001b[0m\u001b[0;34m,\u001b[0m \u001b[0;36m100\u001b[0m\u001b[0;34m)\u001b[0m\u001b[0;34m\u001b[0m\u001b[0m\n\u001b[0m\u001b[1;32m      2\u001b[0m \u001b[0mplt\u001b[0m\u001b[0;34m.\u001b[0m\u001b[0mhist\u001b[0m\u001b[0;34m(\u001b[0m\u001b[0mm_c\u001b[0m\u001b[0;34m)\u001b[0m\u001b[0;34m\u001b[0m\u001b[0m\n\u001b[1;32m      3\u001b[0m \u001b[0mplt\u001b[0m\u001b[0;34m.\u001b[0m\u001b[0mshow\u001b[0m\u001b[0;34m(\u001b[0m\u001b[0;34m)\u001b[0m\u001b[0;34m\u001b[0m\u001b[0m\n",
      "\u001b[0;31mNameError\u001b[0m: name 'mean_bootstrap_c' is not defined"
     ]
    }
   ],
   "source": [
    "m_c = mean_bootstrap_c(california, texas, 100)\n",
    "plt.hist(m_c)\n",
    "plt.show()"
   ]
  },
  {
   "cell_type": "markdown",
   "metadata": {},
   "source": [
    "## Part d"
   ]
  },
  {
   "cell_type": "code",
   "execution_count": 445,
   "metadata": {},
   "outputs": [
    {
     "ename": "SyntaxError",
     "evalue": "invalid syntax (<ipython-input-445-aec2adaa7bf8>, line 7)",
     "output_type": "error",
     "traceback": [
      "\u001b[0;36m  File \u001b[0;32m\"<ipython-input-445-aec2adaa7bf8>\"\u001b[0;36m, line \u001b[0;32m7\u001b[0m\n\u001b[0;31m    ]\u001b[0m\n\u001b[0m    ^\u001b[0m\n\u001b[0;31mSyntaxError\u001b[0m\u001b[0;31m:\u001b[0m invalid syntax\n"
     ]
    }
   ],
   "source": [
    "def  std_bootstrap_d(california, texas , number_of_resamples):\n",
    "    s = [0]* number_of_resamples\n",
    "    for i in  range(number_of_resamples):\n",
    "        resample = [california[j]\n",
    "                    for j\n",
    "                    in np.random.randint(len(california, texas), size=len(california, texas)\n",
    "                    ]\n",
    "        x[california.std() - texas.std()] = np.mean(resample)\n",
    "        return s"
   ]
  },
  {
   "cell_type": "code",
   "execution_count": 446,
   "metadata": {},
   "outputs": [
    {
     "ename": "NameError",
     "evalue": "name 'std_bootstrap_d' is not defined",
     "output_type": "error",
     "traceback": [
      "\u001b[0;31m---------------------------------------------------------------------------\u001b[0m",
      "\u001b[0;31mNameError\u001b[0m                                 Traceback (most recent call last)",
      "\u001b[0;32m<ipython-input-446-23fdcc8e9fc4>\u001b[0m in \u001b[0;36m<module>\u001b[0;34m()\u001b[0m\n\u001b[0;32m----> 1\u001b[0;31m \u001b[0mm_d\u001b[0m \u001b[0;34m=\u001b[0m \u001b[0mstd_bootstrap_d\u001b[0m\u001b[0;34m(\u001b[0m\u001b[0mcalifornia\u001b[0m\u001b[0;34m,\u001b[0m \u001b[0mtexas\u001b[0m\u001b[0;34m,\u001b[0m \u001b[0;36m100\u001b[0m\u001b[0;34m)\u001b[0m\u001b[0;34m\u001b[0m\u001b[0m\n\u001b[0m\u001b[1;32m      2\u001b[0m \u001b[0mplt\u001b[0m\u001b[0;34m.\u001b[0m\u001b[0mhist\u001b[0m\u001b[0;34m(\u001b[0m\u001b[0mm_d\u001b[0m\u001b[0;34m)\u001b[0m\u001b[0;34m\u001b[0m\u001b[0m\n\u001b[1;32m      3\u001b[0m \u001b[0mplt\u001b[0m\u001b[0;34m.\u001b[0m\u001b[0mshow\u001b[0m\u001b[0;34m(\u001b[0m\u001b[0;34m)\u001b[0m\u001b[0;34m\u001b[0m\u001b[0m\n",
      "\u001b[0;31mNameError\u001b[0m: name 'std_bootstrap_d' is not defined"
     ]
    }
   ],
   "source": [
    "m_d = std_bootstrap_d(california, texas, 100)\n",
    "plt.hist(m_d)\n",
    "plt.show()"
   ]
  },
  {
   "cell_type": "markdown",
   "metadata": {},
   "source": [
    "# Task 6\n",
    "\n",
    "Because the previous code was not able to run, these cells will also not work as they are based off of the previous. Hence, the confidence intervals will not be explored. "
   ]
  },
  {
   "cell_type": "code",
   "execution_count": null,
   "metadata": {},
   "outputs": [],
   "source": [
    "ci_a = [np.percentile(m_a, 2.5) , np.percentile(m_a, 97.5)]\n",
    "ci_a"
   ]
  },
  {
   "cell_type": "code",
   "execution_count": null,
   "metadata": {},
   "outputs": [],
   "source": [
    "ci_b = [np.percentile(m_b, 2.5) , np.percentile(m_b, 97.5)]\n",
    "ci_b"
   ]
  },
  {
   "cell_type": "code",
   "execution_count": null,
   "metadata": {},
   "outputs": [],
   "source": [
    "ci_c = [np.percentile(m_c, 2.5) , np.percentile(m_c, 97.5)]\n",
    "ci_c"
   ]
  },
  {
   "cell_type": "code",
   "execution_count": null,
   "metadata": {},
   "outputs": [],
   "source": [
    "ci_d = [np.percentile(m_d, 2.5) , np.percentile(m_d, 97.5)]\n",
    "ci_d"
   ]
  }
 ],
 "metadata": {
  "kernelspec": {
   "display_name": "Python 2",
   "language": "python",
   "name": "python2"
  },
  "language_info": {
   "codemirror_mode": {
    "name": "ipython",
    "version": 2
   },
   "file_extension": ".py",
   "mimetype": "text/x-python",
   "name": "python",
   "nbconvert_exporter": "python",
   "pygments_lexer": "ipython2",
   "version": "2.7.16"
  }
 },
 "nbformat": 4,
 "nbformat_minor": 2
}
