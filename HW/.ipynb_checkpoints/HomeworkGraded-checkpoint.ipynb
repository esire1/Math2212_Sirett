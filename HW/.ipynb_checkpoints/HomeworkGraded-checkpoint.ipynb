{
 "cells": [
  {
   "cell_type": "markdown",
   "metadata": {},
   "source": [
    "# HOMEWORK M1T1\n",
    "\n",
    "1. Create a new directory in your personal git repo for HW (2pts).  \n",
    "    \n",
    "    DONE\n",
    "\n",
    "\n",
    "2. Navigate to your personal git repo in the Jupyter window, then create a new  notebook, name it 'HW_M1T1_lastname' (2pts). \n",
    "\n",
    "    DONE\n",
    "\n",
    "\n",
    "3. For the first cell, create a heading in Markdown and give a brief description of what your program (from #4) does (10pts).\n",
    "\n",
    "    DONE\n",
    "\n",
    "\n",
    "4. Then in the next cell, write a code that, when run, prints a message, any message you want (10pts).  \n",
    "\n",
    "    DONE\n",
    "\n",
    "\n",
    "5. Save it to your repo and push it to the remote git repo (2pts). \n",
    "\n",
    "    DONE\n",
    "    \n",
    "\n",
    "SCORE: 26 / 26"
   ]
  }
 ],
 "metadata": {
  "kernelspec": {
   "display_name": "Python 2",
   "language": "python",
   "name": "python2"
  },
  "language_info": {
   "codemirror_mode": {
    "name": "ipython",
    "version": 2
   },
   "file_extension": ".py",
   "mimetype": "text/x-python",
   "name": "python",
   "nbconvert_exporter": "python",
   "pygments_lexer": "ipython2",
   "version": "2.7.16"
  }
 },
 "nbformat": 4,
 "nbformat_minor": 2
}
