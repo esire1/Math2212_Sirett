{
 "cells": [
  {
   "cell_type": "markdown",
   "metadata": {},
   "source": [
    "# Question 1\n",
    "Provide a few sentences that describe:\n",
    "- Descriptive statistics: These are most simply put as observations/descrptions about the data. It is a direct description of what the data reveals about the sample space. It is useful in simplifying a large amount of data into a more manageable/simple format. Examples are a chart or graph. \n",
    "- Interential statistics: These are secondary conclusions drawn from descriptive statistics. They can help identify correlation or causation. In addition, they can be useful when making generalizations. Most simply, inferential statistics are inferences. \n",
    "- Data Science: A field where data is observed and conclusions are drawn. Besides learning things about specific populations and making connections, one of the most important parts of data science is making the data understandable to the public. It's like an artist not being able to show their work in a museum/gallery. One of the most important pieces of data science is being able to visualize the data (descriptive statistics) and explain conclusions based off of this (inferential statistics)."
   ]
  },
  {
   "cell_type": "code",
   "execution_count": null,
   "metadata": {},
   "outputs": [],
   "source": []
  }
 ],
 "metadata": {
  "kernelspec": {
   "display_name": "Python 2",
   "language": "python",
   "name": "python2"
  },
  "language_info": {
   "codemirror_mode": {
    "name": "ipython",
    "version": 2
   },
   "file_extension": ".py",
   "mimetype": "text/x-python",
   "name": "python",
   "nbconvert_exporter": "python",
   "pygments_lexer": "ipython2",
   "version": "2.7.16"
  }
 },
 "nbformat": 4,
 "nbformat_minor": 2
}
