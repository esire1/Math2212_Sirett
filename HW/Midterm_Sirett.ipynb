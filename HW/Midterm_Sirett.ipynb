{
 "cells": [
  {
   "cell_type": "markdown",
   "metadata": {},
   "source": [
    "# Exploratory Data Analysis\n",
    "\n",
    "### Notes:\n",
    "- answering questions\n",
    "- extracting through insights\n",
    "- purpose is to get to know the data set\n",
    "- quick, efficient, and decisive\n",
    "- drawing the biggest insights from the smallest amount of plots, charts and tables\n",
    "- "
   ]
  },
  {
   "cell_type": "code",
   "execution_count": 14,
   "metadata": {},
   "outputs": [],
   "source": [
    "import  pandas  as pd\n",
    "import  numpy  as np\n",
    "import  matplotlib.pyplot  as plt"
   ]
  },
  {
   "cell_type": "code",
   "execution_count": 15,
   "metadata": {
    "scrolled": true
   },
   "outputs": [
    {
     "data": {
      "text/html": [
       "<div>\n",
       "<style scoped>\n",
       "    .dataframe tbody tr th:only-of-type {\n",
       "        vertical-align: middle;\n",
       "    }\n",
       "\n",
       "    .dataframe tbody tr th {\n",
       "        vertical-align: top;\n",
       "    }\n",
       "\n",
       "    .dataframe thead th {\n",
       "        text-align: right;\n",
       "    }\n",
       "</style>\n",
       "<table border=\"1\" class=\"dataframe\">\n",
       "  <thead>\n",
       "    <tr style=\"text-align: right;\">\n",
       "      <th></th>\n",
       "      <th>census_year</th>\n",
       "      <th>state_fips_code</th>\n",
       "      <th>total_family_income</th>\n",
       "      <th>age</th>\n",
       "      <th>sex</th>\n",
       "      <th>race_general</th>\n",
       "      <th>marital_status</th>\n",
       "      <th>total_personal_income</th>\n",
       "    </tr>\n",
       "  </thead>\n",
       "  <tbody>\n",
       "    <tr>\n",
       "      <th>0</th>\n",
       "      <td>2000</td>\n",
       "      <td>Florida</td>\n",
       "      <td>14550.0</td>\n",
       "      <td>44</td>\n",
       "      <td>Male</td>\n",
       "      <td>Two major races</td>\n",
       "      <td>Married/spouse present</td>\n",
       "      <td>0.0</td>\n",
       "    </tr>\n",
       "    <tr>\n",
       "      <th>1</th>\n",
       "      <td>2000</td>\n",
       "      <td>Florida</td>\n",
       "      <td>22800.0</td>\n",
       "      <td>20</td>\n",
       "      <td>Female</td>\n",
       "      <td>White</td>\n",
       "      <td>Never married/single</td>\n",
       "      <td>13000.0</td>\n",
       "    </tr>\n",
       "    <tr>\n",
       "      <th>2</th>\n",
       "      <td>2000</td>\n",
       "      <td>Florida</td>\n",
       "      <td>0.0</td>\n",
       "      <td>20</td>\n",
       "      <td>Male</td>\n",
       "      <td>Black</td>\n",
       "      <td>Never married/single</td>\n",
       "      <td>20000.0</td>\n",
       "    </tr>\n",
       "    <tr>\n",
       "      <th>3</th>\n",
       "      <td>2000</td>\n",
       "      <td>Florida</td>\n",
       "      <td>23000.0</td>\n",
       "      <td>6</td>\n",
       "      <td>Female</td>\n",
       "      <td>White</td>\n",
       "      <td>Never married/single</td>\n",
       "      <td>NaN</td>\n",
       "    </tr>\n",
       "    <tr>\n",
       "      <th>4</th>\n",
       "      <td>2000</td>\n",
       "      <td>Florida</td>\n",
       "      <td>48000.0</td>\n",
       "      <td>55</td>\n",
       "      <td>Male</td>\n",
       "      <td>White</td>\n",
       "      <td>Married/spouse present</td>\n",
       "      <td>36000.0</td>\n",
       "    </tr>\n",
       "  </tbody>\n",
       "</table>\n",
       "</div>"
      ],
      "text/plain": [
       "   census_year state_fips_code  total_family_income  age     sex  \\\n",
       "0         2000         Florida              14550.0   44    Male   \n",
       "1         2000         Florida              22800.0   20  Female   \n",
       "2         2000         Florida                  0.0   20    Male   \n",
       "3         2000         Florida              23000.0    6  Female   \n",
       "4         2000         Florida              48000.0   55    Male   \n",
       "\n",
       "      race_general          marital_status  total_personal_income  \n",
       "0  Two major races  Married/spouse present                    0.0  \n",
       "1            White    Never married/single                13000.0  \n",
       "2            Black    Never married/single                20000.0  \n",
       "3            White    Never married/single                    NaN  \n",
       "4            White  Married/spouse present                36000.0  "
      ]
     },
     "execution_count": 15,
     "metadata": {},
     "output_type": "execute_result"
    }
   ],
   "source": [
    "cen = pd.read_csv('census.csv')\n",
    "cen.head()"
   ]
  },
  {
   "cell_type": "markdown",
   "metadata": {},
   "source": [
    "### Basics\n",
    "- columns: census year, state, total family income, age, sex, race (general), marital status, total personal income\n",
    "- 500 data points\n",
    "- numerical data: year, family income, age, personal income\n",
    "- categorical data: sex, race (general), marital status, state\n",
    "- target variable?"
   ]
  },
  {
   "cell_type": "markdown",
   "metadata": {},
   "source": [
    "### Observations from head\n",
    "- wide age range\n",
    "- same year\n",
    "- missing data might be an issue\n",
    "- inconsistent personal income and family income (row 2 has 20000 personal income but 0 total family income\n",
    "    - does the family income include the personal income?\n",
    "- race is not always clearly identified\n",
    "- fairly even sex distribution"
   ]
  },
  {
   "cell_type": "code",
   "execution_count": 16,
   "metadata": {},
   "outputs": [
    {
     "data": {
      "text/html": [
       "<div>\n",
       "<style scoped>\n",
       "    .dataframe tbody tr th:only-of-type {\n",
       "        vertical-align: middle;\n",
       "    }\n",
       "\n",
       "    .dataframe tbody tr th {\n",
       "        vertical-align: top;\n",
       "    }\n",
       "\n",
       "    .dataframe thead th {\n",
       "        text-align: right;\n",
       "    }\n",
       "</style>\n",
       "<table border=\"1\" class=\"dataframe\">\n",
       "  <thead>\n",
       "    <tr style=\"text-align: right;\">\n",
       "      <th></th>\n",
       "      <th>census_year</th>\n",
       "      <th>state_fips_code</th>\n",
       "      <th>total_family_income</th>\n",
       "      <th>age</th>\n",
       "      <th>sex</th>\n",
       "      <th>race_general</th>\n",
       "      <th>marital_status</th>\n",
       "      <th>total_personal_income</th>\n",
       "    </tr>\n",
       "  </thead>\n",
       "  <tbody>\n",
       "    <tr>\n",
       "      <th>0</th>\n",
       "      <td>2000</td>\n",
       "      <td>Florida</td>\n",
       "      <td>14550.0</td>\n",
       "      <td>44</td>\n",
       "      <td>Male</td>\n",
       "      <td>Two major races</td>\n",
       "      <td>Married/spouse present</td>\n",
       "      <td>0.0</td>\n",
       "    </tr>\n",
       "    <tr>\n",
       "      <th>1</th>\n",
       "      <td>2000</td>\n",
       "      <td>Florida</td>\n",
       "      <td>22800.0</td>\n",
       "      <td>20</td>\n",
       "      <td>Female</td>\n",
       "      <td>White</td>\n",
       "      <td>Never married/single</td>\n",
       "      <td>13000.0</td>\n",
       "    </tr>\n",
       "    <tr>\n",
       "      <th>2</th>\n",
       "      <td>2000</td>\n",
       "      <td>Florida</td>\n",
       "      <td>0.0</td>\n",
       "      <td>20</td>\n",
       "      <td>Male</td>\n",
       "      <td>Black</td>\n",
       "      <td>Never married/single</td>\n",
       "      <td>20000.0</td>\n",
       "    </tr>\n",
       "    <tr>\n",
       "      <th>3</th>\n",
       "      <td>2000</td>\n",
       "      <td>Florida</td>\n",
       "      <td>23000.0</td>\n",
       "      <td>6</td>\n",
       "      <td>Female</td>\n",
       "      <td>White</td>\n",
       "      <td>Never married/single</td>\n",
       "      <td>NaN</td>\n",
       "    </tr>\n",
       "    <tr>\n",
       "      <th>4</th>\n",
       "      <td>2000</td>\n",
       "      <td>Florida</td>\n",
       "      <td>48000.0</td>\n",
       "      <td>55</td>\n",
       "      <td>Male</td>\n",
       "      <td>White</td>\n",
       "      <td>Married/spouse present</td>\n",
       "      <td>36000.0</td>\n",
       "    </tr>\n",
       "    <tr>\n",
       "      <th>5</th>\n",
       "      <td>2000</td>\n",
       "      <td>Florida</td>\n",
       "      <td>74000.0</td>\n",
       "      <td>43</td>\n",
       "      <td>Female</td>\n",
       "      <td>White</td>\n",
       "      <td>Married/spouse present</td>\n",
       "      <td>27000.0</td>\n",
       "    </tr>\n",
       "    <tr>\n",
       "      <th>6</th>\n",
       "      <td>2000</td>\n",
       "      <td>Florida</td>\n",
       "      <td>23000.0</td>\n",
       "      <td>60</td>\n",
       "      <td>Female</td>\n",
       "      <td>White</td>\n",
       "      <td>Married/spouse present</td>\n",
       "      <td>11800.0</td>\n",
       "    </tr>\n",
       "    <tr>\n",
       "      <th>7</th>\n",
       "      <td>2000</td>\n",
       "      <td>Florida</td>\n",
       "      <td>74000.0</td>\n",
       "      <td>47</td>\n",
       "      <td>Female</td>\n",
       "      <td>White</td>\n",
       "      <td>Married/spouse present</td>\n",
       "      <td>48000.0</td>\n",
       "    </tr>\n",
       "    <tr>\n",
       "      <th>8</th>\n",
       "      <td>2000</td>\n",
       "      <td>Florida</td>\n",
       "      <td>60000.0</td>\n",
       "      <td>54</td>\n",
       "      <td>Female</td>\n",
       "      <td>Black</td>\n",
       "      <td>Married/spouse present</td>\n",
       "      <td>40000.0</td>\n",
       "    </tr>\n",
       "    <tr>\n",
       "      <th>9</th>\n",
       "      <td>2000</td>\n",
       "      <td>Florida</td>\n",
       "      <td>14600.0</td>\n",
       "      <td>58</td>\n",
       "      <td>Female</td>\n",
       "      <td>White</td>\n",
       "      <td>Widowed</td>\n",
       "      <td>14600.0</td>\n",
       "    </tr>\n",
       "    <tr>\n",
       "      <th>10</th>\n",
       "      <td>2000</td>\n",
       "      <td>Florida</td>\n",
       "      <td>0.0</td>\n",
       "      <td>33</td>\n",
       "      <td>Female</td>\n",
       "      <td>White</td>\n",
       "      <td>Never married/single</td>\n",
       "      <td>23000.0</td>\n",
       "    </tr>\n",
       "    <tr>\n",
       "      <th>11</th>\n",
       "      <td>2000</td>\n",
       "      <td>Florida</td>\n",
       "      <td>37000.0</td>\n",
       "      <td>51</td>\n",
       "      <td>Female</td>\n",
       "      <td>White</td>\n",
       "      <td>Divorced</td>\n",
       "      <td>37000.0</td>\n",
       "    </tr>\n",
       "    <tr>\n",
       "      <th>12</th>\n",
       "      <td>2000</td>\n",
       "      <td>Florida</td>\n",
       "      <td>32000.0</td>\n",
       "      <td>62</td>\n",
       "      <td>Female</td>\n",
       "      <td>White</td>\n",
       "      <td>Divorced</td>\n",
       "      <td>32000.0</td>\n",
       "    </tr>\n",
       "    <tr>\n",
       "      <th>13</th>\n",
       "      <td>2000</td>\n",
       "      <td>Florida</td>\n",
       "      <td>113000.0</td>\n",
       "      <td>8</td>\n",
       "      <td>Male</td>\n",
       "      <td>White</td>\n",
       "      <td>Never married/single</td>\n",
       "      <td>NaN</td>\n",
       "    </tr>\n",
       "    <tr>\n",
       "      <th>14</th>\n",
       "      <td>2000</td>\n",
       "      <td>Florida</td>\n",
       "      <td>76900.0</td>\n",
       "      <td>25</td>\n",
       "      <td>Male</td>\n",
       "      <td>White</td>\n",
       "      <td>Never married/single</td>\n",
       "      <td>6000.0</td>\n",
       "    </tr>\n",
       "    <tr>\n",
       "      <th>15</th>\n",
       "      <td>2000</td>\n",
       "      <td>Florida</td>\n",
       "      <td>100100.0</td>\n",
       "      <td>44</td>\n",
       "      <td>Female</td>\n",
       "      <td>White</td>\n",
       "      <td>Married/spouse present</td>\n",
       "      <td>16100.0</td>\n",
       "    </tr>\n",
       "    <tr>\n",
       "      <th>16</th>\n",
       "      <td>2000</td>\n",
       "      <td>Florida</td>\n",
       "      <td>48000.0</td>\n",
       "      <td>28</td>\n",
       "      <td>Female</td>\n",
       "      <td>White</td>\n",
       "      <td>Married/spouse present</td>\n",
       "      <td>12000.0</td>\n",
       "    </tr>\n",
       "    <tr>\n",
       "      <th>17</th>\n",
       "      <td>2000</td>\n",
       "      <td>Florida</td>\n",
       "      <td>48000.0</td>\n",
       "      <td>1</td>\n",
       "      <td>Male</td>\n",
       "      <td>White</td>\n",
       "      <td>Never married/single</td>\n",
       "      <td>NaN</td>\n",
       "    </tr>\n",
       "    <tr>\n",
       "      <th>18</th>\n",
       "      <td>2000</td>\n",
       "      <td>Florida</td>\n",
       "      <td>57200.0</td>\n",
       "      <td>31</td>\n",
       "      <td>Male</td>\n",
       "      <td>White</td>\n",
       "      <td>Married/spouse present</td>\n",
       "      <td>20000.0</td>\n",
       "    </tr>\n",
       "    <tr>\n",
       "      <th>19</th>\n",
       "      <td>2000</td>\n",
       "      <td>Florida</td>\n",
       "      <td>43950.0</td>\n",
       "      <td>69</td>\n",
       "      <td>Female</td>\n",
       "      <td>White</td>\n",
       "      <td>Married/spouse present</td>\n",
       "      <td>4800.0</td>\n",
       "    </tr>\n",
       "    <tr>\n",
       "      <th>20</th>\n",
       "      <td>2000</td>\n",
       "      <td>Florida</td>\n",
       "      <td>49000.0</td>\n",
       "      <td>31</td>\n",
       "      <td>Male</td>\n",
       "      <td>White</td>\n",
       "      <td>Married/spouse present</td>\n",
       "      <td>28000.0</td>\n",
       "    </tr>\n",
       "    <tr>\n",
       "      <th>21</th>\n",
       "      <td>2000</td>\n",
       "      <td>Florida</td>\n",
       "      <td>31600.0</td>\n",
       "      <td>80</td>\n",
       "      <td>Female</td>\n",
       "      <td>White</td>\n",
       "      <td>Widowed</td>\n",
       "      <td>31600.0</td>\n",
       "    </tr>\n",
       "    <tr>\n",
       "      <th>22</th>\n",
       "      <td>2000</td>\n",
       "      <td>Florida</td>\n",
       "      <td>50090.0</td>\n",
       "      <td>2</td>\n",
       "      <td>Male</td>\n",
       "      <td>White</td>\n",
       "      <td>Never married/single</td>\n",
       "      <td>NaN</td>\n",
       "    </tr>\n",
       "    <tr>\n",
       "      <th>23</th>\n",
       "      <td>2000</td>\n",
       "      <td>Florida</td>\n",
       "      <td>64800.0</td>\n",
       "      <td>47</td>\n",
       "      <td>Male</td>\n",
       "      <td>White</td>\n",
       "      <td>Never married/single</td>\n",
       "      <td>49300.0</td>\n",
       "    </tr>\n",
       "    <tr>\n",
       "      <th>24</th>\n",
       "      <td>2000</td>\n",
       "      <td>Florida</td>\n",
       "      <td>90000.0</td>\n",
       "      <td>12</td>\n",
       "      <td>Male</td>\n",
       "      <td>White</td>\n",
       "      <td>Never married/single</td>\n",
       "      <td>NaN</td>\n",
       "    </tr>\n",
       "    <tr>\n",
       "      <th>25</th>\n",
       "      <td>2000</td>\n",
       "      <td>Florida</td>\n",
       "      <td>38320.0</td>\n",
       "      <td>47</td>\n",
       "      <td>Male</td>\n",
       "      <td>White</td>\n",
       "      <td>Married/spouse present</td>\n",
       "      <td>34320.0</td>\n",
       "    </tr>\n",
       "    <tr>\n",
       "      <th>26</th>\n",
       "      <td>2000</td>\n",
       "      <td>Florida</td>\n",
       "      <td>103700.0</td>\n",
       "      <td>8</td>\n",
       "      <td>Female</td>\n",
       "      <td>White</td>\n",
       "      <td>Never married/single</td>\n",
       "      <td>NaN</td>\n",
       "    </tr>\n",
       "    <tr>\n",
       "      <th>27</th>\n",
       "      <td>2000</td>\n",
       "      <td>Florida</td>\n",
       "      <td>0.0</td>\n",
       "      <td>67</td>\n",
       "      <td>Male</td>\n",
       "      <td>Black</td>\n",
       "      <td>Widowed</td>\n",
       "      <td>8400.0</td>\n",
       "    </tr>\n",
       "    <tr>\n",
       "      <th>28</th>\n",
       "      <td>2000</td>\n",
       "      <td>Florida</td>\n",
       "      <td>70700.0</td>\n",
       "      <td>17</td>\n",
       "      <td>Female</td>\n",
       "      <td>White</td>\n",
       "      <td>Never married/single</td>\n",
       "      <td>3700.0</td>\n",
       "    </tr>\n",
       "    <tr>\n",
       "      <th>29</th>\n",
       "      <td>2000</td>\n",
       "      <td>Florida</td>\n",
       "      <td>64800.0</td>\n",
       "      <td>69</td>\n",
       "      <td>Female</td>\n",
       "      <td>White</td>\n",
       "      <td>Divorced</td>\n",
       "      <td>4800.0</td>\n",
       "    </tr>\n",
       "    <tr>\n",
       "      <th>...</th>\n",
       "      <td>...</td>\n",
       "      <td>...</td>\n",
       "      <td>...</td>\n",
       "      <td>...</td>\n",
       "      <td>...</td>\n",
       "      <td>...</td>\n",
       "      <td>...</td>\n",
       "      <td>...</td>\n",
       "    </tr>\n",
       "    <tr>\n",
       "      <th>470</th>\n",
       "      <td>2000</td>\n",
       "      <td>Pennsylvania</td>\n",
       "      <td>27150.0</td>\n",
       "      <td>1</td>\n",
       "      <td>Male</td>\n",
       "      <td>White</td>\n",
       "      <td>Never married/single</td>\n",
       "      <td>NaN</td>\n",
       "    </tr>\n",
       "    <tr>\n",
       "      <th>471</th>\n",
       "      <td>2000</td>\n",
       "      <td>Pennsylvania</td>\n",
       "      <td>40300.0</td>\n",
       "      <td>29</td>\n",
       "      <td>Female</td>\n",
       "      <td>White</td>\n",
       "      <td>Married/spouse present</td>\n",
       "      <td>2800.0</td>\n",
       "    </tr>\n",
       "    <tr>\n",
       "      <th>472</th>\n",
       "      <td>2000</td>\n",
       "      <td>Pennsylvania</td>\n",
       "      <td>18600.0</td>\n",
       "      <td>61</td>\n",
       "      <td>Female</td>\n",
       "      <td>White</td>\n",
       "      <td>Never married/single</td>\n",
       "      <td>6700.0</td>\n",
       "    </tr>\n",
       "    <tr>\n",
       "      <th>473</th>\n",
       "      <td>2000</td>\n",
       "      <td>Pennsylvania</td>\n",
       "      <td>NaN</td>\n",
       "      <td>36</td>\n",
       "      <td>Male</td>\n",
       "      <td>Black</td>\n",
       "      <td>Married/spouse absent</td>\n",
       "      <td>6500.0</td>\n",
       "    </tr>\n",
       "    <tr>\n",
       "      <th>474</th>\n",
       "      <td>2000</td>\n",
       "      <td>Pennsylvania</td>\n",
       "      <td>0.0</td>\n",
       "      <td>25</td>\n",
       "      <td>Female</td>\n",
       "      <td>White</td>\n",
       "      <td>Never married/single</td>\n",
       "      <td>16000.0</td>\n",
       "    </tr>\n",
       "    <tr>\n",
       "      <th>475</th>\n",
       "      <td>2000</td>\n",
       "      <td>Pennsylvania</td>\n",
       "      <td>24000.0</td>\n",
       "      <td>41</td>\n",
       "      <td>Male</td>\n",
       "      <td>White</td>\n",
       "      <td>Married/spouse present</td>\n",
       "      <td>24000.0</td>\n",
       "    </tr>\n",
       "    <tr>\n",
       "      <th>476</th>\n",
       "      <td>2000</td>\n",
       "      <td>Pennsylvania</td>\n",
       "      <td>24000.0</td>\n",
       "      <td>9</td>\n",
       "      <td>Female</td>\n",
       "      <td>White</td>\n",
       "      <td>Never married/single</td>\n",
       "      <td>NaN</td>\n",
       "    </tr>\n",
       "    <tr>\n",
       "      <th>477</th>\n",
       "      <td>2000</td>\n",
       "      <td>Pennsylvania</td>\n",
       "      <td>17900.0</td>\n",
       "      <td>10</td>\n",
       "      <td>Female</td>\n",
       "      <td>Black</td>\n",
       "      <td>Never married/single</td>\n",
       "      <td>NaN</td>\n",
       "    </tr>\n",
       "    <tr>\n",
       "      <th>478</th>\n",
       "      <td>2000</td>\n",
       "      <td>Pennsylvania</td>\n",
       "      <td>32350.0</td>\n",
       "      <td>13</td>\n",
       "      <td>Male</td>\n",
       "      <td>White</td>\n",
       "      <td>Never married/single</td>\n",
       "      <td>NaN</td>\n",
       "    </tr>\n",
       "    <tr>\n",
       "      <th>479</th>\n",
       "      <td>2000</td>\n",
       "      <td>Pennsylvania</td>\n",
       "      <td>42300.0</td>\n",
       "      <td>3</td>\n",
       "      <td>Male</td>\n",
       "      <td>White</td>\n",
       "      <td>Never married/single</td>\n",
       "      <td>NaN</td>\n",
       "    </tr>\n",
       "    <tr>\n",
       "      <th>480</th>\n",
       "      <td>2000</td>\n",
       "      <td>Pennsylvania</td>\n",
       "      <td>17800.0</td>\n",
       "      <td>15</td>\n",
       "      <td>Male</td>\n",
       "      <td>Other</td>\n",
       "      <td>Never married/single</td>\n",
       "      <td>0.0</td>\n",
       "    </tr>\n",
       "    <tr>\n",
       "      <th>481</th>\n",
       "      <td>2000</td>\n",
       "      <td>Pennsylvania</td>\n",
       "      <td>33000.0</td>\n",
       "      <td>32</td>\n",
       "      <td>Female</td>\n",
       "      <td>Black</td>\n",
       "      <td>Never married/single</td>\n",
       "      <td>27000.0</td>\n",
       "    </tr>\n",
       "    <tr>\n",
       "      <th>482</th>\n",
       "      <td>2000</td>\n",
       "      <td>Pennsylvania</td>\n",
       "      <td>NaN</td>\n",
       "      <td>68</td>\n",
       "      <td>Male</td>\n",
       "      <td>White</td>\n",
       "      <td>Widowed</td>\n",
       "      <td>9100.0</td>\n",
       "    </tr>\n",
       "    <tr>\n",
       "      <th>483</th>\n",
       "      <td>2000</td>\n",
       "      <td>Pennsylvania</td>\n",
       "      <td>44000.0</td>\n",
       "      <td>32</td>\n",
       "      <td>Female</td>\n",
       "      <td>White</td>\n",
       "      <td>Married/spouse present</td>\n",
       "      <td>21000.0</td>\n",
       "    </tr>\n",
       "    <tr>\n",
       "      <th>484</th>\n",
       "      <td>2000</td>\n",
       "      <td>Pennsylvania</td>\n",
       "      <td>24700.0</td>\n",
       "      <td>32</td>\n",
       "      <td>Female</td>\n",
       "      <td>White</td>\n",
       "      <td>Never married/single</td>\n",
       "      <td>9500.0</td>\n",
       "    </tr>\n",
       "    <tr>\n",
       "      <th>485</th>\n",
       "      <td>2000</td>\n",
       "      <td>Pennsylvania</td>\n",
       "      <td>0.0</td>\n",
       "      <td>24</td>\n",
       "      <td>Male</td>\n",
       "      <td>White</td>\n",
       "      <td>Never married/single</td>\n",
       "      <td>2200.0</td>\n",
       "    </tr>\n",
       "    <tr>\n",
       "      <th>486</th>\n",
       "      <td>2000</td>\n",
       "      <td>Pennsylvania</td>\n",
       "      <td>69000.0</td>\n",
       "      <td>18</td>\n",
       "      <td>Male</td>\n",
       "      <td>White</td>\n",
       "      <td>Never married/single</td>\n",
       "      <td>15000.0</td>\n",
       "    </tr>\n",
       "    <tr>\n",
       "      <th>487</th>\n",
       "      <td>2000</td>\n",
       "      <td>Pennsylvania</td>\n",
       "      <td>60300.0</td>\n",
       "      <td>41</td>\n",
       "      <td>Female</td>\n",
       "      <td>White</td>\n",
       "      <td>Married/spouse present</td>\n",
       "      <td>9100.0</td>\n",
       "    </tr>\n",
       "    <tr>\n",
       "      <th>488</th>\n",
       "      <td>2000</td>\n",
       "      <td>Pennsylvania</td>\n",
       "      <td>150000.0</td>\n",
       "      <td>6</td>\n",
       "      <td>Female</td>\n",
       "      <td>White</td>\n",
       "      <td>Never married/single</td>\n",
       "      <td>NaN</td>\n",
       "    </tr>\n",
       "    <tr>\n",
       "      <th>489</th>\n",
       "      <td>2000</td>\n",
       "      <td>Pennsylvania</td>\n",
       "      <td>171000.0</td>\n",
       "      <td>38</td>\n",
       "      <td>Male</td>\n",
       "      <td>White</td>\n",
       "      <td>Married/spouse present</td>\n",
       "      <td>103000.0</td>\n",
       "    </tr>\n",
       "    <tr>\n",
       "      <th>490</th>\n",
       "      <td>2000</td>\n",
       "      <td>Pennsylvania</td>\n",
       "      <td>103000.0</td>\n",
       "      <td>43</td>\n",
       "      <td>Male</td>\n",
       "      <td>White</td>\n",
       "      <td>Married/spouse present</td>\n",
       "      <td>68000.0</td>\n",
       "    </tr>\n",
       "    <tr>\n",
       "      <th>491</th>\n",
       "      <td>2000</td>\n",
       "      <td>Pennsylvania</td>\n",
       "      <td>51700.0</td>\n",
       "      <td>76</td>\n",
       "      <td>Male</td>\n",
       "      <td>White</td>\n",
       "      <td>Married/spouse present</td>\n",
       "      <td>14500.0</td>\n",
       "    </tr>\n",
       "    <tr>\n",
       "      <th>492</th>\n",
       "      <td>2000</td>\n",
       "      <td>Pennsylvania</td>\n",
       "      <td>119800.0</td>\n",
       "      <td>24</td>\n",
       "      <td>Male</td>\n",
       "      <td>White</td>\n",
       "      <td>Never married/single</td>\n",
       "      <td>22000.0</td>\n",
       "    </tr>\n",
       "    <tr>\n",
       "      <th>493</th>\n",
       "      <td>2000</td>\n",
       "      <td>Virginia</td>\n",
       "      <td>18000.0</td>\n",
       "      <td>36</td>\n",
       "      <td>Male</td>\n",
       "      <td>White</td>\n",
       "      <td>Married/spouse present</td>\n",
       "      <td>18000.0</td>\n",
       "    </tr>\n",
       "    <tr>\n",
       "      <th>494</th>\n",
       "      <td>2000</td>\n",
       "      <td>Virginia</td>\n",
       "      <td>45100.0</td>\n",
       "      <td>5</td>\n",
       "      <td>Male</td>\n",
       "      <td>White</td>\n",
       "      <td>Never married/single</td>\n",
       "      <td>NaN</td>\n",
       "    </tr>\n",
       "    <tr>\n",
       "      <th>495</th>\n",
       "      <td>2000</td>\n",
       "      <td>Virginia</td>\n",
       "      <td>8500.0</td>\n",
       "      <td>68</td>\n",
       "      <td>Female</td>\n",
       "      <td>White</td>\n",
       "      <td>Divorced</td>\n",
       "      <td>8500.0</td>\n",
       "    </tr>\n",
       "    <tr>\n",
       "      <th>496</th>\n",
       "      <td>2000</td>\n",
       "      <td>Virginia</td>\n",
       "      <td>55400.0</td>\n",
       "      <td>12</td>\n",
       "      <td>Male</td>\n",
       "      <td>White</td>\n",
       "      <td>Never married/single</td>\n",
       "      <td>NaN</td>\n",
       "    </tr>\n",
       "    <tr>\n",
       "      <th>497</th>\n",
       "      <td>2000</td>\n",
       "      <td>Virginia</td>\n",
       "      <td>15000.0</td>\n",
       "      <td>60</td>\n",
       "      <td>Male</td>\n",
       "      <td>Black</td>\n",
       "      <td>Widowed</td>\n",
       "      <td>15000.0</td>\n",
       "    </tr>\n",
       "    <tr>\n",
       "      <th>498</th>\n",
       "      <td>2000</td>\n",
       "      <td>Virginia</td>\n",
       "      <td>NaN</td>\n",
       "      <td>60</td>\n",
       "      <td>Male</td>\n",
       "      <td>Black</td>\n",
       "      <td>Married/spouse absent</td>\n",
       "      <td>48600.0</td>\n",
       "    </tr>\n",
       "    <tr>\n",
       "      <th>499</th>\n",
       "      <td>2000</td>\n",
       "      <td>Virginia</td>\n",
       "      <td>39370.0</td>\n",
       "      <td>47</td>\n",
       "      <td>Male</td>\n",
       "      <td>White</td>\n",
       "      <td>Married/spouse present</td>\n",
       "      <td>19800.0</td>\n",
       "    </tr>\n",
       "  </tbody>\n",
       "</table>\n",
       "<p>500 rows × 8 columns</p>\n",
       "</div>"
      ],
      "text/plain": [
       "     census_year state_fips_code  total_family_income  age     sex  \\\n",
       "0           2000         Florida              14550.0   44    Male   \n",
       "1           2000         Florida              22800.0   20  Female   \n",
       "2           2000         Florida                  0.0   20    Male   \n",
       "3           2000         Florida              23000.0    6  Female   \n",
       "4           2000         Florida              48000.0   55    Male   \n",
       "5           2000         Florida              74000.0   43  Female   \n",
       "6           2000         Florida              23000.0   60  Female   \n",
       "7           2000         Florida              74000.0   47  Female   \n",
       "8           2000         Florida              60000.0   54  Female   \n",
       "9           2000         Florida              14600.0   58  Female   \n",
       "10          2000         Florida                  0.0   33  Female   \n",
       "11          2000         Florida              37000.0   51  Female   \n",
       "12          2000         Florida              32000.0   62  Female   \n",
       "13          2000         Florida             113000.0    8    Male   \n",
       "14          2000         Florida              76900.0   25    Male   \n",
       "15          2000         Florida             100100.0   44  Female   \n",
       "16          2000         Florida              48000.0   28  Female   \n",
       "17          2000         Florida              48000.0    1    Male   \n",
       "18          2000         Florida              57200.0   31    Male   \n",
       "19          2000         Florida              43950.0   69  Female   \n",
       "20          2000         Florida              49000.0   31    Male   \n",
       "21          2000         Florida              31600.0   80  Female   \n",
       "22          2000         Florida              50090.0    2    Male   \n",
       "23          2000         Florida              64800.0   47    Male   \n",
       "24          2000         Florida              90000.0   12    Male   \n",
       "25          2000         Florida              38320.0   47    Male   \n",
       "26          2000         Florida             103700.0    8  Female   \n",
       "27          2000         Florida                  0.0   67    Male   \n",
       "28          2000         Florida              70700.0   17  Female   \n",
       "29          2000         Florida              64800.0   69  Female   \n",
       "..           ...             ...                  ...  ...     ...   \n",
       "470         2000    Pennsylvania              27150.0    1    Male   \n",
       "471         2000    Pennsylvania              40300.0   29  Female   \n",
       "472         2000    Pennsylvania              18600.0   61  Female   \n",
       "473         2000    Pennsylvania                  NaN   36    Male   \n",
       "474         2000    Pennsylvania                  0.0   25  Female   \n",
       "475         2000    Pennsylvania              24000.0   41    Male   \n",
       "476         2000    Pennsylvania              24000.0    9  Female   \n",
       "477         2000    Pennsylvania              17900.0   10  Female   \n",
       "478         2000    Pennsylvania              32350.0   13    Male   \n",
       "479         2000    Pennsylvania              42300.0    3    Male   \n",
       "480         2000    Pennsylvania              17800.0   15    Male   \n",
       "481         2000    Pennsylvania              33000.0   32  Female   \n",
       "482         2000    Pennsylvania                  NaN   68    Male   \n",
       "483         2000    Pennsylvania              44000.0   32  Female   \n",
       "484         2000    Pennsylvania              24700.0   32  Female   \n",
       "485         2000    Pennsylvania                  0.0   24    Male   \n",
       "486         2000    Pennsylvania              69000.0   18    Male   \n",
       "487         2000    Pennsylvania              60300.0   41  Female   \n",
       "488         2000    Pennsylvania             150000.0    6  Female   \n",
       "489         2000    Pennsylvania             171000.0   38    Male   \n",
       "490         2000    Pennsylvania             103000.0   43    Male   \n",
       "491         2000    Pennsylvania              51700.0   76    Male   \n",
       "492         2000    Pennsylvania             119800.0   24    Male   \n",
       "493         2000        Virginia              18000.0   36    Male   \n",
       "494         2000        Virginia              45100.0    5    Male   \n",
       "495         2000        Virginia               8500.0   68  Female   \n",
       "496         2000        Virginia              55400.0   12    Male   \n",
       "497         2000        Virginia              15000.0   60    Male   \n",
       "498         2000        Virginia                  NaN   60    Male   \n",
       "499         2000        Virginia              39370.0   47    Male   \n",
       "\n",
       "        race_general          marital_status  total_personal_income  \n",
       "0    Two major races  Married/spouse present                    0.0  \n",
       "1              White    Never married/single                13000.0  \n",
       "2              Black    Never married/single                20000.0  \n",
       "3              White    Never married/single                    NaN  \n",
       "4              White  Married/spouse present                36000.0  \n",
       "5              White  Married/spouse present                27000.0  \n",
       "6              White  Married/spouse present                11800.0  \n",
       "7              White  Married/spouse present                48000.0  \n",
       "8              Black  Married/spouse present                40000.0  \n",
       "9              White                 Widowed                14600.0  \n",
       "10             White    Never married/single                23000.0  \n",
       "11             White                Divorced                37000.0  \n",
       "12             White                Divorced                32000.0  \n",
       "13             White    Never married/single                    NaN  \n",
       "14             White    Never married/single                 6000.0  \n",
       "15             White  Married/spouse present                16100.0  \n",
       "16             White  Married/spouse present                12000.0  \n",
       "17             White    Never married/single                    NaN  \n",
       "18             White  Married/spouse present                20000.0  \n",
       "19             White  Married/spouse present                 4800.0  \n",
       "20             White  Married/spouse present                28000.0  \n",
       "21             White                 Widowed                31600.0  \n",
       "22             White    Never married/single                    NaN  \n",
       "23             White    Never married/single                49300.0  \n",
       "24             White    Never married/single                    NaN  \n",
       "25             White  Married/spouse present                34320.0  \n",
       "26             White    Never married/single                    NaN  \n",
       "27             Black                 Widowed                 8400.0  \n",
       "28             White    Never married/single                 3700.0  \n",
       "29             White                Divorced                 4800.0  \n",
       "..               ...                     ...                    ...  \n",
       "470            White    Never married/single                    NaN  \n",
       "471            White  Married/spouse present                 2800.0  \n",
       "472            White    Never married/single                 6700.0  \n",
       "473            Black   Married/spouse absent                 6500.0  \n",
       "474            White    Never married/single                16000.0  \n",
       "475            White  Married/spouse present                24000.0  \n",
       "476            White    Never married/single                    NaN  \n",
       "477            Black    Never married/single                    NaN  \n",
       "478            White    Never married/single                    NaN  \n",
       "479            White    Never married/single                    NaN  \n",
       "480            Other    Never married/single                    0.0  \n",
       "481            Black    Never married/single                27000.0  \n",
       "482            White                 Widowed                 9100.0  \n",
       "483            White  Married/spouse present                21000.0  \n",
       "484            White    Never married/single                 9500.0  \n",
       "485            White    Never married/single                 2200.0  \n",
       "486            White    Never married/single                15000.0  \n",
       "487            White  Married/spouse present                 9100.0  \n",
       "488            White    Never married/single                    NaN  \n",
       "489            White  Married/spouse present               103000.0  \n",
       "490            White  Married/spouse present                68000.0  \n",
       "491            White  Married/spouse present                14500.0  \n",
       "492            White    Never married/single                22000.0  \n",
       "493            White  Married/spouse present                18000.0  \n",
       "494            White    Never married/single                    NaN  \n",
       "495            White                Divorced                 8500.0  \n",
       "496            White    Never married/single                    NaN  \n",
       "497            Black                 Widowed                15000.0  \n",
       "498            Black   Married/spouse absent                48600.0  \n",
       "499            White  Married/spouse present                19800.0  \n",
       "\n",
       "[500 rows x 8 columns]"
      ]
     },
     "execution_count": 16,
     "metadata": {},
     "output_type": "execute_result"
    }
   ],
   "source": [
    "cen = pd.read_csv('census.csv')\n",
    "cen"
   ]
  },
  {
   "cell_type": "markdown",
   "metadata": {},
   "source": [
    "### Observations Overall\n",
    "- same year\n",
    "- data is not from all states\n",
    "- wide age range\n",
    "- primarily white in race (skewed, bias?)\n",
    "- people under the age of 15 did not have personal income recorded\n",
    "- various examples of personal income exceeding family income (row 2, row 474, 485, etc) "
   ]
  },
  {
   "cell_type": "code",
   "execution_count": 43,
   "metadata": {},
   "outputs": [
    {
     "data": {
      "text/plain": [
       "<matplotlib.axes._subplots.AxesSubplot at 0x11bc66d50>"
      ]
     },
     "execution_count": 43,
     "metadata": {},
     "output_type": "execute_result"
    },
    {
     "data": {
      "image/png": "[encoded data removed]",
      "text/plain": [
       "<Figure size 432x288 with 1 Axes>"
      ]
     },
     "metadata": {
      "needs_background": "light"
     },
     "output_type": "display_data"
    }
   ],
   "source": [
    "cen['total_family_income'].hist(bins = 20)"
   ]
  },
  {
   "cell_type": "code",
   "execution_count": 47,
   "metadata": {},
   "outputs": [
    {
     "data": {
      "text/plain": [
       "count       485.000000\n",
       "mean      57410.981443\n",
       "std       70732.055954\n",
       "min           0.000000\n",
       "25%       21500.000000\n",
       "50%       43000.000000\n",
       "75%       70700.000000\n",
       "max      892050.000000\n",
       "Name: total_family_income, dtype: float64"
      ]
     },
     "execution_count": 47,
     "metadata": {},
     "output_type": "execute_result"
    }
   ],
   "source": [
    "cen['total_family_income'].describe()"
   ]
  },
  {
   "cell_type": "markdown",
   "metadata": {},
   "source": [
    "The majority of the total family income is under 100,000. There are some outliers at around 400,000, 600,000, and 900,000. The mean is 57411 with a standard deviation of 70732, leaving a range of -13321 to 128143. "
   ]
  },
  {
   "cell_type": "code",
   "execution_count": 44,
   "metadata": {},
   "outputs": [
    {
     "data": {
      "text/plain": [
       "<matplotlib.axes._subplots.AxesSubplot at 0x11be1f890>"
      ]
     },
     "execution_count": 44,
     "metadata": {},
     "output_type": "execute_result"
    },
    {
     "data": {
      "image/png": "[encoded data removed]",
      "text/plain": [
       "<Figure size 432x288 with 1 Axes>"
      ]
     },
     "metadata": {
      "needs_background": "light"
     },
     "output_type": "display_data"
    }
   ],
   "source": [
    "cen['total_personal_income'].hist(bins = 20)"
   ]
  },
  {
   "cell_type": "code",
   "execution_count": 46,
   "metadata": {},
   "outputs": [
    {
     "data": {
      "text/plain": [
       "count       392.000000\n",
       "mean      29081.724490\n",
       "std       46089.291918\n",
       "min       -4400.000000\n",
       "25%        5900.000000\n",
       "50%       17750.000000\n",
       "75%       37000.000000\n",
       "max      456000.000000\n",
       "Name: total_personal_income, dtype: float64"
      ]
     },
     "execution_count": 46,
     "metadata": {},
     "output_type": "execute_result"
    }
   ],
   "source": [
    "cen['total_personal_income'].describe()"
   ]
  },
  {
   "cell_type": "markdown",
   "metadata": {},
   "source": [
    "Almost all of the total personal income is less than 200,000, with outliers at around 300,000 and 500,000. There are only 392 entries from 500 data points. Some entries are negative values, which might infer debt. The mean is 29082 and the standard deviation is 46089, leaving a range of -17007 to 75171."
   ]
  },
  {
   "cell_type": "code",
   "execution_count": 19,
   "metadata": {},
   "outputs": [
    {
     "data": {
      "text/plain": [
       "<matplotlib.axes._subplots.AxesSubplot at 0x11a3a0750>"
      ]
     },
     "execution_count": 19,
     "metadata": {},
     "output_type": "execute_result"
    },
    {
     "data": {
      "image/png": "[encoded data removed]",
      "text/plain": [
       "<Figure size 432x288 with 1 Axes>"
      ]
     },
     "metadata": {
      "needs_background": "light"
     },
     "output_type": "display_data"
    }
   ],
   "source": [
    "cen['census_year'].hist()"
   ]
  },
  {
   "cell_type": "markdown",
   "metadata": {},
   "source": [
    "All data points from the census were taken in the year 2000."
   ]
  },
  {
   "cell_type": "code",
   "execution_count": 52,
   "metadata": {},
   "outputs": [
    {
     "data": {
      "text/plain": [
       "<matplotlib.axes._subplots.AxesSubplot at 0x11c1dcd90>"
      ]
     },
     "execution_count": 52,
     "metadata": {},
     "output_type": "execute_result"
    },
    {
     "data": {
      "image/png": "[encoded data removed]",
      "text/plain": [
       "<Figure size 432x288 with 1 Axes>"
      ]
     },
     "metadata": {
      "needs_background": "light"
     },
     "output_type": "display_data"
    }
   ],
   "source": [
    "cen['age'].hist(bins = 20)"
   ]
  },
  {
   "cell_type": "code",
   "execution_count": 45,
   "metadata": {},
   "outputs": [
    {
     "data": {
      "text/plain": [
       "count    500.000000\n",
       "mean      35.298000\n",
       "std       21.812124\n",
       "min        0.000000\n",
       "25%       17.000000\n",
       "50%       35.000000\n",
       "75%       51.000000\n",
       "max       93.000000\n",
       "Name: age, dtype: float64"
      ]
     },
     "execution_count": 45,
     "metadata": {},
     "output_type": "execute_result"
    }
   ],
   "source": [
    "cen['age'].describe()"
   ]
  },
  {
   "cell_type": "markdown",
   "metadata": {},
   "source": []
  },
  {
   "cell_type": "code",
   "execution_count": 21,
   "metadata": {},
   "outputs": [
    {
     "data": {
      "text/plain": [
       "<matplotlib.axes._subplots.AxesSubplot at 0x11a4b79d0>"
      ]
     },
     "execution_count": 21,
     "metadata": {},
     "output_type": "execute_result"
    },
    {
     "data": {
      "image/png": "[encoded data removed]",
      "text/plain": [
       "<Figure size 432x288 with 1 Axes>"
      ]
     },
     "metadata": {
      "needs_background": "light"
     },
     "output_type": "display_data"
    }
   ],
   "source": [
    "cen_income = cen['total_family_income']-cen['total_personal_income']\n",
    "cen_income.hist()"
   ]
  },
  {
   "cell_type": "code",
   "execution_count": 22,
   "metadata": {},
   "outputs": [
    {
     "data": {
      "text/plain": [
       "array([[<matplotlib.axes._subplots.AxesSubplot object at 0x11a413f90>]],\n",
       "      dtype=object)"
      ]
     },
     "execution_count": 22,
     "metadata": {},
     "output_type": "execute_result"
    },
    {
     "data": {
      "image/png": "[encoded data removed]",
      "text/plain": [
       "<Figure size 432x288 with 1 Axes>"
      ]
     },
     "metadata": {
      "needs_background": "light"
     },
     "output_type": "display_data"
    }
   ],
   "source": [
    "cen_avg_family_state = cen [['state_fips_code','total_family_income']].groupby('state_fips_code').mean()\n",
    "cen_avg_family_state.hist()"
   ]
  },
  {
   "cell_type": "code",
   "execution_count": 23,
   "metadata": {},
   "outputs": [
    {
     "data": {
      "text/plain": [
       "array([[<matplotlib.axes._subplots.AxesSubplot object at 0x11a6d1b90>]],\n",
       "      dtype=object)"
      ]
     },
     "execution_count": 23,
     "metadata": {},
     "output_type": "execute_result"
    },
    {
     "data": {
      "image/png": "[encoded data removed]",
      "text/plain": [
       "<Figure size 432x288 with 1 Axes>"
      ]
     },
     "metadata": {
      "needs_background": "light"
     },
     "output_type": "display_data"
    }
   ],
   "source": [
    "cen_avg_personal_state = cen [['state_fips_code','total_personal_income']].groupby('state_fips_code').mean()\n",
    "cen_avg_personal_state.hist()"
   ]
  },
  {
   "cell_type": "code",
   "execution_count": 24,
   "metadata": {},
   "outputs": [
    {
     "data": {
      "text/plain": [
       "array([[<matplotlib.axes._subplots.AxesSubplot object at 0x11a720b10>]],\n",
       "      dtype=object)"
      ]
     },
     "execution_count": 24,
     "metadata": {},
     "output_type": "execute_result"
    },
    {
     "data": {
      "image/png": "[encoded data removed]",
      "text/plain": [
       "<Figure size 432x288 with 1 Axes>"
      ]
     },
     "metadata": {
      "needs_background": "light"
     },
     "output_type": "display_data"
    }
   ],
   "source": [
    "cen_avg_age_state = cen [['state_fips_code','age']].groupby('state_fips_code').mean()\n",
    "cen_avg_age_state.hist()"
   ]
  },
  {
   "cell_type": "code",
   "execution_count": 25,
   "metadata": {},
   "outputs": [
    {
     "data": {
      "text/plain": [
       "array([[<matplotlib.axes._subplots.AxesSubplot object at 0x11a8efa10>]],\n",
       "      dtype=object)"
      ]
     },
     "execution_count": 25,
     "metadata": {},
     "output_type": "execute_result"
    },
    {
     "data": {
      "image/png": "[encoded data removed]",
      "text/plain": [
       "<Figure size 432x288 with 1 Axes>"
      ]
     },
     "metadata": {
      "needs_background": "light"
     },
     "output_type": "display_data"
    }
   ],
   "source": [
    "cen_avg_personal_age = cen [['age','total_personal_income']].groupby('age').mean()\n",
    "cen_avg_personal_age.hist()"
   ]
  },
  {
   "cell_type": "code",
   "execution_count": 26,
   "metadata": {},
   "outputs": [
    {
     "data": {
      "text/plain": [
       "array([[<matplotlib.axes._subplots.AxesSubplot object at 0x11a9da750>]],\n",
       "      dtype=object)"
      ]
     },
     "execution_count": 26,
     "metadata": {},
     "output_type": "execute_result"
    },
    {
     "data": {
      "image/png": "[encoded data removed]",
      "text/plain": [
       "<Figure size 432x288 with 1 Axes>"
      ]
     },
     "metadata": {
      "needs_background": "light"
     },
     "output_type": "display_data"
    }
   ],
   "source": [
    "cen_avg_family_age = cen [['age','total_family_income']].groupby('age').mean()\n",
    "cen_avg_family_age.hist()"
   ]
  },
  {
   "cell_type": "code",
   "execution_count": 27,
   "metadata": {},
   "outputs": [
    {
     "data": {
      "text/plain": [
       "array([[<matplotlib.axes._subplots.AxesSubplot object at 0x11aae2e10>]],\n",
       "      dtype=object)"
      ]
     },
     "execution_count": 27,
     "metadata": {},
     "output_type": "execute_result"
    },
    {
     "data": {
      "image/png": "[encoded data removed]",
      "text/plain": [
       "<Figure size 432x288 with 1 Axes>"
      ]
     },
     "metadata": {
      "needs_background": "light"
     },
     "output_type": "display_data"
    }
   ],
   "source": [
    "cen_avg_family_race = cen [['race_general','total_family_income']].groupby('race_general').mean()\n",
    "cen_avg_family_race.hist()"
   ]
  },
  {
   "cell_type": "code",
   "execution_count": 28,
   "metadata": {},
   "outputs": [
    {
     "data": {
      "text/plain": [
       "array([[<matplotlib.axes._subplots.AxesSubplot object at 0x11abd3c90>]],\n",
       "      dtype=object)"
      ]
     },
     "execution_count": 28,
     "metadata": {},
     "output_type": "execute_result"
    },
    {
     "data": {
      "image/png": "[encoded data removed]",
      "text/plain": [
       "<Figure size 432x288 with 1 Axes>"
      ]
     },
     "metadata": {
      "needs_background": "light"
     },
     "output_type": "display_data"
    }
   ],
   "source": [
    "cen_avg_personal_race = cen [['race_general','total_personal_income']].groupby('race_general').mean()\n",
    "cen_avg_personal_race.hist()"
   ]
  },
  {
   "cell_type": "code",
   "execution_count": 29,
   "metadata": {},
   "outputs": [
    {
     "data": {
      "text/plain": [
       "array([[<matplotlib.axes._subplots.AxesSubplot object at 0x11acc8f10>]],\n",
       "      dtype=object)"
      ]
     },
     "execution_count": 29,
     "metadata": {},
     "output_type": "execute_result"
    },
    {
     "data": {
      "image/png": "[encoded data removed]",
      "text/plain": [
       "<Figure size 432x288 with 1 Axes>"
      ]
     },
     "metadata": {
      "needs_background": "light"
     },
     "output_type": "display_data"
    }
   ],
   "source": [
    "cen_avg_age_race = cen [['race_general','age']].groupby('race_general').mean()\n",
    "cen_avg_age_race.hist()"
   ]
  },
  {
   "cell_type": "code",
   "execution_count": 30,
   "metadata": {},
   "outputs": [
    {
     "data": {
      "text/plain": [
       "array([[<matplotlib.axes._subplots.AxesSubplot object at 0x11adc7e90>]],\n",
       "      dtype=object)"
      ]
     },
     "execution_count": 30,
     "metadata": {},
     "output_type": "execute_result"
    },
    {
     "data": {
      "image/png": "[encoded data removed]",
      "text/plain": [
       "<Figure size 432x288 with 1 Axes>"
      ]
     },
     "metadata": {
      "needs_background": "light"
     },
     "output_type": "display_data"
    }
   ],
   "source": [
    "cen_avg_age_sex = cen [['sex','age']].groupby('sex').mean()\n",
    "cen_avg_age_sex.hist()"
   ]
  },
  {
   "cell_type": "code",
   "execution_count": 31,
   "metadata": {},
   "outputs": [
    {
     "data": {
      "text/plain": [
       "array([[<matplotlib.axes._subplots.AxesSubplot object at 0x11aeb2750>]],\n",
       "      dtype=object)"
      ]
     },
     "execution_count": 31,
     "metadata": {},
     "output_type": "execute_result"
    },
    {
     "data": {
      "image/png": "[encoded data removed]",
      "text/plain": [
       "<Figure size 432x288 with 1 Axes>"
      ]
     },
     "metadata": {
      "needs_background": "light"
     },
     "output_type": "display_data"
    }
   ],
   "source": [
    "cen_avg_family_sex = cen [['sex','total_family_income']].groupby('sex').mean()\n",
    "cen_avg_family_sex.hist()"
   ]
  },
  {
   "cell_type": "code",
   "execution_count": 32,
   "metadata": {},
   "outputs": [
    {
     "data": {
      "text/plain": [
       "array([[<matplotlib.axes._subplots.AxesSubplot object at 0x11aefd390>]],\n",
       "      dtype=object)"
      ]
     },
     "execution_count": 32,
     "metadata": {},
     "output_type": "execute_result"
    },
    {
     "data": {
      "image/png": "[encoded data removed]",
      "text/plain": [
       "<Figure size 432x288 with 1 Axes>"
      ]
     },
     "metadata": {
      "needs_background": "light"
     },
     "output_type": "display_data"
    }
   ],
   "source": [
    "cen_avg_personal_sex = cen [['sex','total_personal_income']].groupby('sex').mean()\n",
    "cen_avg_personal_sex.hist()"
   ]
  },
  {
   "cell_type": "code",
   "execution_count": 33,
   "metadata": {},
   "outputs": [
    {
     "data": {
      "text/plain": [
       "array([[<matplotlib.axes._subplots.AxesSubplot object at 0x11b068cd0>]],\n",
       "      dtype=object)"
      ]
     },
     "execution_count": 33,
     "metadata": {},
     "output_type": "execute_result"
    },
    {
     "data": {
      "image/png": "[encoded data removed]",
      "text/plain": [
       "<Figure size 432x288 with 1 Axes>"
      ]
     },
     "metadata": {
      "needs_background": "light"
     },
     "output_type": "display_data"
    }
   ],
   "source": [
    "cen_avg_family_marital = cen [['marital_status','total_family_income']].groupby('marital_status').mean()\n",
    "cen_avg_family_marital.hist()"
   ]
  },
  {
   "cell_type": "code",
   "execution_count": 34,
   "metadata": {},
   "outputs": [
    {
     "data": {
      "text/plain": [
       "array([[<matplotlib.axes._subplots.AxesSubplot object at 0x11b138790>]],\n",
       "      dtype=object)"
      ]
     },
     "execution_count": 34,
     "metadata": {},
     "output_type": "execute_result"
    },
    {
     "data": {
      "image/png": "[encoded data removed]",
      "text/plain": [
       "<Figure size 432x288 with 1 Axes>"
      ]
     },
     "metadata": {
      "needs_background": "light"
     },
     "output_type": "display_data"
    }
   ],
   "source": [
    "cen_avg_personal_marital = cen [['marital_status','total_personal_income']].groupby('marital_status').mean()\n",
    "cen_avg_personal_marital.hist()"
   ]
  },
  {
   "cell_type": "code",
   "execution_count": 35,
   "metadata": {},
   "outputs": [
    {
     "data": {
      "text/plain": [
       "array([[<matplotlib.axes._subplots.AxesSubplot object at 0x11b28d8d0>]],\n",
       "      dtype=object)"
      ]
     },
     "execution_count": 35,
     "metadata": {},
     "output_type": "execute_result"
    },
    {
     "data": {
      "image/png": "[encoded data removed]",
      "text/plain": [
       "<Figure size 432x288 with 1 Axes>"
      ]
     },
     "metadata": {
      "needs_background": "light"
     },
     "output_type": "display_data"
    }
   ],
   "source": [
    "cen_avg_age_marital = cen [['marital_status','age']].groupby('marital_status').mean()\n",
    "cen_avg_age_marital.hist()"
   ]
  },
  {
   "cell_type": "code",
   "execution_count": 36,
   "metadata": {},
   "outputs": [
    {
     "data": {
      "text/plain": [
       "array([[<matplotlib.axes._subplots.AxesSubplot object at 0x11b332190>]],\n",
       "      dtype=object)"
      ]
     },
     "execution_count": 36,
     "metadata": {},
     "output_type": "execute_result"
    },
    {
     "data": {
      "image/png": "[encoded data removed]",
      "text/plain": [
       "<Figure size 432x288 with 1 Axes>"
      ]
     },
     "metadata": {
      "needs_background": "light"
     },
     "output_type": "display_data"
    }
   ],
   "source": [
    "cen_avg_personal_family = cen [['total_family_income','total_personal_income']].groupby('total_family_income').mean()\n",
    "cen_avg_personal_family.hist()"
   ]
  },
  {
   "cell_type": "code",
   "execution_count": 37,
   "metadata": {},
   "outputs": [
    {
     "data": {
      "text/plain": [
       "array([[<matplotlib.axes._subplots.AxesSubplot object at 0x11b448490>]],\n",
       "      dtype=object)"
      ]
     },
     "execution_count": 37,
     "metadata": {},
     "output_type": "execute_result"
    },
    {
     "data": {
      "image/png": "[encoded data removed]",
      "text/plain": [
       "<Figure size 432x288 with 1 Axes>"
      ]
     },
     "metadata": {
      "needs_background": "light"
     },
     "output_type": "display_data"
    }
   ],
   "source": [
    "cen_avg_age_family = cen [['total_family_income','age']].groupby('total_family_income').mean()\n",
    "cen_avg_age_family.hist()"
   ]
  },
  {
   "cell_type": "code",
   "execution_count": 38,
   "metadata": {},
   "outputs": [
    {
     "data": {
      "text/plain": [
       "array([[<matplotlib.axes._subplots.AxesSubplot object at 0x11b266250>]],\n",
       "      dtype=object)"
      ]
     },
     "execution_count": 38,
     "metadata": {},
     "output_type": "execute_result"
    },
    {
     "data": {
      "image/png": "[encoded data removed]",
      "text/plain": [
       "<Figure size 432x288 with 1 Axes>"
      ]
     },
     "metadata": {
      "needs_background": "light"
     },
     "output_type": "display_data"
    }
   ],
   "source": [
    "cen_avg_age_personal = cen [['total_personal_income','age']].groupby('total_personal_income').mean()\n",
    "cen_avg_age_personal.hist()"
   ]
  },
  {
   "cell_type": "code",
   "execution_count": 39,
   "metadata": {},
   "outputs": [
    {
     "data": {
      "text/plain": [
       "array([[<matplotlib.axes._subplots.AxesSubplot object at 0x11b583650>]],\n",
       "      dtype=object)"
      ]
     },
     "execution_count": 39,
     "metadata": {},
     "output_type": "execute_result"
    },
    {
     "data": {
      "image/png": "[encoded data removed]",
      "text/plain": [
       "<Figure size 432x288 with 1 Axes>"
      ]
     },
     "metadata": {
      "needs_background": "light"
     },
     "output_type": "display_data"
    }
   ],
   "source": [
    "cen_avg_total_personal = cen [['total_personal_income','total_family_income']].groupby('total_personal_income').mean()\n",
    "cen_avg_total_personal.hist()"
   ]
  },
  {
   "cell_type": "code",
   "execution_count": 40,
   "metadata": {},
   "outputs": [
    {
     "data": {
      "text/plain": [
       "array([[<matplotlib.axes._subplots.AxesSubplot object at 0x11b743e50>,\n",
       "        <matplotlib.axes._subplots.AxesSubplot object at 0x11b7e7c50>],\n",
       "       [<matplotlib.axes._subplots.AxesSubplot object at 0x11b821e10>,\n",
       "        <matplotlib.axes._subplots.AxesSubplot object at 0x11b85bfd0>]],\n",
       "      dtype=object)"
      ]
     },
     "execution_count": 40,
     "metadata": {},
     "output_type": "execute_result"
    },
    {
     "data": {
      "image/png": "[encoded data removed]",
      "text/plain": [
       "<Figure size 432x288 with 4 Axes>"
      ]
     },
     "metadata": {
      "needs_background": "light"
     },
     "output_type": "display_data"
    }
   ],
   "source": [
    "cen.hist()"
   ]
  },
  {
   "cell_type": "code",
   "execution_count": null,
   "metadata": {},
   "outputs": [],
   "source": []
  }
 ],
 "metadata": {
  "kernelspec": {
   "display_name": "Python 2",
   "language": "python",
   "name": "python2"
  },
  "language_info": {
   "codemirror_mode": {
    "name": "ipython",
    "version": 2
   },
   "file_extension": ".py",
   "mimetype": "text/x-python",
   "name": "python",
   "nbconvert_exporter": "python",
   "pygments_lexer": "ipython2",
   "version": "2.7.16"
  }
 },
 "nbformat": 4,
 "nbformat_minor": 2
}
