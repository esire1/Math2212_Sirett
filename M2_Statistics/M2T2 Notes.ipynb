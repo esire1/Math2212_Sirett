{
 "cells": [
  {
   "cell_type": "markdown",
   "metadata": {},
   "source": [
    "## Module 3 Topic 3 - Intro to EDA (explority data analysis)\n",
    "\n",
    "- getting a rough sense of the data\n",
    "- meant for human consumption\n",
    "    - want to simplify things\n",
    "    \n",
    "1. Data visualizations\n",
    "- histograms, bar charts, box plots, etc\n",
    "- lose a lot of information when visualizing, gain interpretability (the ability to interpret)\n",
    "    - when you grab a glass fast, you lose some of the water in it\n",
    "\n",
    "2. Data summaries\n",
    "- describing a lot of data with just a few important numbers (mean, standard deviation, etc)"
   ]
  },
  {
   "cell_type": "markdown",
   "metadata": {},
   "source": [
    "#### Data Cleaning\n",
    "- a part of the data science work flow\n",
    "- the most important part of this is identifying outliers\n",
    "    - an outlier is a data point far away from the other data\n",
    "    - some outliers are due to error (human, typo, broken technology)\n",
    "    - some are a part of the picture we want to pain (i.e. incredibly rich people)\n",
    "- it's important to have domain experts as part of your team\n",
    "\n",
    "--------------------------------------------------------------------\n",
    "\n",
    "Part of the goal of doing these data summaries and visualizations is to remove the outliers then perform a \"real\" exploratory data analysis after outliers are removed. \n",
    "\n",
    "Topics M2T4 and M2T5 will cover procedures of EDA and removing outliers, we will now cover the motivation and descriptions. "
   ]
  },
  {
   "cell_type": "markdown",
   "metadata": {},
   "source": [
    "## Types of data and variables\n",
    "Data comes in two flavors: numerical and categorical\n",
    "- categorical: a variable that has a finite number of values as categories (e.g. demographic, residency, grade (in high school), etc)\n",
    "    - ordinal (grade)\n",
    "    - non-ordinal (demographic)\n",
    "- numerical: a variable has values that are numbers\n",
    "    - discrete\n",
    "    - continuous\n",
    "- some data is more ambiguous (star ratings on Amazon)\n",
    "    - depends on perspective\n",
    "- can turn numerical data into categorical data by \"binning it\"\n",
    "    - age is a numerical variable, age range is a categorical variable"
   ]
  },
  {
   "cell_type": "markdown",
   "metadata": {},
   "source": [
    "# The Basics\n",
    "Start by identifying how many and what types of variables are present\n",
    "\n",
    "Get rid of some of the variables to make the data more manageable"
   ]
  },
  {
   "cell_type": "code",
   "execution_count": null,
   "metadata": {},
   "outputs": [],
   "source": []
  }
 ],
 "metadata": {
  "kernelspec": {
   "display_name": "Python 2",
   "language": "python",
   "name": "python2"
  },
  "language_info": {
   "codemirror_mode": {
    "name": "ipython",
    "version": 2
   },
   "file_extension": ".py",
   "mimetype": "text/x-python",
   "name": "python",
   "nbconvert_exporter": "python",
   "pygments_lexer": "ipython2",
   "version": "2.7.16"
  }
 },
 "nbformat": 4,
 "nbformat_minor": 2
}
