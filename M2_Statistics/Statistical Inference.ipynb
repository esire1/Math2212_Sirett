{
 "cells": [
  {
   "cell_type": "markdown",
   "metadata": {},
   "source": [
    "# Statistical Inference"
   ]
  },
  {
   "cell_type": "markdown",
   "metadata": {},
   "source": [
    "#### Example: Vaccines\n",
    "- part of the development process is testing whether or not it is effective\n",
    "- control group (not vaccinated) and treatment group (is vaccinated)\n",
    "- double blind-participants and administers are unaware of the presence of a placebo\n",
    "\n",
    "$n_c = $ number of people in control group\n",
    "\n",
    "$n_T = $ number of people in treatment group\n",
    "\n",
    "The experiment is performed on $n_c + n_T$ people (sample group), but we want to know how the vaccine performs on all people (all 7 billion, population). \n",
    "\n",
    "Inference is about inferring \"truths\" about the population from data on the sample."
   ]
  },
  {
   "cell_type": "code",
   "execution_count": null,
   "metadata": {},
   "outputs": [],
   "source": []
  }
 ],
 "metadata": {
  "kernelspec": {
   "display_name": "Python 2",
   "language": "python",
   "name": "python2"
  },
  "language_info": {
   "codemirror_mode": {
    "name": "ipython",
    "version": 2
   },
   "file_extension": ".py",
   "mimetype": "text/x-python",
   "name": "python",
   "nbconvert_exporter": "python",
   "pygments_lexer": "ipython2",
   "version": "2.7.16"
  }
 },
 "nbformat": 4,
 "nbformat_minor": 2
}
