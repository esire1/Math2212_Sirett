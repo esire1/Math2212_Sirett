{
 "cells": [
  {
   "cell_type": "code",
   "execution_count": 11,
   "metadata": {},
   "outputs": [],
   "source": [
    "import  pandas  as pd\n",
    "import  numpy  as np\n",
    "import  matplotlib.pyplot  as plt"
   ]
  },
  {
   "cell_type": "code",
   "execution_count": 12,
   "metadata": {},
   "outputs": [
    {
     "data": {
      "text/plain": [
       "[[39,\n",
       "  'State-gov',\n",
       "  77516,\n",
       "  'Bachelors',\n",
       "  13,\n",
       "  'Never-married',\n",
       "  'Adm-clerical',\n",
       "  'Not-in-family',\n",
       "  'White',\n",
       "  'Male',\n",
       "  2174,\n",
       "  0,\n",
       "  40,\n",
       "  'United-States',\n",
       "  '<=50K'],\n",
       " [50,\n",
       "  'Self-emp-not-inc',\n",
       "  83311,\n",
       "  'Bachelors',\n",
       "  13,\n",
       "  'Married-civ-spouse',\n",
       "  'Exec-managerial',\n",
       "  'Husband',\n",
       "  'White',\n",
       "  'Male',\n",
       "  0,\n",
       "  0,\n",
       "  13,\n",
       "  'United-States',\n",
       "  '<=50K']]"
      ]
     },
     "execution_count": 12,
     "metadata": {},
     "output_type": "execute_result"
    }
   ],
   "source": [
    "file = open('adult.data', 'r')\n",
    "def chr_int(a):\n",
    "    if a.isdigit(): return int(a)\n",
    "    else: return 0\n",
    "    \n",
    "adult = []\n",
    "# creating an empty array\n",
    "for line in file:\n",
    "    data1 = line.split(', ')\n",
    "    if len(data1) == 15:\n",
    "        adult.append([\n",
    "            chr_int(data1[0]), data1[1],\n",
    "            chr_int(data1[2]), data1[3],\n",
    "            chr_int(data1[4]), data1[5],\n",
    "            data1[6], data1[7], data1[8],\n",
    "            data1[9], chr_int(data1[10]),\n",
    "            chr_int(data1[11]),\n",
    "            chr_int(data1[12]),\n",
    "            data1[13], data1[14].strip()\n",
    "        ])\n",
    "adult[0:2]"
   ]
  },
  {
   "cell_type": "markdown",
   "metadata": {},
   "source": [
    "# Worksheet 2\n",
    "\n",
    "- What does the 'r' do in the first line?\n",
    "    - Makes sure that the data is being read into R\n",
    "- Describe the function chr_int in the second line\n",
    "    - takes value entered and changes it\n",
    "    - if the input 'a' is a digit, it turns it into an integer\n",
    "    - if 'a' is not a digit then it returns 0\n",
    "- Try compiling this with the 'datal = line.split(', ')' without that space, what happens?\n",
    "\n",
    "# Worksheet 3\n",
    "\n",
    "- What might be the best data structure to place this data in?\n",
    "dataframe"
   ]
  },
  {
   "cell_type": "code",
   "execution_count": 13,
   "metadata": {},
   "outputs": [
    {
     "ename": "NameError",
     "evalue": "name 'data' is not defined",
     "output_type": "error",
     "traceback": [
      "\u001b[0;31m---------------------------------------------------------------------------\u001b[0m",
      "\u001b[0;31mNameError\u001b[0m                                 Traceback (most recent call last)",
      "\u001b[0;32m<ipython-input-13-191ab8713416>\u001b[0m in \u001b[0;36m<module>\u001b[0;34m()\u001b[0m\n\u001b[1;32m      2\u001b[0m \u001b[0;34m\u001b[0m\u001b[0m\n\u001b[1;32m      3\u001b[0m adult = pd.DataFrame(\n\u001b[0;32m----> 4\u001b[0;31m     \u001b[0mdata\u001b[0m\u001b[0;34m,\u001b[0m\u001b[0;34m\u001b[0m\u001b[0m\n\u001b[0m\u001b[1;32m      5\u001b[0m     columns = [\n\u001b[1;32m      6\u001b[0m         \u001b[0;34m'age'\u001b[0m \u001b[0;34m,\u001b[0m \u001b[0;34m'type-employer'\u001b[0m \u001b[0;34m,\u001b[0m \u001b[0;34m'fnlwgt'\u001b[0m \u001b[0;34m,\u001b[0m\u001b[0;34m\u001b[0m\u001b[0m\n",
      "\u001b[0;31mNameError\u001b[0m: name 'data' is not defined"
     ]
    }
   ],
   "source": [
    "# turn data (which is currently an array/list) into a dataframe\n",
    "\n",
    "adult = pd.DataFrame(\n",
    "    data,\n",
    "    columns = [\n",
    "        'age' , 'type-employer' , 'fnlwgt' ,\n",
    "        'education' , 'education_num' , 'marital' ,\n",
    "        'occupation' , 'relationship' , 'race' , \n",
    "        'sex' , 'capital_gain' , 'capital_loss' ,\n",
    "        'hr_per_week' , 'country' , 'income'\n",
    "    ]\n",
    ")\n",
    "\n",
    "adult.head()"
   ]
  },
  {
   "cell_type": "markdown",
   "metadata": {},
   "source": [
    "## Worksheet 4\n",
    "The last cell has a bunch of column names, but the original data file didn't have any column names. How does Python know how to associate column name to its column. \n",
    "\n",
    "The commas separate the different column entries. Each line has a siliar organization/order to the data. \n",
    "\n",
    "There is more freedom in naming each column. "
   ]
  },
  {
   "cell_type": "markdown",
   "metadata": {},
   "source": [
    "## Worksheet 5\n",
    "Print the first few lines of the adult dataframe. Go to the pandas documentation website and read about the 'columns' parameter. \n",
    "\n",
    "See above, the head is printed."
   ]
  },
  {
   "cell_type": "markdown",
   "metadata": {},
   "source": [
    "### Recall the guiding research question\n",
    "Are men more likely than women to become high income earners? Where hihg income is earning more than $50K/year\n",
    "\n",
    "This is referring to a proportion of men who earn above, below and equal to the amount. This is different than asking if male ER doctors earn more than female ER doctors."
   ]
  },
  {
   "cell_type": "markdown",
   "metadata": {},
   "source": [
    "#### We'll use this research question to insprie the creation of several sub-dataframes to make our analysis a bit easier.\n",
    "\n",
    "For example\n",
    "- all men\n",
    "- all women\n",
    "- high income men\n",
    "- high income women\n",
    "- low income men\n",
    "- low income women"
   ]
  },
  {
   "cell_type": "code",
   "execution_count": 9,
   "metadata": {},
   "outputs": [
    {
     "ename": "TypeError",
     "evalue": "list indices must be integers, not str",
     "output_type": "error",
     "traceback": [
      "\u001b[0;31m---------------------------------------------------------------------------\u001b[0m",
      "\u001b[0;31mTypeError\u001b[0m                                 Traceback (most recent call last)",
      "\u001b[0;32m<ipython-input-9-f7b61703ec1a>\u001b[0m in \u001b[0;36m<module>\u001b[0;34m()\u001b[0m\n\u001b[1;32m      1\u001b[0m \u001b[0;31m# filtering columns\u001b[0m\u001b[0;34m\u001b[0m\u001b[0;34m\u001b[0m\u001b[0m\n\u001b[0;32m----> 2\u001b[0;31m \u001b[0mmen\u001b[0m \u001b[0;34m=\u001b[0m \u001b[0madult\u001b[0m\u001b[0;34m[\u001b[0m \u001b[0madult\u001b[0m\u001b[0;34m[\u001b[0m\u001b[0;34m'sex'\u001b[0m\u001b[0;34m]\u001b[0m \u001b[0;34m==\u001b[0m \u001b[0;34m'Male'\u001b[0m \u001b[0;34m]\u001b[0m\u001b[0;34m\u001b[0m\u001b[0m\n\u001b[0m\u001b[1;32m      3\u001b[0m \u001b[0mwomen\u001b[0m \u001b[0;34m=\u001b[0m \u001b[0madult\u001b[0m\u001b[0;34m[\u001b[0m\u001b[0madult\u001b[0m\u001b[0;34m[\u001b[0m\u001b[0;34m'sex'\u001b[0m\u001b[0;34m]\u001b[0m \u001b[0;34m==\u001b[0m \u001b[0;34m'Female'\u001b[0m\u001b[0;34m]\u001b[0m\u001b[0;34m\u001b[0m\u001b[0m\n\u001b[1;32m      4\u001b[0m \u001b[0mmen_high_income\u001b[0m \u001b[0;34m=\u001b[0m \u001b[0mmen\u001b[0m\u001b[0;34m[\u001b[0m \u001b[0mmen\u001b[0m\u001b[0;34m[\u001b[0m\u001b[0;34m'income'\u001b[0m\u001b[0;34m]\u001b[0m \u001b[0;34m==\u001b[0m \u001b[0;34m'>50K'\u001b[0m \u001b[0;34m]\u001b[0m\u001b[0;34m\u001b[0m\u001b[0m\n\u001b[1;32m      5\u001b[0m \u001b[0mwomen_high_income\u001b[0m \u001b[0;34m=\u001b[0m \u001b[0mwomen\u001b[0m\u001b[0;34m[\u001b[0m \u001b[0mwomen\u001b[0m\u001b[0;34m[\u001b[0m\u001b[0;34m'income'\u001b[0m\u001b[0;34m]\u001b[0m \u001b[0;34m==\u001b[0m \u001b[0;34m'>50K'\u001b[0m \u001b[0;34m]\u001b[0m\u001b[0;34m\u001b[0m\u001b[0m\n",
      "\u001b[0;31mTypeError\u001b[0m: list indices must be integers, not str"
     ]
    }
   ],
   "source": [
    "# filtering columns\n",
    "men = adult[ adult['sex'] == 'Male' ]\n",
    "women = adult[adult['sex'] == 'Female']\n",
    "men_high_income = men[ men['income'] == '>50K' ]\n",
    "women_high_income = women[ women['income'] == '>50K' ]\n",
    "men_low_income = adult[ (adult['sex']=='Male') & (adult['income']=='<=50K') ]\n",
    "women_low_income = adult[ (adult['sex']=='Female') & (adult['income']=='<=50K') ]"
   ]
  },
  {
   "cell_type": "code",
   "execution_count": null,
   "metadata": {},
   "outputs": [],
   "source": [
    "women_high_income"
   ]
  },
  {
   "cell_type": "markdown",
   "metadata": {},
   "source": [
    "# Worksheet 1\n",
    "Numerical:\n",
    "- age, final weight, hours per week, capitol loss\n",
    "Categorical: \n",
    "- type employer, education, marital, occupation, relationship, education number, sex, race, country, income"
   ]
  },
  {
   "cell_type": "code",
   "execution_count": null,
   "metadata": {},
   "outputs": [],
   "source": []
  }
 ],
 "metadata": {
  "kernelspec": {
   "display_name": "Python 2",
   "language": "python",
   "name": "python2"
  },
  "language_info": {
   "codemirror_mode": {
    "name": "ipython",
    "version": 2
   },
   "file_extension": ".py",
   "mimetype": "text/x-python",
   "name": "python",
   "nbconvert_exporter": "python",
   "pygments_lexer": "ipython2",
   "version": "2.7.16"
  }
 },
 "nbformat": 4,
 "nbformat_minor": 2
}
