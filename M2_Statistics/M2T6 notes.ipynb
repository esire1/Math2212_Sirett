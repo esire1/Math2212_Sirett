{
 "cells": [
  {
   "cell_type": "markdown",
   "metadata": {},
   "source": [
    "# M2T6\n",
    "\n",
    "correlation of -1 indicates a strong relationship moving in the opposite direction, 0 indicates no relation or a strong non-linear relation, 1 indicates a strong relationship moving in the same direction\n",
    "\n",
    "closer to the absolute value of 1, stronger the correlation\n",
    "\n",
    "Ex. If X=hours exercised/week and Y=Resting blood pressure, X and Y would be expected to have a negative correlation\n",
    "\n",
    "Ex. If X=netflix watched per week and Y=wind chills in Mumbai, X and Y would have zero correlation\n",
    "\n",
    "CORRELATION IS NOT NECESSARILY CAUSATION!!! Just as a rectangle is not necessarily and square.\n",
    "\n",
    "Ex. Pizza sales don't necessarily cause ice cream sales to increase\n",
    "\n",
    "CONFOUNDING VARIABLE: may influence both variables (i.e. population on the boardwalk affect both pizza and ice cream sales, number of people might be based off of temperature)"
   ]
  },
  {
   "cell_type": "code",
   "execution_count": null,
   "metadata": {},
   "outputs": [],
   "source": []
  }
 ],
 "metadata": {
  "kernelspec": {
   "display_name": "Python 2",
   "language": "python",
   "name": "python2"
  },
  "language_info": {
   "codemirror_mode": {
    "name": "ipython",
    "version": 2
   },
   "file_extension": ".py",
   "mimetype": "text/x-python",
   "name": "python",
   "nbconvert_exporter": "python",
   "pygments_lexer": "ipython2",
   "version": "2.7.16"
  }
 },
 "nbformat": 4,
 "nbformat_minor": 2
}
