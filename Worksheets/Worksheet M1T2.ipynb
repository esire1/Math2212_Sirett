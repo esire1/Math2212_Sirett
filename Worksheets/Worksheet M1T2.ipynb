{
 "cells": [
  {
   "cell_type": "code",
   "execution_count": 1,
   "metadata": {},
   "outputs": [],
   "source": [
    "import  pandas  as pd\n",
    "import  numpy  as np\n",
    "import  matplotlib.pyplot as plt"
   ]
  },
  {
   "cell_type": "markdown",
   "metadata": {},
   "source": [
    "# Question 1"
   ]
  },
  {
   "cell_type": "markdown",
   "metadata": {},
   "source": [
    "See the \"FootballDataframe\" notebook for the code part of Question 1\n"
   ]
  },
  {
   "cell_type": "markdown",
   "metadata": {},
   "source": [
    "1. Delimeters being used include commas, different types of brackets, and parenthesis. \n",
    "2. The indentation helps to read the code more clearly. It separates different sections in the code. For example, all of the lists start on the same indent just as all of the data column names start on the same indent. It's a way of telling the reader, \"hey these things are connected and relative\" because they start with the same indentation. \n",
    "3. 'pd' helps to access the Panda dataframe and utilize it's functions. It organizes these components of 'year', 'team', etc. into the data format of a chart. "
   ]
  },
  {
   "cell_type": "markdown",
   "metadata": {},
   "source": [
    "# Question 2"
   ]
  },
  {
   "cell_type": "markdown",
   "metadata": {},
   "source": [
    "See 'sandbox' notebook for Question 2"
   ]
  },
  {
   "cell_type": "markdown",
   "metadata": {},
   "source": [
    "# Question 3"
   ]
  },
  {
   "cell_type": "markdown",
   "metadata": {},
   "source": [
    "See 'M1_Eurostat'notebook for Question 3"
   ]
  },
  {
   "cell_type": "markdown",
   "metadata": {},
   "source": [
    "1. In this code, 'edu' is the name of the data set. It is necessary to give the data set a name so that it can be referred to and used with certain functions such as head(), describe(), etc. \n",
    "2. The 'pd' in 'read_csv' calls the panda Dataframe to be utilized\n",
    "3. The 'read_csv'is a function from panda that has special uses such as being able to select or omit certain data from being exported\n",
    "4. 'usecols' might be an abbreviation for something around the lines of \"use columns\" which infers that it is pulling information from 'TIME', 'GEO', and 'Value' to be used in the chart\n",
    "5. The equal sign functions as different types of clarifications and distinctions that help the comupter understand what is wanted from the code"
   ]
  },
  {
   "cell_type": "markdown",
   "metadata": {},
   "source": [
    "# Question 4"
   ]
  },
  {
   "cell_type": "markdown",
   "metadata": {},
   "source": [
    "1. 'edu.head()' prints out the first few rows of the data from 'edu'\n",
    "2. 'edu.tail()' prints out the last few rows of the data from 'edu'\n",
    "3. 'edu.describe()' prints out certain values calculated from the 'edu' data such as mean, standard deviation, count, min, max, etc"
   ]
  },
  {
   "cell_type": "code",
   "execution_count": null,
   "metadata": {},
   "outputs": [],
   "source": []
  }
 ],
 "metadata": {
  "kernelspec": {
   "display_name": "Python 2",
   "language": "python",
   "name": "python2"
  },
  "language_info": {
   "codemirror_mode": {
    "name": "ipython",
    "version": 2
   },
   "file_extension": ".py",
   "mimetype": "text/x-python",
   "name": "python",
   "nbconvert_exporter": "python",
   "pygments_lexer": "ipython2",
   "version": "2.7.16"
  }
 },
 "nbformat": 4,
 "nbformat_minor": 2
}
