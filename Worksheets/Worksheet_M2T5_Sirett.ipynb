{
 "cells": [
  {
   "cell_type": "markdown",
   "metadata": {},
   "source": [
    "## Question 1\n",
    "\n",
    "See \"Worksheet 1 M2T5\" in \"M2_Adult\" file."
   ]
  },
  {
   "cell_type": "markdown",
   "metadata": {},
   "source": [
    "## Question 2\n",
    "\n",
    "See \"Worksheet 2 M2T5\" in \"M2_Adult\" file."
   ]
  },
  {
   "cell_type": "markdown",
   "metadata": {},
   "source": [
    "## Question 3\n",
    "\n",
    "What python function can we use to count how many of each level, i.e. possible response, occurs within each categorical variable?\n",
    "\n",
    "groupby()"
   ]
  },
  {
   "cell_type": "markdown",
   "metadata": {},
   "source": [
    "## Question 4\n",
    "\n",
    "What does each part of that code below do? Make barplots for the remaining categorical variables.\n",
    "\n",
    "\"count_emp = adult.groupby([\"type_employer\"]).size()\" gives the total number of employer types in the adult datafram\n",
    "\n",
    "\"count_emp\" prints the number from the previous line\n",
    "\n",
    "\"count_emp.plot(kind = 'barh')\" plots the numbers from the previous line in the form of a bar graph"
   ]
  },
  {
   "cell_type": "markdown",
   "metadata": {},
   "source": [
    "## Question 5\n",
    "\n",
    "Pick one or two categorical variables, which levels have very short bars relative to the other. \n",
    "\n",
    "Federal government and self employed encorporations have very short bars relative to the others. "
   ]
  },
  {
   "cell_type": "code",
   "execution_count": null,
   "metadata": {},
   "outputs": [],
   "source": []
  }
 ],
 "metadata": {
  "kernelspec": {
   "display_name": "Python 2",
   "language": "python",
   "name": "python2"
  },
  "language_info": {
   "codemirror_mode": {
    "name": "ipython",
    "version": 2
   },
   "file_extension": ".py",
   "mimetype": "text/x-python",
   "name": "python",
   "nbconvert_exporter": "python",
   "pygments_lexer": "ipython2",
   "version": "2.7.16"
  }
 },
 "nbformat": 4,
 "nbformat_minor": 2
}
